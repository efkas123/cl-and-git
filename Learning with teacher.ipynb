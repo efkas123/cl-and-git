{
 "cells": [
  {
   "cell_type": "code",
   "execution_count": null,
   "metadata": {},
   "outputs": [],
   "source": [
    "#!pip install scikit-learn"
   ]
  },
  {
   "cell_type": "code",
   "execution_count": null,
   "metadata": {},
   "outputs": [],
   "source": [
    "#!pip install pandas"
   ]
  },
  {
   "cell_type": "code",
   "execution_count": null,
   "metadata": {},
   "outputs": [],
   "source": [
    "#!pip install matplotlib"
   ]
  },
  {
   "cell_type": "code",
   "execution_count": null,
   "metadata": {},
   "outputs": [],
   "source": [
    "#!pip install numpy"
   ]
  },
  {
   "cell_type": "markdown",
   "metadata": {
    "toc": true
   },
   "source": [
    "<h1>Содержание<span class=\"tocSkip\"></span></h1>\n",
    "<div class=\"toc\"><ul class=\"toc-item\"><li><span><a href=\"#Подготовка-данных\" data-toc-modified-id=\"Подготовка-данных-1\"><span class=\"toc-item-num\">1&nbsp;&nbsp;</span>Подготовка данных</a></span></li><li><span><a href=\"#Исследование-задачи\" data-toc-modified-id=\"Исследование-задачи-2\"><span class=\"toc-item-num\">2&nbsp;&nbsp;</span>Исследование задачи</a></span></li><li><span><a href=\"#Борьба-с-дисбалансом\" data-toc-modified-id=\"Борьба-с-дисбалансом-3\"><span class=\"toc-item-num\">3&nbsp;&nbsp;</span>Борьба с дисбалансом</a></span></li><li><span><a href=\"#Тестирование-модели\" data-toc-modified-id=\"Тестирование-модели-4\"><span class=\"toc-item-num\">4&nbsp;&nbsp;</span>Тестирование модели</a></span></li><li><span><a href=\"#Чек-лист-готовности-проекта\" data-toc-modified-id=\"Чек-лист-готовности-проекта-5\"><span class=\"toc-item-num\">5&nbsp;&nbsp;</span>Чек-лист готовности проекта</a></span></li></ul></div>"
   ]
  },
  {
   "cell_type": "markdown",
   "metadata": {},
   "source": [
    "# Отток клиентов"
   ]
  },
  {
   "cell_type": "markdown",
   "metadata": {},
   "source": [
    "Из «Бета-Банка» стали уходить клиенты. Каждый месяц. Немного, но заметно. Банковские маркетологи посчитали: сохранять текущих клиентов дешевле, чем привлекать новых.\n",
    "\n",
    "Нужно спрогнозировать, уйдёт клиент из банка в ближайшее время или нет. Вам предоставлены исторические данные о поведении клиентов и расторжении договоров с банком. \n",
    "\n",
    "Постройте модель с предельно большим значением *F1*-меры. Чтобы сдать проект успешно, нужно довести метрику до 0.59. Проверьте *F1*-меру на тестовой выборке самостоятельно.\n",
    "\n",
    "Дополнительно измеряйте *AUC-ROC*, сравнивайте её значение с *F1*-мерой.\n",
    "\n",
    "Источник данных: [https://www.kaggle.com/barelydedicated/bank-customer-churn-modeling](https://www.kaggle.com/barelydedicated/bank-customer-churn-modeling)"
   ]
  },
  {
   "cell_type": "markdown",
   "metadata": {},
   "source": [
    "## Подготовка данных"
   ]
  },
  {
   "cell_type": "code",
   "execution_count": null,
   "metadata": {},
   "outputs": [],
   "source": [
    "import pandas as pd\n",
    "import matplotlib.pyplot as plt\n",
    "import pylab\n",
    "from sklearn.tree import DecisionTreeClassifier\n",
    "from sklearn.ensemble import RandomForestClassifier\n",
    "from sklearn.linear_model import LogisticRegression\n",
    "from sklearn.model_selection import train_test_split, GridSearchCV\n",
    "from sklearn.metrics import accuracy_score, precision_score, recall_score, f1_score, r2_score, roc_curve, roc_auc_score\n",
    "from sklearn.preprocessing import StandardScaler\n",
    "from sklearn.utils import shuffle\n",
    "\n",
    "#Добавил библиотеки\n",
    "from sklearn.preprocessing import OneHotEncoder\n",
    "import numpy as np"
   ]
  },
  {
   "cell_type": "code",
   "execution_count": null,
   "metadata": {},
   "outputs": [],
   "source": [
    "data = pd.read_csv('/datasets/Churn.csv')"
   ]
  },
  {
   "cell_type": "code",
   "execution_count": null,
   "metadata": {},
   "outputs": [],
   "source": [
    "data.info()"
   ]
  },
  {
   "cell_type": "code",
   "execution_count": null,
   "metadata": {
    "scrolled": true
   },
   "outputs": [],
   "source": [
    "data.head(10)"
   ]
  },
  {
   "cell_type": "markdown",
   "metadata": {},
   "source": [
    "**Соотношение классов:**"
   ]
  },
  {
   "cell_type": "markdown",
   "metadata": {},
   "source": [
    "**Доля клиентов, покинувших банк:**"
   ]
  },
  {
   "cell_type": "code",
   "execution_count": null,
   "metadata": {},
   "outputs": [],
   "source": [
    "sum(data['Exited']) / len(data)"
   ]
  },
  {
   "cell_type": "markdown",
   "metadata": {},
   "source": [
    "**Доля оставшихся клиентов:**"
   ]
  },
  {
   "cell_type": "code",
   "execution_count": null,
   "metadata": {},
   "outputs": [],
   "source": [
    "1 - sum(data['Exited']) / len(data)"
   ]
  },
  {
   "cell_type": "markdown",
   "metadata": {},
   "source": [
    "Имеет место значительный дисбаланс классов, что нужно будет учесть в дальнейшей работе."
   ]
  },
  {
   "cell_type": "code",
   "execution_count": null,
   "metadata": {},
   "outputs": [],
   "source": [
    "data['Exited'].value_counts(normalize=True)"
   ]
  },
  {
   "cell_type": "markdown",
   "metadata": {},
   "source": [
    "**Удаление лишних столбцов:**"
   ]
  },
  {
   "cell_type": "markdown",
   "metadata": {},
   "source": [
    "Перед началом обучения нужно также избавиться от лишних столбцов."
   ]
  },
  {
   "cell_type": "code",
   "execution_count": null,
   "metadata": {},
   "outputs": [],
   "source": [
    "print(f\"Количество столбцов до операции: {data.shape[1]}\")\n",
    "data = data.drop(columns=['RowNumber', 'CustomerId', 'Surname'])\n",
    "f\"Количество столбцов после операции: {data.shape[1]}\""
   ]
  },
  {
   "cell_type": "markdown",
   "metadata": {},
   "source": [
    "**Заполнение пропусков:**"
   ]
  },
  {
   "cell_type": "markdown",
   "metadata": {},
   "source": [
    "При вызове data.info() увидели 909 пропусков в столбце Tenure. Заполним их. "
   ]
  },
  {
   "cell_type": "code",
   "execution_count": null,
   "metadata": {},
   "outputs": [],
   "source": [
    "data['Tenure'].value_counts().plot(kind='bar')\n",
    "print(data['Tenure'].median())\n",
    "data['Tenure'].fillna(data['Tenure'].median(), inplace=True)"
   ]
  },
  {
   "cell_type": "markdown",
   "metadata": {},
   "source": [
    "**Выделение признаков, разделение на выборки:**"
   ]
  },
  {
   "cell_type": "markdown",
   "metadata": {},
   "source": [
    "Выделим признаки и целевой признак"
   ]
  },
  {
   "cell_type": "code",
   "execution_count": null,
   "metadata": {},
   "outputs": [],
   "source": [
    "features = data.drop(columns=['Exited'])\n",
    "target = data['Exited']"
   ]
  },
  {
   "cell_type": "markdown",
   "metadata": {},
   "source": [
    "Разделим на обучающую, валидационную и тестовую выборки"
   ]
  },
  {
   "cell_type": "code",
   "execution_count": null,
   "metadata": {},
   "outputs": [],
   "source": [
    "features_train, features_mixed, target_train, target_mixed = train_test_split(features, target, test_size = 0.4,\n",
    "                                                                              random_state=31415)\n",
    "\n",
    "features_valid, features_test, target_valid, target_test = train_test_split(features_mixed, target_mixed, test_size = 0.5,\n",
    "                                                                            random_state=31415)\n",
    "print('Размеры выборок')\n",
    "f\"Обучающая {len(features_train)}, валидационная {len(features_valid)}, тестовая {len(features_test)}\""
   ]
  },
  {
   "cell_type": "markdown",
   "metadata": {},
   "source": [
    "**OneHotEncoding**"
   ]
  },
  {
   "cell_type": "code",
   "execution_count": null,
   "metadata": {},
   "outputs": [],
   "source": [
    "chosen_columns=['Gender','Geography']\n",
    "enc = OneHotEncoder(drop='first', sparse=False).fit(features_train[chosen_columns])\n",
    "#Тренировочная выборка\n",
    "features_train_encoded = pd.DataFrame(enc.transform(features_train[chosen_columns]),\n",
    "                                      index=features_train.index, columns=['Male', 'Germany', 'Spain'])\n",
    "\n",
    "features_train = pd.concat([features_train, features_train_encoded], axis=1).drop(columns=chosen_columns)\n",
    "\n",
    "\n",
    "#Валидационная выборка\n",
    "features_valid_encoded = pd.DataFrame(enc.transform(features_valid[chosen_columns]),\n",
    "                                      index=features_valid.index, columns=['Male', 'Germany', 'Spain'])\n",
    "\n",
    "features_valid = pd.concat([features_valid, features_valid_encoded], axis=1).drop(columns=chosen_columns)\n",
    "\n",
    "\n",
    "#Тестовая выборка\n",
    "features_test_encoded = pd.DataFrame(enc.transform(features_test[chosen_columns]),\n",
    "                                      index=features_test.index, columns=['Male', 'Germany', 'Spain'])\n",
    "\n",
    "features_test = pd.concat([features_test, features_test_encoded], axis=1).drop(columns=chosen_columns)"
   ]
  },
  {
   "cell_type": "code",
   "execution_count": null,
   "metadata": {},
   "outputs": [],
   "source": [
    "features_train.head()"
   ]
  },
  {
   "cell_type": "markdown",
   "metadata": {},
   "source": [
    "**Масштабирование**"
   ]
  },
  {
   "cell_type": "code",
   "execution_count": null,
   "metadata": {
    "scrolled": false
   },
   "outputs": [],
   "source": [
    "pd.options.mode.chained_assignment = None\n",
    "numeric = ['CreditScore', 'Age', 'Balance', 'EstimatedSalary', 'Tenure', 'NumOfProducts']\n",
    "scaler = StandardScaler()\n",
    "\n",
    "scaler.fit(features_train[['CreditScore', 'Age', 'Balance', 'EstimatedSalary', 'Tenure', 'NumOfProducts']])\n",
    "features_train[numeric] = scaler.transform(features_train[numeric])\n",
    "features_valid[numeric] = scaler.transform(features_valid[numeric])\n",
    "features_test[numeric] = scaler.transform(features_test[numeric])"
   ]
  },
  {
   "cell_type": "markdown",
   "metadata": {},
   "source": [
    "## Исследование задачи"
   ]
  },
  {
   "cell_type": "markdown",
   "metadata": {},
   "source": [
    "Начнём обучать модели и изучать метрики без борьбы с дисбалансом классов."
   ]
  },
  {
   "cell_type": "markdown",
   "metadata": {},
   "source": [
    "**Решающее дерево**"
   ]
  },
  {
   "cell_type": "code",
   "execution_count": null,
   "metadata": {},
   "outputs": [],
   "source": [
    "##depth_dtc_plot = []\n",
    "##f1_dtc_plot = []\n",
    "##\n",
    "##best_f1 = 0\n",
    "##best_depth = 0\n",
    "##for depth in range(1, 20):\n",
    "##    model = DecisionTreeClassifier(random_state=31415, max_depth=depth)\n",
    "##    model.fit(features_train, target_train)\n",
    "##    predicted_valid = model.predict(features_valid)\n",
    "##    f1 = f1_score(predicted_valid, target_valid)\n",
    "##    depth_dtc_plot.append(depth)\n",
    "##    f1_dtc_plot.append(f1)\n",
    "##    if f1 > best_f1:\n",
    "##        best_f1 = f1\n",
    "##        best_depth = depth\n",
    "##        \n",
    "##dtc = DecisionTreeClassifier(max_depth = best_depth, random_state=31415)\n",
    "##dtc.fit(features_train, target_train)\n",
    "##probabilities_dtc = dtc.predict_proba(features_train)\n",
    "##probabilities_one_dtc = probabilities_dtc[:, 1]\n",
    "##predictions_dtc = dtc.predict(features_valid)\n",
    "##\n",
    "##f\"Accuracy DTC = {accuracy_score(target_valid, predictions_dtc)}, F1 DTC = {f1_score(target_valid, predictions_dtc)}, AUC-ROC = {roc_auc_score(target_train, probabilities_one_dtc)}\""
   ]
  },
  {
   "cell_type": "code",
   "execution_count": null,
   "metadata": {},
   "outputs": [],
   "source": [
    "###Параметры графика\n",
    "##plt.figure(figsize=(8, 3))\n",
    "##plt.step(depth_dtc_plot, f1_dtc_plot)\n",
    "##plt.title('Зависимость F1 от глубины в DTC')\n",
    "##plt.xlabel('Глубина')\n",
    "##plt.ylabel('F1')\n",
    "##pylab.xticks(range(20))\n",
    "##plt.grid()\n",
    "##plt.show()"
   ]
  },
  {
   "cell_type": "markdown",
   "metadata": {},
   "source": [
    "**Случайный лес**"
   ]
  },
  {
   "cell_type": "markdown",
   "metadata": {},
   "source": [
    "Сначала найдём оптимальную глубину при фиксированном числе деревьев"
   ]
  },
  {
   "cell_type": "code",
   "execution_count": null,
   "metadata": {},
   "outputs": [],
   "source": [
    "depth_rfc_plot = []\n",
    "f1_rfc_plot = []\n",
    "\n",
    "best_f1 = 0\n",
    "best_depth = 0\n",
    "for depth in range(1, 21):\n",
    "    model = RandomForestClassifier(random_state=31415, max_depth = depth)\n",
    "    model.fit(features_train, target_train)\n",
    "    predicted_valid = model.predict(features_valid)\n",
    "    f1 = f1_score(target_valid, predicted_valid)\n",
    "    depth_rfc_plot.append(depth)\n",
    "    f1_rfc_plot.append(f1)\n",
    "    if f1 > best_f1:\n",
    "        best_f1 = f1\n",
    "        best_depth = depth\n",
    "        \n",
    "        \n",
    "rfc = RandomForestClassifier(random_state=31415, max_depth=best_depth)\n",
    "rfc.fit(features_train, target_train)\n",
    "probabilities_rfc = rfc.predict_proba(features_valid)\n",
    "probabilities_one_rfc = probabilities_rfc[:, 1]\n",
    "f\"Лучшая f1 {best_f1}, лучшая глубина {best_depth}, AUC-ROC = {roc_auc_score(target_valid, probabilities_one_rfc)}\""
   ]
  },
  {
   "cell_type": "code",
   "execution_count": null,
   "metadata": {},
   "outputs": [],
   "source": [
    "plt.figure(figsize=(8, 3))\n",
    "plt.step(depth_rfc_plot, f1_rfc_plot)\n",
    "plt.title('Зависимость F1 от глубины в RFC')\n",
    "plt.xlabel('Глубина')\n",
    "plt.ylabel('F1')\n",
    "pylab.xticks(range(21))\n",
    "plt.grid()\n",
    "plt.show()"
   ]
  },
  {
   "cell_type": "markdown",
   "metadata": {},
   "source": [
    "Теперь найдём оптимальное число деревьев при этой глубине"
   ]
  },
  {
   "cell_type": "code",
   "execution_count": null,
   "metadata": {},
   "outputs": [],
   "source": [
    "est_rfc_plot = []\n",
    "f1_rfc_plot = []\n",
    "\n",
    "best_est = 0\n",
    "best_f1 = 0\n",
    "for est in range(100, 121):\n",
    "    model = RandomForestClassifier(random_state=31415, max_depth=17, n_estimators=est)\n",
    "    model.fit(features_train, target_train)\n",
    "    predicted_valid = model.predict(features_valid)\n",
    "    f1 = f1_score(target_valid, predicted_valid)\n",
    "    est_rfc_plot.append(est)\n",
    "    f1_rfc_plot.append(f1)\n",
    "    if f1 > best_f1:\n",
    "        best_f1 = f1\n",
    "        best_est = est\n",
    "        \n",
    "rfc = RandomForestClassifier(random_state=31415, max_depth=best_depth, n_estimators=best_est)\n",
    "rfc.fit(features_train, target_train)\n",
    "probabilities_rfc = rfc.predict_proba(features_valid)\n",
    "probabilities_one_rfc = probabilities_rfc[:, 1]\n",
    "f\"F1 RFC = {best_f1}, Лучшее количество деревьев = {best_est}, AUC-ROC = {roc_auc_score(target_valid, probabilities_one_rfc)}\""
   ]
  },
  {
   "cell_type": "code",
   "execution_count": null,
   "metadata": {},
   "outputs": [],
   "source": [
    "#Параметры графика\n",
    "plt.figure(figsize=(8, 3))\n",
    "plt.step(est_rfc_plot, f1_rfc_plot)\n",
    "plt.title('Зависимость F1 от n_estimators')\n",
    "plt.xlabel('n_estimators')\n",
    "plt.ylabel('F1')\n",
    "plt.grid()\n",
    "plt.show()"
   ]
  },
  {
   "cell_type": "markdown",
   "metadata": {},
   "source": [
    "**Логистическая регрессия**"
   ]
  },
  {
   "cell_type": "code",
   "execution_count": null,
   "metadata": {},
   "outputs": [],
   "source": [
    "##iter_lr_plot = []\n",
    "##f1_lr_plot = []\n",
    "##\n",
    "##best_f1 = 0\n",
    "##best_iter = 0\n",
    "##for itera in range (100, 2001, 100):\n",
    "##    model = LogisticRegression(max_iter=itera, solver='liblinear', random_state=31415)\n",
    "##    model.fit(features_train, target_train)\n",
    "##    predicted_valid = model.predict(features_valid)\n",
    "##    f1 = f1_score(target_valid, predicted_valid)\n",
    "##    iter_lr_plot.append(itera)\n",
    "##    f1_lr_plot.append(f1)\n",
    "##    if f1 > best_f1:\n",
    "##        best_f1 = f1\n",
    "##        best_iter = itera\n",
    "##        \n",
    "##lr = LogisticRegression(random_state=31415, solver='liblinear', max_iter = best_iter)\n",
    "##lr.fit(features_train, target_train)\n",
    "##probabilities_lr = lr.predict_proba(features_train)\n",
    "##probabilities_one_lr = probabilities_lr[:, 1]\n",
    "##f\"F1 LR = {best_f1}, Лучшее значение max_iterations = {best_est}, AUC-ROC = {roc_auc_score(target_train, probabilities_one_lr)}\""
   ]
  },
  {
   "cell_type": "code",
   "execution_count": null,
   "metadata": {},
   "outputs": [],
   "source": [
    "###Параметры графика\n",
    "##plt.figure(figsize=(8, 3))\n",
    "##plt.step(iter_lr_plot, f1_lr_plot)\n",
    "##plt.title('Зависимость F1 от max_iterations')\n",
    "##plt.xlabel('max_iterations')\n",
    "##plt.ylabel('F1')\n",
    "##plt.grid()\n",
    "##plt.show()"
   ]
  },
  {
   "cell_type": "markdown",
   "metadata": {},
   "source": [
    "**Выводы:**\n",
    "<br>На валидационной выборке без учёта дизбаланса классов, лучшую F1-меру (0.55) показывает случайный лес с гиперпараметрами max_depth = 9, n_estimators = 10. \n",
    "<br>UPD: Видим, что и лучший AUC-ROC показывает случайный лес. При этом, изменение гиперпараметрво немного повлияло на F1, но AUC-ROC остался примерно таким же."
   ]
  },
  {
   "cell_type": "markdown",
   "metadata": {},
   "source": [
    "## Борьба с дисбалансом"
   ]
  },
  {
   "cell_type": "markdown",
   "metadata": {},
   "source": [
    " **UPSAMPLING**\n",
    "<BR>В первую очередь воспользуемся upsampling'ом, и посмотрим, как изменится F1 мера нашей модели"
   ]
  },
  {
   "cell_type": "code",
   "execution_count": null,
   "metadata": {},
   "outputs": [],
   "source": [
    "#Создаём функцию upsample\n",
    "def upsample(features, target, repeat):\n",
    "    features_zeros = features[target == 0]\n",
    "    features_ones = features[target == 1]\n",
    "    target_zeros = target[target == 0]\n",
    "    target_ones = target[target == 1]\n",
    "\n",
    "    features_upsampled = pd.concat([features_zeros] + [features_ones] * repeat)\n",
    "    target_upsampled = pd.concat([target_zeros] + [target_ones] * repeat)\n",
    "    \n",
    "    features_upsampled, target_upsampled = shuffle(\n",
    "        features_upsampled, target_upsampled, random_state=31415)\n",
    "    \n",
    "    return features_upsampled, target_upsampled"
   ]
  },
  {
   "cell_type": "code",
   "execution_count": null,
   "metadata": {},
   "outputs": [],
   "source": [
    "features_train_upsampled, target_train_upsampled = upsample(features_train, target_train, 4)\n",
    "#features_valid_upsampled, target_valid_upsampled = upsample(features_valid, target_valid, 4)"
   ]
  },
  {
   "cell_type": "code",
   "execution_count": null,
   "metadata": {},
   "outputs": [],
   "source": [
    "model_upsample_test = RandomForestClassifier(random_state=31415, max_depth=17, n_estimators=106)\n",
    "model_upsample_test.fit(features_train_upsampled, target_train_upsampled)\n",
    "predicted_valid_upsampled = model_upsample_test.predict(features_valid)\n",
    "probabilities_ut = model_upsample_test.predict_proba(features_valid)\n",
    "probabilities_one_ut = probabilities_ut[:, 1]\n",
    "f\"Accuracy модели = {accuracy_score(target_valid, predicted_valid_upsampled)}, F1-мера = {f1_score(target_valid, predicted_valid_upsampled)}, AUC-ROC = {roc_auc_score(target_valid, probabilities_one_ut)}\"\n"
   ]
  },
  {
   "cell_type": "markdown",
   "metadata": {},
   "source": [
    "Видим рост F1 с 0.58 до 0.587 на валидационной выборке. Переходим к Downsampling'у"
   ]
  },
  {
   "cell_type": "markdown",
   "metadata": {},
   "source": [
    "**DOWNSAMPLING**"
   ]
  },
  {
   "cell_type": "code",
   "execution_count": null,
   "metadata": {},
   "outputs": [],
   "source": [
    "#Создаём функцию downsample\n",
    "def downsample(features, target, fraction):\n",
    "    features_zeros = features[target == 0]\n",
    "    features_ones = features[target == 1]\n",
    "    target_zeros = target[target == 0]\n",
    "    target_ones = target[target == 1]\n",
    "    \n",
    "    features_downsampled = pd.concat([features_zeros.sample(frac=fraction, random_state=31415)] + [features_ones])\n",
    "    target_downsampled = pd.concat([target_zeros.sample(frac=fraction, random_state=31415)] + [target_ones])\n",
    "    \n",
    "    features_downsampled, target_downsampled = shuffle(\n",
    "        features_downsampled, target_downsampled, random_state=31415)\n",
    "    \n",
    "    return features_downsampled, target_downsampled"
   ]
  },
  {
   "cell_type": "code",
   "execution_count": null,
   "metadata": {},
   "outputs": [],
   "source": [
    "features_train_downsampled, target_train_downsampled = downsample(features_train, target_train, 0.25)\n",
    "#features_valid_downsampled, target_valid_downsampled = downsample(features_valid, target_valid, 0.25)"
   ]
  },
  {
   "cell_type": "code",
   "execution_count": null,
   "metadata": {},
   "outputs": [],
   "source": [
    "model_downsample_test = RandomForestClassifier(random_state=31415, max_depth=17, n_estimators=106)\n",
    "model_downsample_test.fit(features_train_downsampled, target_train_downsampled)\n",
    "predicted_valid_downsampled = model_downsample_test.predict(features_valid)\n",
    "probabilities_dt = model_downsample_test.predict_proba(features_valid)\n",
    "probabilities_one_dt = probabilities_dt[:, 1]\n",
    "f\"Accuracy модели = {accuracy_score(target_valid, predicted_valid_downsampled)}, F1-мера = {f1_score(target_valid, predicted_valid_downsampled)}, AUC-ROC = {roc_auc_score(target_valid, probabilities_one_dt)}\""
   ]
  },
  {
   "cell_type": "markdown",
   "metadata": {},
   "source": [
    "Получаем лучшую на данный момент F1 меру на валидационной выборке - **0.615**. UPD: При этом видим, что AUC-ROC в обоих случаях примерно одинаковый, и downsampling даже показывает немного худший результат"
   ]
  },
  {
   "cell_type": "markdown",
   "metadata": {},
   "source": [
    "## Тестирование модели"
   ]
  },
  {
   "cell_type": "markdown",
   "metadata": {},
   "source": [
    "**F1 - мера**"
   ]
  },
  {
   "cell_type": "code",
   "execution_count": null,
   "metadata": {},
   "outputs": [],
   "source": [
    "model = RandomForestClassifier(random_state=31414, max_depth=17, n_estimators=106)\n",
    "model.fit(features_train_upsampled, target_train_upsampled)\n",
    "predicted_valid = model.predict(features_test)\n",
    "f\"F1 = {f1_score(target_test, predicted_valid)}\""
   ]
  },
  {
   "cell_type": "markdown",
   "metadata": {},
   "source": [
    "**AUC-ROC**"
   ]
  },
  {
   "cell_type": "code",
   "execution_count": null,
   "metadata": {},
   "outputs": [],
   "source": [
    "probabilities_valid = model.predict_proba(features_test)\n",
    "probabilities_one_valid = probabilities_valid[:, 1]\n",
    "\n",
    "f\"AUC-ROC = {roc_auc_score(target_test, probabilities_one_valid)}\""
   ]
  },
  {
   "cell_type": "code",
   "execution_count": null,
   "metadata": {},
   "outputs": [],
   "source": [
    "fpr, tpr, thresholds = roc_curve(target_test, probabilities_one_valid)\n",
    "plt.figure()\n",
    "plt.plot(fpr, tpr)\n",
    "plt.plot([0, 1], [0, 1], linestyle='--')\n",
    "plt.xlim([0.0, 1.0])\n",
    "plt.ylim([0.0, 1.0])\n",
    "plt.xlabel('FPR')\n",
    "plt.ylabel('TPR')\n",
    "plt.title('ROC-кривая')\n",
    "plt.show()"
   ]
  },
  {
   "cell_type": "markdown",
   "metadata": {},
   "source": [
    "**Вывод по шагу:**\n",
    "<br>Итого, после испытания разных способов борьбы с дисбалансом классов, видим лучшие показатели при использовании downsampling'a. Итого, после тестов на тестовой выборке, получаем AUC-ROC равный 0.852 и F1 = 0.571. "
   ]
  },
  {
   "cell_type": "markdown",
   "metadata": {},
   "source": [
    "**Итого:**\n",
    "<br>Прежде всего для обучения моделей и построения прогнозов, данные было нужно обработать. Количестенные столбцы были масштабированы, категориальные обработаны техникой OHE. В процессе ознакомления с данными был выявлен дисбаланас классов (4 к 1), который впоследствии был также обработан. Также в данных обнаружились пропуски, (суммарно 909 значений), которые были заполнены медианным значением.\n",
    "<br>\n",
    "<br>После теста разных моделей (dtc, rfc и lr) на тренировочных данных, лучшим образом себя показал случайный лес, выдав наивысшую F1 меру. После перебора гиперпараметров, лучшими значениями были признаны max_depth = 17 и n_estimators = 106. Однако перед обучением финальной модели всё ещё нужно было решить проблему несбалансированности классов.\n",
    "<br>\n",
    "<br>Были изучены показатели модели при использовании downsapling'a и upsampling'a, но с отрывом на 0.02 пункта лучше себя показал downsampling. По результатам обучения модели на полученных гиперпараметрах, получили AUC-ROC, равный 0.85 и F1 меру, равную 0.59."
   ]
  },
  {
   "cell_type": "markdown",
   "metadata": {},
   "source": [
    "## Чек-лист готовности проекта"
   ]
  },
  {
   "cell_type": "markdown",
   "metadata": {},
   "source": [
    "Поставьте 'x' в выполненных пунктах. Далее нажмите Shift+Enter."
   ]
  },
  {
   "cell_type": "markdown",
   "metadata": {},
   "source": [
    "- [x]  Jupyter Notebook открыт\n",
    "- [ ]  Весь код выполняется без ошибок\n",
    "- [ ]  Ячейки с кодом расположены в порядке исполнения\n",
    "- [ ]  Выполнен шаг 1: данные подготовлены\n",
    "- [ ]  Выполнен шаг 2: задача исследована\n",
    "    - [ ]  Исследован баланс классов\n",
    "    - [ ]  Изучены модели без учёта дисбаланса\n",
    "    - [ ]  Написаны выводы по результатам исследования\n",
    "- [ ]  Выполнен шаг 3: учтён дисбаланс\n",
    "    - [ ]  Применено несколько способов борьбы с дисбалансом\n",
    "    - [ ]  Написаны выводы по результатам исследования\n",
    "- [ ]  Выполнен шаг 4: проведено тестирование\n",
    "- [ ]  Удалось достичь *F1*-меры не менее 0.59\n",
    "- [ ]  Исследована метрика *AUC-ROC*"
   ]
  }
 ],
 "metadata": {
  "ExecuteTimeLog": [
   {
    "duration": 51,
    "start_time": "2023-05-25T10:15:24.325Z"
   },
   {
    "duration": 1129,
    "start_time": "2023-05-25T10:15:25.929Z"
   },
   {
    "duration": 355,
    "start_time": "2023-05-25T10:15:27.060Z"
   },
   {
    "duration": 13,
    "start_time": "2023-05-25T10:15:34.337Z"
   },
   {
    "duration": 23,
    "start_time": "2023-05-25T10:15:39.817Z"
   },
   {
    "duration": 9,
    "start_time": "2023-05-25T10:16:25.011Z"
   },
   {
    "duration": 5,
    "start_time": "2023-05-25T10:25:12.600Z"
   },
   {
    "duration": 6,
    "start_time": "2023-05-25T10:25:34.901Z"
   },
   {
    "duration": 46,
    "start_time": "2023-05-25T10:26:24.276Z"
   },
   {
    "duration": 7,
    "start_time": "2023-05-25T10:27:53.654Z"
   },
   {
    "duration": 73,
    "start_time": "2023-05-25T10:28:11.990Z"
   },
   {
    "duration": 1146,
    "start_time": "2023-05-25T10:28:23.243Z"
   },
   {
    "duration": 42,
    "start_time": "2023-05-25T10:28:24.392Z"
   },
   {
    "duration": 58,
    "start_time": "2023-05-25T10:28:24.435Z"
   },
   {
    "duration": 27,
    "start_time": "2023-05-25T10:28:24.495Z"
   },
   {
    "duration": 13,
    "start_time": "2023-05-25T10:28:24.525Z"
   },
   {
    "duration": 26,
    "start_time": "2023-05-25T10:28:24.541Z"
   },
   {
    "duration": 49,
    "start_time": "2023-05-25T10:28:24.569Z"
   },
   {
    "duration": 24,
    "start_time": "2023-05-25T10:28:24.621Z"
   },
   {
    "duration": 855,
    "start_time": "2023-05-25T10:33:28.517Z"
   },
   {
    "duration": 1176,
    "start_time": "2023-05-25T10:33:38.662Z"
   },
   {
    "duration": 40,
    "start_time": "2023-05-25T10:33:39.841Z"
   },
   {
    "duration": 14,
    "start_time": "2023-05-25T10:33:39.883Z"
   },
   {
    "duration": 22,
    "start_time": "2023-05-25T10:33:39.900Z"
   },
   {
    "duration": 9,
    "start_time": "2023-05-25T10:33:39.924Z"
   },
   {
    "duration": 44,
    "start_time": "2023-05-25T10:33:39.935Z"
   },
   {
    "duration": 56,
    "start_time": "2023-05-25T10:33:39.981Z"
   },
   {
    "duration": 19,
    "start_time": "2023-05-25T10:33:40.039Z"
   },
   {
    "duration": 709,
    "start_time": "2023-05-25T10:36:03.550Z"
   },
   {
    "duration": 4,
    "start_time": "2023-05-25T10:36:19.050Z"
   },
   {
    "duration": 4,
    "start_time": "2023-05-25T10:36:22.227Z"
   },
   {
    "duration": 6,
    "start_time": "2023-05-25T10:36:24.097Z"
   },
   {
    "duration": 6,
    "start_time": "2023-05-25T10:36:45.736Z"
   },
   {
    "duration": 7,
    "start_time": "2023-05-25T10:36:49.361Z"
   },
   {
    "duration": 1140,
    "start_time": "2023-05-25T10:37:29.875Z"
   },
   {
    "duration": 44,
    "start_time": "2023-05-25T10:37:31.017Z"
   },
   {
    "duration": 28,
    "start_time": "2023-05-25T10:37:31.064Z"
   },
   {
    "duration": 50,
    "start_time": "2023-05-25T10:37:31.094Z"
   },
   {
    "duration": 70,
    "start_time": "2023-05-25T10:37:31.147Z"
   },
   {
    "duration": 63,
    "start_time": "2023-05-25T10:37:31.220Z"
   },
   {
    "duration": 39,
    "start_time": "2023-05-25T10:37:31.286Z"
   },
   {
    "duration": 507,
    "start_time": "2023-05-25T10:37:31.327Z"
   },
   {
    "duration": 146,
    "start_time": "2023-05-25T10:38:09.258Z"
   },
   {
    "duration": 156,
    "start_time": "2023-05-25T10:38:14.713Z"
   },
   {
    "duration": 168,
    "start_time": "2023-05-25T10:38:18.136Z"
   },
   {
    "duration": 173,
    "start_time": "2023-05-25T10:38:21.497Z"
   },
   {
    "duration": 8,
    "start_time": "2023-05-25T10:38:31.576Z"
   },
   {
    "duration": 1186,
    "start_time": "2023-05-25T10:39:06.365Z"
   },
   {
    "duration": 41,
    "start_time": "2023-05-25T10:39:07.554Z"
   },
   {
    "duration": 16,
    "start_time": "2023-05-25T10:39:07.597Z"
   },
   {
    "duration": 25,
    "start_time": "2023-05-25T10:39:07.615Z"
   },
   {
    "duration": 11,
    "start_time": "2023-05-25T10:39:07.642Z"
   },
   {
    "duration": 25,
    "start_time": "2023-05-25T10:39:07.654Z"
   },
   {
    "duration": 30,
    "start_time": "2023-05-25T10:39:07.682Z"
   },
   {
    "duration": 475,
    "start_time": "2023-05-25T10:39:07.714Z"
   },
   {
    "duration": 8,
    "start_time": "2023-05-25T10:39:08.191Z"
   },
   {
    "duration": 9,
    "start_time": "2023-05-25T10:46:32.725Z"
   },
   {
    "duration": 849,
    "start_time": "2023-05-25T10:46:39.276Z"
   },
   {
    "duration": 1166,
    "start_time": "2023-05-25T10:46:48.244Z"
   },
   {
    "duration": 41,
    "start_time": "2023-05-25T10:46:49.412Z"
   },
   {
    "duration": 14,
    "start_time": "2023-05-25T10:46:49.455Z"
   },
   {
    "duration": 25,
    "start_time": "2023-05-25T10:46:49.470Z"
   },
   {
    "duration": 5,
    "start_time": "2023-05-25T10:46:49.497Z"
   },
   {
    "duration": 13,
    "start_time": "2023-05-25T10:46:49.503Z"
   },
   {
    "duration": 12,
    "start_time": "2023-05-25T10:46:49.517Z"
   },
   {
    "duration": 423,
    "start_time": "2023-05-25T10:46:49.530Z"
   },
   {
    "duration": 19,
    "start_time": "2023-05-25T10:46:49.956Z"
   },
   {
    "duration": 13,
    "start_time": "2023-05-25T10:47:53.116Z"
   },
   {
    "duration": 13,
    "start_time": "2023-05-25T10:48:16.643Z"
   },
   {
    "duration": 848,
    "start_time": "2023-05-25T10:49:49.963Z"
   },
   {
    "duration": 1118,
    "start_time": "2023-05-25T10:49:54.986Z"
   },
   {
    "duration": 42,
    "start_time": "2023-05-25T10:49:56.106Z"
   },
   {
    "duration": 15,
    "start_time": "2023-05-25T10:49:56.149Z"
   },
   {
    "duration": 37,
    "start_time": "2023-05-25T10:49:56.165Z"
   },
   {
    "duration": 7,
    "start_time": "2023-05-25T10:49:56.206Z"
   },
   {
    "duration": 33,
    "start_time": "2023-05-25T10:49:56.215Z"
   },
   {
    "duration": 9,
    "start_time": "2023-05-25T10:49:56.250Z"
   },
   {
    "duration": 19,
    "start_time": "2023-05-25T10:49:56.261Z"
   },
   {
    "duration": 437,
    "start_time": "2023-05-25T10:49:56.282Z"
   },
   {
    "duration": 20,
    "start_time": "2023-05-25T10:49:56.721Z"
   },
   {
    "duration": 62,
    "start_time": "2023-05-25T11:05:25.628Z"
   },
   {
    "duration": 113,
    "start_time": "2023-05-25T11:05:46.629Z"
   },
   {
    "duration": 779,
    "start_time": "2023-05-25T11:06:14.667Z"
   },
   {
    "duration": 748,
    "start_time": "2023-05-25T11:06:20.146Z"
   },
   {
    "duration": 1130,
    "start_time": "2023-05-25T11:06:47.643Z"
   },
   {
    "duration": 42,
    "start_time": "2023-05-25T11:06:48.775Z"
   },
   {
    "duration": 18,
    "start_time": "2023-05-25T11:06:48.819Z"
   },
   {
    "duration": 56,
    "start_time": "2023-05-25T11:06:48.840Z"
   },
   {
    "duration": 7,
    "start_time": "2023-05-25T11:06:48.899Z"
   },
   {
    "duration": 27,
    "start_time": "2023-05-25T11:06:48.908Z"
   },
   {
    "duration": 19,
    "start_time": "2023-05-25T11:06:48.938Z"
   },
   {
    "duration": 462,
    "start_time": "2023-05-25T11:06:48.960Z"
   },
   {
    "duration": 20,
    "start_time": "2023-05-25T11:06:49.424Z"
   },
   {
    "duration": 834,
    "start_time": "2023-05-25T11:06:49.457Z"
   },
   {
    "duration": 0,
    "start_time": "2023-05-25T11:06:50.293Z"
   },
   {
    "duration": 23,
    "start_time": "2023-05-25T11:07:27.394Z"
   },
   {
    "duration": 13,
    "start_time": "2023-05-25T11:07:33.322Z"
   },
   {
    "duration": 82,
    "start_time": "2023-05-25T11:30:29.988Z"
   },
   {
    "duration": 13,
    "start_time": "2023-05-25T11:33:34.322Z"
   },
   {
    "duration": 1180,
    "start_time": "2023-05-25T11:33:40.509Z"
   },
   {
    "duration": 0,
    "start_time": "2023-05-25T11:33:41.691Z"
   },
   {
    "duration": 0,
    "start_time": "2023-05-25T11:33:41.692Z"
   },
   {
    "duration": 0,
    "start_time": "2023-05-25T11:33:41.693Z"
   },
   {
    "duration": 0,
    "start_time": "2023-05-25T11:33:41.694Z"
   },
   {
    "duration": 0,
    "start_time": "2023-05-25T11:33:41.695Z"
   },
   {
    "duration": 1,
    "start_time": "2023-05-25T11:33:41.696Z"
   },
   {
    "duration": 0,
    "start_time": "2023-05-25T11:33:41.698Z"
   },
   {
    "duration": 0,
    "start_time": "2023-05-25T11:33:41.699Z"
   },
   {
    "duration": 0,
    "start_time": "2023-05-25T11:33:41.700Z"
   },
   {
    "duration": 0,
    "start_time": "2023-05-25T11:33:41.701Z"
   },
   {
    "duration": 0,
    "start_time": "2023-05-25T11:33:41.702Z"
   },
   {
    "duration": 0,
    "start_time": "2023-05-25T11:33:41.703Z"
   },
   {
    "duration": 0,
    "start_time": "2023-05-25T11:33:41.704Z"
   },
   {
    "duration": 1117,
    "start_time": "2023-05-25T11:34:34.445Z"
   },
   {
    "duration": 40,
    "start_time": "2023-05-25T11:34:35.564Z"
   },
   {
    "duration": 13,
    "start_time": "2023-05-25T11:34:35.606Z"
   },
   {
    "duration": 20,
    "start_time": "2023-05-25T11:34:35.621Z"
   },
   {
    "duration": 4,
    "start_time": "2023-05-25T11:34:35.643Z"
   },
   {
    "duration": 9,
    "start_time": "2023-05-25T11:34:35.648Z"
   },
   {
    "duration": 11,
    "start_time": "2023-05-25T11:34:35.658Z"
   },
   {
    "duration": 402,
    "start_time": "2023-05-25T11:34:35.670Z"
   },
   {
    "duration": 20,
    "start_time": "2023-05-25T11:34:36.074Z"
   },
   {
    "duration": 17,
    "start_time": "2023-05-25T11:34:36.096Z"
   },
   {
    "duration": 13,
    "start_time": "2023-05-25T11:34:36.115Z"
   },
   {
    "duration": 6,
    "start_time": "2023-05-25T11:34:36.156Z"
   },
   {
    "duration": 22,
    "start_time": "2023-05-25T11:34:36.163Z"
   },
   {
    "duration": 43,
    "start_time": "2023-05-25T11:34:36.187Z"
   },
   {
    "duration": 13,
    "start_time": "2023-05-25T11:34:48.459Z"
   },
   {
    "duration": 1116,
    "start_time": "2023-05-25T11:40:13.161Z"
   },
   {
    "duration": 39,
    "start_time": "2023-05-25T11:40:14.280Z"
   },
   {
    "duration": 14,
    "start_time": "2023-05-25T11:40:14.321Z"
   },
   {
    "duration": 38,
    "start_time": "2023-05-25T11:40:14.337Z"
   },
   {
    "duration": 15,
    "start_time": "2023-05-25T11:40:14.378Z"
   },
   {
    "duration": 25,
    "start_time": "2023-05-25T11:40:14.394Z"
   },
   {
    "duration": 19,
    "start_time": "2023-05-25T11:40:14.420Z"
   },
   {
    "duration": 419,
    "start_time": "2023-05-25T11:40:14.441Z"
   },
   {
    "duration": 17,
    "start_time": "2023-05-25T11:40:14.862Z"
   },
   {
    "duration": 17,
    "start_time": "2023-05-25T11:40:14.881Z"
   },
   {
    "duration": 13,
    "start_time": "2023-05-25T11:40:14.900Z"
   },
   {
    "duration": 6,
    "start_time": "2023-05-25T11:40:14.915Z"
   },
   {
    "duration": 44,
    "start_time": "2023-05-25T11:40:14.923Z"
   },
   {
    "duration": 61,
    "start_time": "2023-05-25T11:40:14.969Z"
   },
   {
    "duration": 166,
    "start_time": "2023-05-25T11:41:34.290Z"
   },
   {
    "duration": 174,
    "start_time": "2023-05-25T11:42:44.434Z"
   },
   {
    "duration": 405,
    "start_time": "2023-05-25T11:42:59.873Z"
   },
   {
    "duration": 60,
    "start_time": "2023-05-25T11:47:14.697Z"
   },
   {
    "duration": 44,
    "start_time": "2023-05-25T11:47:25.983Z"
   },
   {
    "duration": 402,
    "start_time": "2023-05-25T11:47:44.879Z"
   },
   {
    "duration": 392,
    "start_time": "2023-05-25T11:49:02.495Z"
   },
   {
    "duration": 182,
    "start_time": "2023-05-25T11:55:28.804Z"
   },
   {
    "duration": 5655,
    "start_time": "2023-05-25T11:55:42.774Z"
   },
   {
    "duration": 5651,
    "start_time": "2023-05-25T11:56:40.268Z"
   },
   {
    "duration": 3493,
    "start_time": "2023-05-25T11:56:54.043Z"
   },
   {
    "duration": 3626,
    "start_time": "2023-05-25T11:56:58.483Z"
   },
   {
    "duration": 3697,
    "start_time": "2023-05-25T12:01:17.808Z"
   },
   {
    "duration": 1469,
    "start_time": "2023-05-25T12:01:25.990Z"
   },
   {
    "duration": 42,
    "start_time": "2023-05-25T12:01:27.462Z"
   },
   {
    "duration": 17,
    "start_time": "2023-05-25T12:01:27.510Z"
   },
   {
    "duration": 27,
    "start_time": "2023-05-25T12:01:27.530Z"
   },
   {
    "duration": 5,
    "start_time": "2023-05-25T12:01:27.559Z"
   },
   {
    "duration": 14,
    "start_time": "2023-05-25T12:01:27.565Z"
   },
   {
    "duration": 15,
    "start_time": "2023-05-25T12:01:27.581Z"
   },
   {
    "duration": 192,
    "start_time": "2023-05-25T12:01:27.597Z"
   },
   {
    "duration": 21,
    "start_time": "2023-05-25T12:01:27.792Z"
   },
   {
    "duration": 31,
    "start_time": "2023-05-25T12:01:27.815Z"
   },
   {
    "duration": 18,
    "start_time": "2023-05-25T12:01:27.857Z"
   },
   {
    "duration": 7,
    "start_time": "2023-05-25T12:01:27.877Z"
   },
   {
    "duration": 20,
    "start_time": "2023-05-25T12:01:27.886Z"
   },
   {
    "duration": 454,
    "start_time": "2023-05-25T12:01:27.908Z"
   },
   {
    "duration": 3777,
    "start_time": "2023-05-25T12:01:28.364Z"
   },
   {
    "duration": 3566,
    "start_time": "2023-05-25T12:01:56.040Z"
   },
   {
    "duration": 3596,
    "start_time": "2023-05-25T12:05:03.462Z"
   },
   {
    "duration": 3434,
    "start_time": "2023-05-25T12:05:10.886Z"
   },
   {
    "duration": 3732,
    "start_time": "2023-05-25T12:05:18.990Z"
   },
   {
    "duration": 1585,
    "start_time": "2023-05-25T12:07:00.395Z"
   },
   {
    "duration": 46,
    "start_time": "2023-05-25T12:07:01.982Z"
   },
   {
    "duration": 31,
    "start_time": "2023-05-25T12:07:02.030Z"
   },
   {
    "duration": 48,
    "start_time": "2023-05-25T12:07:02.064Z"
   },
   {
    "duration": 33,
    "start_time": "2023-05-25T12:07:02.115Z"
   },
   {
    "duration": 35,
    "start_time": "2023-05-25T12:07:02.150Z"
   },
   {
    "duration": 41,
    "start_time": "2023-05-25T12:07:02.188Z"
   },
   {
    "duration": 228,
    "start_time": "2023-05-25T12:07:02.231Z"
   },
   {
    "duration": 21,
    "start_time": "2023-05-25T12:07:02.460Z"
   },
   {
    "duration": 69,
    "start_time": "2023-05-25T12:07:02.484Z"
   },
   {
    "duration": 54,
    "start_time": "2023-05-25T12:07:02.555Z"
   },
   {
    "duration": 51,
    "start_time": "2023-05-25T12:07:02.611Z"
   },
   {
    "duration": 36,
    "start_time": "2023-05-25T12:07:02.664Z"
   },
   {
    "duration": 448,
    "start_time": "2023-05-25T12:07:02.702Z"
   },
   {
    "duration": 3727,
    "start_time": "2023-05-25T12:07:03.155Z"
   },
   {
    "duration": 3800,
    "start_time": "2023-05-25T12:07:15.709Z"
   },
   {
    "duration": 3814,
    "start_time": "2023-05-25T12:07:27.845Z"
   },
   {
    "duration": 3642,
    "start_time": "2023-05-25T12:07:45.333Z"
   },
   {
    "duration": 3727,
    "start_time": "2023-05-25T12:07:54.686Z"
   },
   {
    "duration": 3639,
    "start_time": "2023-05-25T12:08:11.054Z"
   },
   {
    "duration": 3572,
    "start_time": "2023-05-25T12:08:44.253Z"
   },
   {
    "duration": 81,
    "start_time": "2023-05-27T07:45:10.424Z"
   },
   {
    "duration": 1584,
    "start_time": "2023-05-27T07:49:04.354Z"
   },
   {
    "duration": 77,
    "start_time": "2023-05-27T07:49:05.940Z"
   },
   {
    "duration": 13,
    "start_time": "2023-05-27T07:49:06.019Z"
   },
   {
    "duration": 39,
    "start_time": "2023-05-27T07:49:06.033Z"
   },
   {
    "duration": 7,
    "start_time": "2023-05-27T07:49:06.075Z"
   },
   {
    "duration": 13,
    "start_time": "2023-05-27T07:49:06.084Z"
   },
   {
    "duration": 11,
    "start_time": "2023-05-27T07:49:06.099Z"
   },
   {
    "duration": 168,
    "start_time": "2023-05-27T07:49:06.112Z"
   },
   {
    "duration": 16,
    "start_time": "2023-05-27T07:49:06.282Z"
   },
   {
    "duration": 35,
    "start_time": "2023-05-27T07:49:06.299Z"
   },
   {
    "duration": 11,
    "start_time": "2023-05-27T07:49:06.335Z"
   },
   {
    "duration": 16,
    "start_time": "2023-05-27T07:49:06.347Z"
   },
   {
    "duration": 18,
    "start_time": "2023-05-27T07:49:06.365Z"
   },
   {
    "duration": 407,
    "start_time": "2023-05-27T07:49:06.386Z"
   },
   {
    "duration": 202,
    "start_time": "2023-05-27T07:49:06.795Z"
   },
   {
    "duration": 3402,
    "start_time": "2023-05-27T07:49:06.999Z"
   },
   {
    "duration": 182,
    "start_time": "2023-05-27T07:50:06.258Z"
   },
   {
    "duration": 1423,
    "start_time": "2023-05-27T07:50:24.004Z"
   },
   {
    "duration": 39,
    "start_time": "2023-05-27T07:50:25.429Z"
   },
   {
    "duration": 13,
    "start_time": "2023-05-27T07:50:25.470Z"
   },
   {
    "duration": 54,
    "start_time": "2023-05-27T07:50:25.485Z"
   },
   {
    "duration": 13,
    "start_time": "2023-05-27T07:50:25.542Z"
   },
   {
    "duration": 31,
    "start_time": "2023-05-27T07:50:25.557Z"
   },
   {
    "duration": 8,
    "start_time": "2023-05-27T07:50:25.590Z"
   },
   {
    "duration": 145,
    "start_time": "2023-05-27T07:50:25.600Z"
   },
   {
    "duration": 16,
    "start_time": "2023-05-27T07:50:25.747Z"
   },
   {
    "duration": 25,
    "start_time": "2023-05-27T07:50:25.764Z"
   },
   {
    "duration": 14,
    "start_time": "2023-05-27T07:50:25.790Z"
   },
   {
    "duration": 20,
    "start_time": "2023-05-27T07:50:25.806Z"
   },
   {
    "duration": 21,
    "start_time": "2023-05-27T07:50:25.827Z"
   },
   {
    "duration": 470,
    "start_time": "2023-05-27T07:50:25.850Z"
   },
   {
    "duration": 185,
    "start_time": "2023-05-27T07:50:26.324Z"
   },
   {
    "duration": 3348,
    "start_time": "2023-05-27T07:50:26.510Z"
   },
   {
    "duration": 3155,
    "start_time": "2023-05-27T07:50:49.384Z"
   },
   {
    "duration": 194,
    "start_time": "2023-05-27T07:50:52.541Z"
   },
   {
    "duration": 1258,
    "start_time": "2023-05-27T07:55:47.248Z"
   },
   {
    "duration": 39,
    "start_time": "2023-05-27T07:55:48.508Z"
   },
   {
    "duration": 11,
    "start_time": "2023-05-27T07:55:48.549Z"
   },
   {
    "duration": 22,
    "start_time": "2023-05-27T07:55:48.561Z"
   },
   {
    "duration": 21,
    "start_time": "2023-05-27T07:55:48.585Z"
   },
   {
    "duration": 17,
    "start_time": "2023-05-27T07:55:48.607Z"
   },
   {
    "duration": 32,
    "start_time": "2023-05-27T07:55:48.626Z"
   },
   {
    "duration": 148,
    "start_time": "2023-05-27T07:55:48.660Z"
   },
   {
    "duration": 23,
    "start_time": "2023-05-27T07:55:48.810Z"
   },
   {
    "duration": 23,
    "start_time": "2023-05-27T07:55:48.834Z"
   },
   {
    "duration": 10,
    "start_time": "2023-05-27T07:55:48.858Z"
   },
   {
    "duration": 6,
    "start_time": "2023-05-27T07:55:48.870Z"
   },
   {
    "duration": 20,
    "start_time": "2023-05-27T07:55:48.877Z"
   },
   {
    "duration": 414,
    "start_time": "2023-05-27T07:55:48.899Z"
   },
   {
    "duration": 190,
    "start_time": "2023-05-27T07:55:49.314Z"
   },
   {
    "duration": 3111,
    "start_time": "2023-05-27T07:55:49.506Z"
   },
   {
    "duration": 224,
    "start_time": "2023-05-27T07:55:52.619Z"
   },
   {
    "duration": 3076,
    "start_time": "2023-05-27T07:56:46.588Z"
   },
   {
    "duration": 3749,
    "start_time": "2023-05-27T07:57:00.222Z"
   },
   {
    "duration": 1433,
    "start_time": "2023-05-27T07:57:51.902Z"
   },
   {
    "duration": 45,
    "start_time": "2023-05-27T07:57:53.337Z"
   },
   {
    "duration": 12,
    "start_time": "2023-05-27T07:57:53.383Z"
   },
   {
    "duration": 83,
    "start_time": "2023-05-27T07:57:53.397Z"
   },
   {
    "duration": 78,
    "start_time": "2023-05-27T07:57:53.483Z"
   },
   {
    "duration": 29,
    "start_time": "2023-05-27T07:57:53.562Z"
   },
   {
    "duration": 10,
    "start_time": "2023-05-27T07:57:53.592Z"
   },
   {
    "duration": 153,
    "start_time": "2023-05-27T07:57:53.603Z"
   },
   {
    "duration": 20,
    "start_time": "2023-05-27T07:57:53.757Z"
   },
   {
    "duration": 17,
    "start_time": "2023-05-27T07:57:53.779Z"
   },
   {
    "duration": 37,
    "start_time": "2023-05-27T07:57:53.798Z"
   },
   {
    "duration": 19,
    "start_time": "2023-05-27T07:57:53.837Z"
   },
   {
    "duration": 26,
    "start_time": "2023-05-27T07:57:53.858Z"
   },
   {
    "duration": 405,
    "start_time": "2023-05-27T07:57:53.887Z"
   },
   {
    "duration": 184,
    "start_time": "2023-05-27T07:57:54.293Z"
   },
   {
    "duration": 3404,
    "start_time": "2023-05-27T07:57:54.478Z"
   },
   {
    "duration": 202,
    "start_time": "2023-05-27T07:57:57.884Z"
   },
   {
    "duration": 1395,
    "start_time": "2023-05-27T08:00:15.228Z"
   },
   {
    "duration": 40,
    "start_time": "2023-05-27T08:00:16.624Z"
   },
   {
    "duration": 18,
    "start_time": "2023-05-27T08:00:16.667Z"
   },
   {
    "duration": 25,
    "start_time": "2023-05-27T08:00:16.688Z"
   },
   {
    "duration": 6,
    "start_time": "2023-05-27T08:00:16.715Z"
   },
   {
    "duration": 11,
    "start_time": "2023-05-27T08:00:16.725Z"
   },
   {
    "duration": 11,
    "start_time": "2023-05-27T08:00:16.738Z"
   },
   {
    "duration": 164,
    "start_time": "2023-05-27T08:00:16.751Z"
   },
   {
    "duration": 20,
    "start_time": "2023-05-27T08:00:16.917Z"
   },
   {
    "duration": 16,
    "start_time": "2023-05-27T08:00:16.939Z"
   },
   {
    "duration": 11,
    "start_time": "2023-05-27T08:00:16.956Z"
   },
   {
    "duration": 6,
    "start_time": "2023-05-27T08:00:16.969Z"
   },
   {
    "duration": 10,
    "start_time": "2023-05-27T08:00:16.977Z"
   },
   {
    "duration": 447,
    "start_time": "2023-05-27T08:00:16.989Z"
   },
   {
    "duration": 190,
    "start_time": "2023-05-27T08:00:17.438Z"
   },
   {
    "duration": 3097,
    "start_time": "2023-05-27T08:00:17.630Z"
   },
   {
    "duration": 194,
    "start_time": "2023-05-27T08:00:20.729Z"
   },
   {
    "duration": 183,
    "start_time": "2023-05-27T08:00:35.635Z"
   },
   {
    "duration": 3571,
    "start_time": "2023-05-27T08:04:23.979Z"
   },
   {
    "duration": 1370,
    "start_time": "2023-05-27T08:04:58.701Z"
   },
   {
    "duration": 39,
    "start_time": "2023-05-27T08:05:00.073Z"
   },
   {
    "duration": 52,
    "start_time": "2023-05-27T08:05:00.117Z"
   },
   {
    "duration": 35,
    "start_time": "2023-05-27T08:05:00.172Z"
   },
   {
    "duration": 64,
    "start_time": "2023-05-27T08:05:00.209Z"
   },
   {
    "duration": 48,
    "start_time": "2023-05-27T08:05:00.274Z"
   },
   {
    "duration": 25,
    "start_time": "2023-05-27T08:05:00.324Z"
   },
   {
    "duration": 195,
    "start_time": "2023-05-27T08:05:00.350Z"
   },
   {
    "duration": 17,
    "start_time": "2023-05-27T08:05:00.547Z"
   },
   {
    "duration": 37,
    "start_time": "2023-05-27T08:05:00.565Z"
   },
   {
    "duration": 31,
    "start_time": "2023-05-27T08:05:00.605Z"
   },
   {
    "duration": 70,
    "start_time": "2023-05-27T08:05:00.637Z"
   },
   {
    "duration": 42,
    "start_time": "2023-05-27T08:05:00.710Z"
   },
   {
    "duration": 509,
    "start_time": "2023-05-27T08:05:00.753Z"
   },
   {
    "duration": 201,
    "start_time": "2023-05-27T08:05:01.263Z"
   },
   {
    "duration": 3173,
    "start_time": "2023-05-27T08:05:01.465Z"
   },
   {
    "duration": 236,
    "start_time": "2023-05-27T08:05:04.639Z"
   },
   {
    "duration": 3518,
    "start_time": "2023-05-27T08:05:04.878Z"
   },
   {
    "duration": 105,
    "start_time": "2023-05-27T08:06:29.074Z"
   },
   {
    "duration": 1394,
    "start_time": "2023-05-27T08:06:56.946Z"
   },
   {
    "duration": 40,
    "start_time": "2023-05-27T08:06:58.342Z"
   },
   {
    "duration": 15,
    "start_time": "2023-05-27T08:06:58.384Z"
   },
   {
    "duration": 21,
    "start_time": "2023-05-27T08:06:58.400Z"
   },
   {
    "duration": 26,
    "start_time": "2023-05-27T08:06:58.423Z"
   },
   {
    "duration": 16,
    "start_time": "2023-05-27T08:06:58.450Z"
   },
   {
    "duration": 22,
    "start_time": "2023-05-27T08:06:58.468Z"
   },
   {
    "duration": 176,
    "start_time": "2023-05-27T08:06:58.491Z"
   },
   {
    "duration": 17,
    "start_time": "2023-05-27T08:06:58.669Z"
   },
   {
    "duration": 69,
    "start_time": "2023-05-27T08:06:58.687Z"
   },
   {
    "duration": 43,
    "start_time": "2023-05-27T08:06:58.758Z"
   },
   {
    "duration": 39,
    "start_time": "2023-05-27T08:06:58.802Z"
   },
   {
    "duration": 34,
    "start_time": "2023-05-27T08:06:58.842Z"
   },
   {
    "duration": 503,
    "start_time": "2023-05-27T08:06:58.878Z"
   },
   {
    "duration": 203,
    "start_time": "2023-05-27T08:06:59.383Z"
   },
   {
    "duration": 3331,
    "start_time": "2023-05-27T08:06:59.587Z"
   },
   {
    "duration": 190,
    "start_time": "2023-05-27T08:07:02.919Z"
   },
   {
    "duration": 3518,
    "start_time": "2023-05-27T08:07:03.111Z"
   },
   {
    "duration": 148,
    "start_time": "2023-05-27T08:07:06.631Z"
   },
   {
    "duration": 1135,
    "start_time": "2023-05-27T08:07:39.654Z"
   },
   {
    "duration": 135,
    "start_time": "2023-05-27T08:07:45.080Z"
   },
   {
    "duration": 118,
    "start_time": "2023-05-27T08:08:17.256Z"
   },
   {
    "duration": 141,
    "start_time": "2023-05-27T08:08:36.671Z"
   },
   {
    "duration": 895,
    "start_time": "2023-05-27T08:08:43.743Z"
   },
   {
    "duration": 3586,
    "start_time": "2023-05-27T08:09:12.017Z"
   },
   {
    "duration": 160,
    "start_time": "2023-05-27T08:09:15.605Z"
   },
   {
    "duration": 157,
    "start_time": "2023-05-27T08:09:27.736Z"
   },
   {
    "duration": 180,
    "start_time": "2023-05-27T08:09:32.606Z"
   },
   {
    "duration": 4,
    "start_time": "2023-05-27T08:09:53.192Z"
   },
   {
    "duration": 3,
    "start_time": "2023-05-27T08:09:58.647Z"
   },
   {
    "duration": 111,
    "start_time": "2023-05-27T08:10:11.895Z"
   },
   {
    "duration": 9,
    "start_time": "2023-05-27T08:10:30.335Z"
   },
   {
    "duration": 9,
    "start_time": "2023-05-27T08:10:41.721Z"
   },
   {
    "duration": 144,
    "start_time": "2023-05-27T08:12:54.802Z"
   },
   {
    "duration": 104,
    "start_time": "2023-05-27T08:13:24.385Z"
   },
   {
    "duration": 1274,
    "start_time": "2023-05-27T08:13:31.635Z"
   },
   {
    "duration": 39,
    "start_time": "2023-05-27T08:13:32.911Z"
   },
   {
    "duration": 12,
    "start_time": "2023-05-27T08:13:32.952Z"
   },
   {
    "duration": 22,
    "start_time": "2023-05-27T08:13:32.965Z"
   },
   {
    "duration": 23,
    "start_time": "2023-05-27T08:13:32.989Z"
   },
   {
    "duration": 26,
    "start_time": "2023-05-27T08:13:33.013Z"
   },
   {
    "duration": 12,
    "start_time": "2023-05-27T08:13:33.041Z"
   },
   {
    "duration": 144,
    "start_time": "2023-05-27T08:13:33.054Z"
   },
   {
    "duration": 17,
    "start_time": "2023-05-27T08:13:33.200Z"
   },
   {
    "duration": 15,
    "start_time": "2023-05-27T08:13:33.225Z"
   },
   {
    "duration": 10,
    "start_time": "2023-05-27T08:13:33.242Z"
   },
   {
    "duration": 6,
    "start_time": "2023-05-27T08:13:33.254Z"
   },
   {
    "duration": 23,
    "start_time": "2023-05-27T08:13:33.262Z"
   },
   {
    "duration": 460,
    "start_time": "2023-05-27T08:13:33.288Z"
   },
   {
    "duration": 193,
    "start_time": "2023-05-27T08:13:33.750Z"
   },
   {
    "duration": 3210,
    "start_time": "2023-05-27T08:13:33.945Z"
   },
   {
    "duration": 177,
    "start_time": "2023-05-27T08:13:37.157Z"
   },
   {
    "duration": 3514,
    "start_time": "2023-05-27T08:13:37.336Z"
   },
   {
    "duration": 173,
    "start_time": "2023-05-27T08:13:40.852Z"
   },
   {
    "duration": 1275,
    "start_time": "2023-05-27T08:14:07.537Z"
   },
   {
    "duration": 39,
    "start_time": "2023-05-27T08:14:08.814Z"
   },
   {
    "duration": 11,
    "start_time": "2023-05-27T08:14:08.855Z"
   },
   {
    "duration": 22,
    "start_time": "2023-05-27T08:14:08.868Z"
   },
   {
    "duration": 27,
    "start_time": "2023-05-27T08:14:08.892Z"
   },
   {
    "duration": 24,
    "start_time": "2023-05-27T08:14:08.921Z"
   },
   {
    "duration": 25,
    "start_time": "2023-05-27T08:14:08.947Z"
   },
   {
    "duration": 152,
    "start_time": "2023-05-27T08:14:08.974Z"
   },
   {
    "duration": 17,
    "start_time": "2023-05-27T08:14:09.128Z"
   },
   {
    "duration": 19,
    "start_time": "2023-05-27T08:14:09.148Z"
   },
   {
    "duration": 15,
    "start_time": "2023-05-27T08:14:09.169Z"
   },
   {
    "duration": 24,
    "start_time": "2023-05-27T08:14:09.185Z"
   },
   {
    "duration": 30,
    "start_time": "2023-05-27T08:14:09.210Z"
   },
   {
    "duration": 468,
    "start_time": "2023-05-27T08:14:09.242Z"
   },
   {
    "duration": 202,
    "start_time": "2023-05-27T08:14:09.712Z"
   },
   {
    "duration": 3275,
    "start_time": "2023-05-27T08:14:09.916Z"
   },
   {
    "duration": 207,
    "start_time": "2023-05-27T08:14:13.194Z"
   },
   {
    "duration": 3578,
    "start_time": "2023-05-27T08:14:13.403Z"
   },
   {
    "duration": 122,
    "start_time": "2023-05-27T08:14:16.983Z"
   },
   {
    "duration": 110,
    "start_time": "2023-05-27T08:25:49.453Z"
   },
   {
    "duration": 1325,
    "start_time": "2023-05-27T08:26:11.919Z"
   },
   {
    "duration": 131,
    "start_time": "2023-05-27T08:26:19.122Z"
   },
   {
    "duration": 1301,
    "start_time": "2023-05-27T08:27:04.829Z"
   },
   {
    "duration": 186,
    "start_time": "2023-05-27T08:27:07.486Z"
   },
   {
    "duration": 2840,
    "start_time": "2023-05-27T08:27:20.086Z"
   },
   {
    "duration": 225,
    "start_time": "2023-05-27T08:27:22.928Z"
   },
   {
    "duration": 1408,
    "start_time": "2023-05-27T09:12:10.939Z"
   },
   {
    "duration": 40,
    "start_time": "2023-05-27T09:12:12.349Z"
   },
   {
    "duration": 49,
    "start_time": "2023-05-27T09:12:12.391Z"
   },
   {
    "duration": 38,
    "start_time": "2023-05-27T09:12:12.442Z"
   },
   {
    "duration": 11,
    "start_time": "2023-05-27T09:12:12.482Z"
   },
   {
    "duration": 41,
    "start_time": "2023-05-27T09:12:12.495Z"
   },
   {
    "duration": 13,
    "start_time": "2023-05-27T09:12:12.540Z"
   },
   {
    "duration": 216,
    "start_time": "2023-05-27T09:12:12.554Z"
   },
   {
    "duration": 19,
    "start_time": "2023-05-27T09:12:12.772Z"
   },
   {
    "duration": 43,
    "start_time": "2023-05-27T09:12:12.793Z"
   },
   {
    "duration": 15,
    "start_time": "2023-05-27T09:12:12.838Z"
   },
   {
    "duration": 21,
    "start_time": "2023-05-27T09:12:12.855Z"
   },
   {
    "duration": 19,
    "start_time": "2023-05-27T09:12:12.878Z"
   },
   {
    "duration": 503,
    "start_time": "2023-05-27T09:12:12.899Z"
   },
   {
    "duration": 194,
    "start_time": "2023-05-27T09:12:13.404Z"
   },
   {
    "duration": 3280,
    "start_time": "2023-05-27T09:12:13.599Z"
   },
   {
    "duration": 194,
    "start_time": "2023-05-27T09:12:16.881Z"
   },
   {
    "duration": 3617,
    "start_time": "2023-05-27T09:12:17.077Z"
   },
   {
    "duration": 140,
    "start_time": "2023-05-27T09:12:20.696Z"
   },
   {
    "duration": 2387,
    "start_time": "2023-05-27T09:12:20.840Z"
   },
   {
    "duration": 228,
    "start_time": "2023-05-27T09:12:23.232Z"
   },
   {
    "duration": 114,
    "start_time": "2023-05-27T09:23:06.157Z"
   },
   {
    "duration": 1279,
    "start_time": "2023-05-27T09:23:18.355Z"
   },
   {
    "duration": 41,
    "start_time": "2023-05-27T09:23:19.636Z"
   },
   {
    "duration": 12,
    "start_time": "2023-05-27T09:23:19.679Z"
   },
   {
    "duration": 42,
    "start_time": "2023-05-27T09:23:19.692Z"
   },
   {
    "duration": 23,
    "start_time": "2023-05-27T09:23:19.737Z"
   },
   {
    "duration": 25,
    "start_time": "2023-05-27T09:23:19.762Z"
   },
   {
    "duration": 33,
    "start_time": "2023-05-27T09:23:19.789Z"
   },
   {
    "duration": 172,
    "start_time": "2023-05-27T09:23:19.824Z"
   },
   {
    "duration": 19,
    "start_time": "2023-05-27T09:23:19.998Z"
   },
   {
    "duration": 37,
    "start_time": "2023-05-27T09:23:20.025Z"
   },
   {
    "duration": 75,
    "start_time": "2023-05-27T09:23:20.064Z"
   },
   {
    "duration": 36,
    "start_time": "2023-05-27T09:23:20.141Z"
   },
   {
    "duration": 28,
    "start_time": "2023-05-27T09:23:20.179Z"
   },
   {
    "duration": 442,
    "start_time": "2023-05-27T09:23:20.210Z"
   },
   {
    "duration": 171,
    "start_time": "2023-05-27T09:23:20.653Z"
   },
   {
    "duration": 3148,
    "start_time": "2023-05-27T09:23:20.826Z"
   },
   {
    "duration": 181,
    "start_time": "2023-05-27T09:23:23.976Z"
   },
   {
    "duration": 3537,
    "start_time": "2023-05-27T09:23:24.158Z"
   },
   {
    "duration": 127,
    "start_time": "2023-05-27T09:23:27.697Z"
   },
   {
    "duration": 3007,
    "start_time": "2023-05-27T09:23:27.826Z"
   },
   {
    "duration": 323,
    "start_time": "2023-05-27T09:23:30.835Z"
   },
   {
    "duration": 5,
    "start_time": "2023-05-27T09:23:31.160Z"
   },
   {
    "duration": 164,
    "start_time": "2023-05-27T09:23:31.166Z"
   },
   {
    "duration": 0,
    "start_time": "2023-05-27T09:23:31.331Z"
   },
   {
    "duration": 4,
    "start_time": "2023-05-27T09:23:47.924Z"
   },
   {
    "duration": 10,
    "start_time": "2023-05-27T09:23:51.798Z"
   },
   {
    "duration": 4,
    "start_time": "2023-05-27T09:23:55.236Z"
   },
   {
    "duration": 9,
    "start_time": "2023-05-27T09:23:56.365Z"
   },
   {
    "duration": 729,
    "start_time": "2023-05-27T09:23:56.644Z"
   },
   {
    "duration": 4,
    "start_time": "2023-05-27T09:32:50.054Z"
   },
   {
    "duration": 9,
    "start_time": "2023-05-27T09:32:51.326Z"
   },
   {
    "duration": 9,
    "start_time": "2023-05-27T09:33:05.104Z"
   },
   {
    "duration": 363,
    "start_time": "2023-05-27T09:34:10.060Z"
   },
   {
    "duration": 68,
    "start_time": "2023-05-27T09:34:33.315Z"
   },
   {
    "duration": 301,
    "start_time": "2023-05-27T09:38:05.064Z"
   },
   {
    "duration": 274,
    "start_time": "2023-05-27T09:39:17.710Z"
   },
   {
    "duration": 269,
    "start_time": "2023-05-27T09:39:35.665Z"
   },
   {
    "duration": 302,
    "start_time": "2023-05-27T09:39:42.762Z"
   },
   {
    "duration": 274,
    "start_time": "2023-05-27T09:39:47.025Z"
   },
   {
    "duration": 307,
    "start_time": "2023-05-27T09:39:51.924Z"
   },
   {
    "duration": 318,
    "start_time": "2023-05-27T09:39:54.880Z"
   },
   {
    "duration": 287,
    "start_time": "2023-05-27T09:39:59.418Z"
   },
   {
    "duration": 279,
    "start_time": "2023-05-27T09:40:03.026Z"
   },
   {
    "duration": 285,
    "start_time": "2023-05-27T09:40:08.190Z"
   },
   {
    "duration": 302,
    "start_time": "2023-05-27T09:40:11.825Z"
   },
   {
    "duration": 278,
    "start_time": "2023-05-27T09:40:15.091Z"
   },
   {
    "duration": 276,
    "start_time": "2023-05-27T09:40:18.961Z"
   },
   {
    "duration": 275,
    "start_time": "2023-05-27T09:40:21.999Z"
   },
   {
    "duration": 284,
    "start_time": "2023-05-27T09:40:25.144Z"
   },
   {
    "duration": 281,
    "start_time": "2023-05-27T09:40:28.828Z"
   },
   {
    "duration": 275,
    "start_time": "2023-05-27T09:40:32.049Z"
   },
   {
    "duration": 304,
    "start_time": "2023-05-27T09:40:35.299Z"
   },
   {
    "duration": 280,
    "start_time": "2023-05-27T09:40:38.391Z"
   },
   {
    "duration": 9,
    "start_time": "2023-05-27T09:41:07.616Z"
   },
   {
    "duration": 9,
    "start_time": "2023-05-27T09:41:42.528Z"
   },
   {
    "duration": 4,
    "start_time": "2023-05-27T09:42:04.601Z"
   },
   {
    "duration": 10,
    "start_time": "2023-05-27T09:42:10.694Z"
   },
   {
    "duration": 10,
    "start_time": "2023-05-27T09:42:37.653Z"
   },
   {
    "duration": 11878,
    "start_time": "2023-05-27T09:42:52.526Z"
   },
   {
    "duration": 71861,
    "start_time": "2023-05-27T09:43:42.789Z"
   },
   {
    "duration": 39347,
    "start_time": "2023-05-27T09:45:13.080Z"
   },
   {
    "duration": 1483,
    "start_time": "2023-05-27T09:49:05.489Z"
   },
   {
    "duration": 42,
    "start_time": "2023-05-27T09:49:06.975Z"
   },
   {
    "duration": 16,
    "start_time": "2023-05-27T09:49:07.019Z"
   },
   {
    "duration": 29,
    "start_time": "2023-05-27T09:49:07.037Z"
   },
   {
    "duration": 13,
    "start_time": "2023-05-27T09:49:07.069Z"
   },
   {
    "duration": 17,
    "start_time": "2023-05-27T09:49:07.085Z"
   },
   {
    "duration": 21,
    "start_time": "2023-05-27T09:49:07.104Z"
   },
   {
    "duration": 171,
    "start_time": "2023-05-27T09:49:07.127Z"
   },
   {
    "duration": 39,
    "start_time": "2023-05-27T09:49:07.299Z"
   },
   {
    "duration": 144,
    "start_time": "2023-05-27T09:49:07.341Z"
   },
   {
    "duration": 0,
    "start_time": "2023-05-27T09:49:07.488Z"
   },
   {
    "duration": 0,
    "start_time": "2023-05-27T09:49:07.490Z"
   },
   {
    "duration": 1,
    "start_time": "2023-05-27T09:49:07.490Z"
   },
   {
    "duration": 0,
    "start_time": "2023-05-27T09:49:07.493Z"
   },
   {
    "duration": 0,
    "start_time": "2023-05-27T09:49:07.494Z"
   },
   {
    "duration": 0,
    "start_time": "2023-05-27T09:49:07.496Z"
   },
   {
    "duration": 0,
    "start_time": "2023-05-27T09:49:07.498Z"
   },
   {
    "duration": 0,
    "start_time": "2023-05-27T09:49:07.499Z"
   },
   {
    "duration": 0,
    "start_time": "2023-05-27T09:49:07.525Z"
   },
   {
    "duration": 0,
    "start_time": "2023-05-27T09:49:07.527Z"
   },
   {
    "duration": 0,
    "start_time": "2023-05-27T09:49:07.528Z"
   },
   {
    "duration": 0,
    "start_time": "2023-05-27T09:49:07.529Z"
   },
   {
    "duration": 0,
    "start_time": "2023-05-27T09:49:07.532Z"
   },
   {
    "duration": 0,
    "start_time": "2023-05-27T09:49:07.533Z"
   },
   {
    "duration": 0,
    "start_time": "2023-05-27T09:49:07.534Z"
   },
   {
    "duration": 0,
    "start_time": "2023-05-27T09:49:07.535Z"
   },
   {
    "duration": 0,
    "start_time": "2023-05-27T09:49:07.536Z"
   },
   {
    "duration": 0,
    "start_time": "2023-05-27T09:49:07.537Z"
   },
   {
    "duration": 0,
    "start_time": "2023-05-27T09:49:07.538Z"
   },
   {
    "duration": 1463,
    "start_time": "2023-05-27T09:52:11.621Z"
   },
   {
    "duration": 46,
    "start_time": "2023-05-27T09:52:13.086Z"
   },
   {
    "duration": 21,
    "start_time": "2023-05-27T09:52:13.134Z"
   },
   {
    "duration": 22,
    "start_time": "2023-05-27T09:52:13.158Z"
   },
   {
    "duration": 12,
    "start_time": "2023-05-27T09:52:13.183Z"
   },
   {
    "duration": 6,
    "start_time": "2023-05-27T09:52:13.224Z"
   },
   {
    "duration": 13,
    "start_time": "2023-05-27T09:52:13.234Z"
   },
   {
    "duration": 293,
    "start_time": "2023-05-27T09:52:13.249Z"
   },
   {
    "duration": 29,
    "start_time": "2023-05-27T09:52:13.544Z"
   },
   {
    "duration": 57,
    "start_time": "2023-05-27T09:52:13.575Z"
   },
   {
    "duration": 19,
    "start_time": "2023-05-27T09:52:13.635Z"
   },
   {
    "duration": 7,
    "start_time": "2023-05-27T09:52:13.655Z"
   },
   {
    "duration": 37,
    "start_time": "2023-05-27T09:52:13.664Z"
   },
   {
    "duration": 489,
    "start_time": "2023-05-27T09:52:13.704Z"
   },
   {
    "duration": 205,
    "start_time": "2023-05-27T09:52:14.195Z"
   },
   {
    "duration": 3395,
    "start_time": "2023-05-27T09:52:14.402Z"
   },
   {
    "duration": 206,
    "start_time": "2023-05-27T09:52:17.799Z"
   },
   {
    "duration": 3773,
    "start_time": "2023-05-27T09:52:18.007Z"
   },
   {
    "duration": 165,
    "start_time": "2023-05-27T09:52:21.781Z"
   },
   {
    "duration": 2492,
    "start_time": "2023-05-27T09:52:21.948Z"
   },
   {
    "duration": 217,
    "start_time": "2023-05-27T09:52:24.524Z"
   },
   {
    "duration": 4,
    "start_time": "2023-05-27T09:52:24.743Z"
   },
   {
    "duration": 20,
    "start_time": "2023-05-27T09:52:24.749Z"
   },
   {
    "duration": 915,
    "start_time": "2023-05-27T09:52:24.771Z"
   },
   {
    "duration": 5,
    "start_time": "2023-05-27T09:52:25.687Z"
   },
   {
    "duration": 29,
    "start_time": "2023-05-27T09:52:25.693Z"
   },
   {
    "duration": 299,
    "start_time": "2023-05-27T09:52:25.727Z"
   },
   {
    "duration": 43892,
    "start_time": "2023-05-27T09:52:26.027Z"
   },
   {
    "duration": 351,
    "start_time": "2023-05-27T09:53:09.925Z"
   },
   {
    "duration": 808,
    "start_time": "2023-05-27T09:56:48.890Z"
   },
   {
    "duration": 300,
    "start_time": "2023-05-27T09:56:53.657Z"
   },
   {
    "duration": 185,
    "start_time": "2023-05-27T09:57:02.591Z"
   },
   {
    "duration": 223,
    "start_time": "2023-05-27T09:57:08.311Z"
   },
   {
    "duration": 146,
    "start_time": "2023-05-27T09:57:11.544Z"
   },
   {
    "duration": 124,
    "start_time": "2023-05-27T09:57:15.248Z"
   },
   {
    "duration": 77,
    "start_time": "2023-05-27T09:57:18.449Z"
   },
   {
    "duration": 71,
    "start_time": "2023-05-27T09:57:22.088Z"
   },
   {
    "duration": 47,
    "start_time": "2023-05-27T09:57:24.287Z"
   },
   {
    "duration": 271,
    "start_time": "2023-05-27T09:57:32.808Z"
   },
   {
    "duration": 88,
    "start_time": "2023-05-27T09:57:40.649Z"
   },
   {
    "duration": 83,
    "start_time": "2023-05-27T09:57:43.425Z"
   },
   {
    "duration": 99,
    "start_time": "2023-05-27T09:57:48.649Z"
   },
   {
    "duration": 319,
    "start_time": "2023-05-27T09:58:35.023Z"
   },
   {
    "duration": 336,
    "start_time": "2023-05-27T09:58:39.204Z"
   },
   {
    "duration": 323,
    "start_time": "2023-05-27T09:58:42.416Z"
   },
   {
    "duration": 333,
    "start_time": "2023-05-27T09:58:45.225Z"
   },
   {
    "duration": 295,
    "start_time": "2023-05-27T09:58:48.734Z"
   },
   {
    "duration": 1341,
    "start_time": "2023-05-27T09:59:42.143Z"
   },
   {
    "duration": 42,
    "start_time": "2023-05-27T09:59:43.486Z"
   },
   {
    "duration": 13,
    "start_time": "2023-05-27T09:59:43.530Z"
   },
   {
    "duration": 25,
    "start_time": "2023-05-27T09:59:43.545Z"
   },
   {
    "duration": 39,
    "start_time": "2023-05-27T09:59:43.572Z"
   },
   {
    "duration": 29,
    "start_time": "2023-05-27T09:59:43.613Z"
   },
   {
    "duration": 29,
    "start_time": "2023-05-27T09:59:43.644Z"
   },
   {
    "duration": 172,
    "start_time": "2023-05-27T09:59:43.674Z"
   },
   {
    "duration": 17,
    "start_time": "2023-05-27T09:59:43.848Z"
   },
   {
    "duration": 34,
    "start_time": "2023-05-27T09:59:43.867Z"
   },
   {
    "duration": 56,
    "start_time": "2023-05-27T09:59:43.903Z"
   },
   {
    "duration": 35,
    "start_time": "2023-05-27T09:59:43.960Z"
   },
   {
    "duration": 69,
    "start_time": "2023-05-27T09:59:43.996Z"
   },
   {
    "duration": 431,
    "start_time": "2023-05-27T09:59:44.067Z"
   },
   {
    "duration": 176,
    "start_time": "2023-05-27T09:59:44.500Z"
   },
   {
    "duration": 10546,
    "start_time": "2023-05-27T10:00:13.827Z"
   },
   {
    "duration": 182,
    "start_time": "2023-05-27T10:00:28.768Z"
   },
   {
    "duration": 3682,
    "start_time": "2023-05-27T10:00:34.603Z"
   },
   {
    "duration": 5168,
    "start_time": "2023-05-27T10:00:53.982Z"
   },
   {
    "duration": 133,
    "start_time": "2023-05-27T10:01:03.608Z"
   },
   {
    "duration": 122,
    "start_time": "2023-05-27T10:01:13.744Z"
   },
   {
    "duration": 1335,
    "start_time": "2023-05-27T10:01:50.488Z"
   },
   {
    "duration": 41,
    "start_time": "2023-05-27T10:01:51.825Z"
   },
   {
    "duration": 12,
    "start_time": "2023-05-27T10:01:51.867Z"
   },
   {
    "duration": 23,
    "start_time": "2023-05-27T10:01:51.881Z"
   },
   {
    "duration": 5,
    "start_time": "2023-05-27T10:01:51.906Z"
   },
   {
    "duration": 15,
    "start_time": "2023-05-27T10:01:51.912Z"
   },
   {
    "duration": 25,
    "start_time": "2023-05-27T10:01:51.929Z"
   },
   {
    "duration": 161,
    "start_time": "2023-05-27T10:01:51.956Z"
   },
   {
    "duration": 19,
    "start_time": "2023-05-27T10:01:52.119Z"
   },
   {
    "duration": 23,
    "start_time": "2023-05-27T10:01:52.140Z"
   },
   {
    "duration": 21,
    "start_time": "2023-05-27T10:01:52.164Z"
   },
   {
    "duration": 9,
    "start_time": "2023-05-27T10:01:52.187Z"
   },
   {
    "duration": 20,
    "start_time": "2023-05-27T10:01:52.198Z"
   },
   {
    "duration": 429,
    "start_time": "2023-05-27T10:01:52.224Z"
   },
   {
    "duration": 189,
    "start_time": "2023-05-27T10:01:52.655Z"
   },
   {
    "duration": 10247,
    "start_time": "2023-05-27T10:01:52.846Z"
   },
   {
    "duration": 189,
    "start_time": "2023-05-27T10:02:03.094Z"
   },
   {
    "duration": 5216,
    "start_time": "2023-05-27T10:02:03.285Z"
   },
   {
    "duration": 140,
    "start_time": "2023-05-27T10:02:08.503Z"
   },
   {
    "duration": 2786,
    "start_time": "2023-05-27T10:02:08.645Z"
   },
   {
    "duration": 323,
    "start_time": "2023-05-27T10:02:11.434Z"
   },
   {
    "duration": 4,
    "start_time": "2023-05-27T10:02:11.759Z"
   },
   {
    "duration": 22,
    "start_time": "2023-05-27T10:02:11.765Z"
   },
   {
    "duration": 888,
    "start_time": "2023-05-27T10:02:11.789Z"
   },
   {
    "duration": 4,
    "start_time": "2023-05-27T10:02:12.679Z"
   },
   {
    "duration": 16,
    "start_time": "2023-05-27T10:02:12.684Z"
   },
   {
    "duration": 302,
    "start_time": "2023-05-27T10:02:12.701Z"
   },
   {
    "duration": 38429,
    "start_time": "2023-05-27T10:02:13.005Z"
   },
   {
    "duration": 311,
    "start_time": "2023-05-27T10:02:51.436Z"
   },
   {
    "duration": 125,
    "start_time": "2023-05-27T10:03:43.020Z"
   },
   {
    "duration": 102719,
    "start_time": "2023-05-27T10:03:50.882Z"
   },
   {
    "duration": 324,
    "start_time": "2023-05-27T10:05:41.894Z"
   },
   {
    "duration": 306,
    "start_time": "2023-05-27T10:05:52.402Z"
   },
   {
    "duration": 53,
    "start_time": "2023-05-27T10:09:03.049Z"
   },
   {
    "duration": 39,
    "start_time": "2023-05-27T10:09:21.389Z"
   },
   {
    "duration": 42,
    "start_time": "2023-05-27T10:09:33.981Z"
   },
   {
    "duration": 42,
    "start_time": "2023-05-27T10:09:44.447Z"
   },
   {
    "duration": 44,
    "start_time": "2023-05-27T10:09:49.128Z"
   },
   {
    "duration": 51,
    "start_time": "2023-05-27T10:10:14.082Z"
   },
   {
    "duration": 1336,
    "start_time": "2023-05-27T10:12:31.726Z"
   },
   {
    "duration": 41,
    "start_time": "2023-05-27T10:12:33.064Z"
   },
   {
    "duration": 35,
    "start_time": "2023-05-27T10:12:33.107Z"
   },
   {
    "duration": 31,
    "start_time": "2023-05-27T10:12:33.144Z"
   },
   {
    "duration": 9,
    "start_time": "2023-05-27T10:12:33.177Z"
   },
   {
    "duration": 25,
    "start_time": "2023-05-27T10:12:33.188Z"
   },
   {
    "duration": 29,
    "start_time": "2023-05-27T10:12:33.214Z"
   },
   {
    "duration": 162,
    "start_time": "2023-05-27T10:12:33.245Z"
   },
   {
    "duration": 29,
    "start_time": "2023-05-27T10:12:33.408Z"
   },
   {
    "duration": 25,
    "start_time": "2023-05-27T10:12:33.441Z"
   },
   {
    "duration": 28,
    "start_time": "2023-05-27T10:12:33.468Z"
   },
   {
    "duration": 28,
    "start_time": "2023-05-27T10:12:33.497Z"
   },
   {
    "duration": 50,
    "start_time": "2023-05-27T10:12:33.527Z"
   },
   {
    "duration": 473,
    "start_time": "2023-05-27T10:12:33.579Z"
   },
   {
    "duration": 183,
    "start_time": "2023-05-27T10:12:34.054Z"
   },
   {
    "duration": 6594,
    "start_time": "2023-05-27T10:12:34.239Z"
   },
   {
    "duration": 201,
    "start_time": "2023-05-27T10:12:40.835Z"
   },
   {
    "duration": 5212,
    "start_time": "2023-05-27T10:12:41.037Z"
   },
   {
    "duration": 127,
    "start_time": "2023-05-27T10:12:46.250Z"
   },
   {
    "duration": 2653,
    "start_time": "2023-05-27T10:12:46.378Z"
   },
   {
    "duration": 284,
    "start_time": "2023-05-27T10:12:49.033Z"
   },
   {
    "duration": 4,
    "start_time": "2023-05-27T10:12:49.324Z"
   },
   {
    "duration": 15,
    "start_time": "2023-05-27T10:12:49.330Z"
   },
   {
    "duration": 800,
    "start_time": "2023-05-27T10:12:49.347Z"
   },
   {
    "duration": 4,
    "start_time": "2023-05-27T10:12:50.148Z"
   },
   {
    "duration": 21,
    "start_time": "2023-05-27T10:12:50.153Z"
   },
   {
    "duration": 291,
    "start_time": "2023-05-27T10:12:50.176Z"
   },
   {
    "duration": 1740,
    "start_time": "2023-05-27T10:14:27.010Z"
   },
   {
    "duration": 42,
    "start_time": "2023-05-27T10:14:28.753Z"
   },
   {
    "duration": 30,
    "start_time": "2023-05-27T10:14:28.796Z"
   },
   {
    "duration": 39,
    "start_time": "2023-05-27T10:14:28.830Z"
   },
   {
    "duration": 5,
    "start_time": "2023-05-27T10:14:28.872Z"
   },
   {
    "duration": 10,
    "start_time": "2023-05-27T10:14:28.878Z"
   },
   {
    "duration": 14,
    "start_time": "2023-05-27T10:14:28.889Z"
   },
   {
    "duration": 153,
    "start_time": "2023-05-27T10:14:28.904Z"
   },
   {
    "duration": 18,
    "start_time": "2023-05-27T10:14:29.058Z"
   },
   {
    "duration": 21,
    "start_time": "2023-05-27T10:14:29.078Z"
   },
   {
    "duration": 33,
    "start_time": "2023-05-27T10:14:29.101Z"
   },
   {
    "duration": 11,
    "start_time": "2023-05-27T10:14:29.135Z"
   },
   {
    "duration": 25,
    "start_time": "2023-05-27T10:14:29.147Z"
   },
   {
    "duration": 442,
    "start_time": "2023-05-27T10:14:29.175Z"
   },
   {
    "duration": 191,
    "start_time": "2023-05-27T10:14:29.619Z"
   },
   {
    "duration": 6634,
    "start_time": "2023-05-27T10:14:29.812Z"
   },
   {
    "duration": 181,
    "start_time": "2023-05-27T10:14:36.447Z"
   },
   {
    "duration": 5388,
    "start_time": "2023-05-27T10:14:36.630Z"
   },
   {
    "duration": 143,
    "start_time": "2023-05-27T10:14:42.019Z"
   },
   {
    "duration": 2670,
    "start_time": "2023-05-27T10:14:42.163Z"
   },
   {
    "duration": 304,
    "start_time": "2023-05-27T10:14:44.839Z"
   },
   {
    "duration": 6,
    "start_time": "2023-05-27T10:14:45.145Z"
   },
   {
    "duration": 38,
    "start_time": "2023-05-27T10:14:45.153Z"
   },
   {
    "duration": 860,
    "start_time": "2023-05-27T10:14:45.193Z"
   },
   {
    "duration": 5,
    "start_time": "2023-05-27T10:14:46.055Z"
   },
   {
    "duration": 45,
    "start_time": "2023-05-27T10:14:46.062Z"
   },
   {
    "duration": 335,
    "start_time": "2023-05-27T10:14:46.109Z"
   },
   {
    "duration": 325,
    "start_time": "2023-05-27T10:14:46.446Z"
   },
   {
    "duration": 45,
    "start_time": "2023-05-27T10:14:46.773Z"
   },
   {
    "duration": 111,
    "start_time": "2023-05-27T10:15:49.922Z"
   },
   {
    "duration": 103,
    "start_time": "2023-05-27T10:16:00.097Z"
   },
   {
    "duration": 2484,
    "start_time": "2023-05-27T21:21:46.747Z"
   },
   {
    "duration": 242,
    "start_time": "2023-05-27T21:21:49.234Z"
   },
   {
    "duration": 1698,
    "start_time": "2023-05-27T21:21:58.394Z"
   },
   {
    "duration": 54,
    "start_time": "2023-05-27T21:22:00.094Z"
   },
   {
    "duration": 19,
    "start_time": "2023-05-27T21:22:00.150Z"
   },
   {
    "duration": 30,
    "start_time": "2023-05-27T21:22:00.171Z"
   },
   {
    "duration": 6,
    "start_time": "2023-05-27T21:22:00.205Z"
   },
   {
    "duration": 11,
    "start_time": "2023-05-27T21:22:00.213Z"
   },
   {
    "duration": 15,
    "start_time": "2023-05-27T21:22:00.227Z"
   },
   {
    "duration": 180,
    "start_time": "2023-05-27T21:22:00.244Z"
   },
   {
    "duration": 25,
    "start_time": "2023-05-27T21:22:00.426Z"
   },
   {
    "duration": 47,
    "start_time": "2023-05-27T21:22:00.453Z"
   },
   {
    "duration": 15,
    "start_time": "2023-05-27T21:22:00.502Z"
   },
   {
    "duration": 24,
    "start_time": "2023-05-27T21:22:00.519Z"
   },
   {
    "duration": 19,
    "start_time": "2023-05-27T21:22:00.545Z"
   },
   {
    "duration": 953,
    "start_time": "2023-05-27T21:22:00.568Z"
   },
   {
    "duration": 581,
    "start_time": "2023-05-27T21:22:01.523Z"
   },
   {
    "duration": 7999,
    "start_time": "2023-05-27T21:22:02.106Z"
   },
   {
    "duration": 160,
    "start_time": "2023-05-27T21:22:10.107Z"
   },
   {
    "duration": 5792,
    "start_time": "2023-05-27T21:22:10.269Z"
   },
   {
    "duration": 162,
    "start_time": "2023-05-27T21:22:16.063Z"
   },
   {
    "duration": 2304,
    "start_time": "2023-05-27T21:22:16.228Z"
   },
   {
    "duration": 226,
    "start_time": "2023-05-27T21:22:18.596Z"
   },
   {
    "duration": 5,
    "start_time": "2023-05-27T21:22:18.824Z"
   },
   {
    "duration": 13,
    "start_time": "2023-05-27T21:22:18.831Z"
   },
   {
    "duration": 883,
    "start_time": "2023-05-27T21:22:18.846Z"
   },
   {
    "duration": 6,
    "start_time": "2023-05-27T21:22:19.731Z"
   },
   {
    "duration": 21,
    "start_time": "2023-05-27T21:22:19.738Z"
   },
   {
    "duration": 353,
    "start_time": "2023-05-27T21:22:19.761Z"
   },
   {
    "duration": 349,
    "start_time": "2023-05-27T21:22:20.116Z"
   },
   {
    "duration": 59,
    "start_time": "2023-05-27T21:22:20.466Z"
   },
   {
    "duration": 135,
    "start_time": "2023-05-27T21:22:20.527Z"
   },
   {
    "duration": 130,
    "start_time": "2023-05-27T21:26:08.196Z"
   },
   {
    "duration": 6,
    "start_time": "2023-05-27T21:26:11.445Z"
   },
   {
    "duration": 17,
    "start_time": "2023-05-27T21:26:19.303Z"
   },
   {
    "duration": 3,
    "start_time": "2023-05-27T21:41:04.448Z"
   },
   {
    "duration": 54,
    "start_time": "2023-05-28T11:01:10.696Z"
   },
   {
    "duration": 79,
    "start_time": "2023-05-28T11:01:14.599Z"
   },
   {
    "duration": 1564,
    "start_time": "2023-05-28T11:39:55.116Z"
   },
   {
    "duration": 157,
    "start_time": "2023-05-28T11:39:56.682Z"
   },
   {
    "duration": 17,
    "start_time": "2023-05-28T11:39:56.841Z"
   },
   {
    "duration": 19,
    "start_time": "2023-05-28T11:39:56.860Z"
   },
   {
    "duration": 4,
    "start_time": "2023-05-28T11:39:56.882Z"
   },
   {
    "duration": 7,
    "start_time": "2023-05-28T11:39:56.888Z"
   },
   {
    "duration": 12,
    "start_time": "2023-05-28T11:39:56.896Z"
   },
   {
    "duration": 17,
    "start_time": "2023-05-28T11:39:56.910Z"
   },
   {
    "duration": 145,
    "start_time": "2023-05-28T11:39:56.929Z"
   },
   {
    "duration": 2,
    "start_time": "2023-05-28T11:39:57.076Z"
   },
   {
    "duration": 8,
    "start_time": "2023-05-28T11:39:57.080Z"
   },
   {
    "duration": 9,
    "start_time": "2023-05-28T11:39:57.089Z"
   },
   {
    "duration": 29,
    "start_time": "2023-05-28T11:39:57.100Z"
   },
   {
    "duration": 2,
    "start_time": "2023-05-28T11:39:57.132Z"
   },
   {
    "duration": 117,
    "start_time": "2023-05-28T11:39:57.135Z"
   },
   {
    "duration": 0,
    "start_time": "2023-05-28T11:39:57.253Z"
   },
   {
    "duration": 0,
    "start_time": "2023-05-28T11:39:57.255Z"
   },
   {
    "duration": 0,
    "start_time": "2023-05-28T11:39:57.255Z"
   },
   {
    "duration": 0,
    "start_time": "2023-05-28T11:39:57.256Z"
   },
   {
    "duration": 0,
    "start_time": "2023-05-28T11:39:57.258Z"
   },
   {
    "duration": 0,
    "start_time": "2023-05-28T11:39:57.259Z"
   },
   {
    "duration": 0,
    "start_time": "2023-05-28T11:39:57.260Z"
   },
   {
    "duration": 0,
    "start_time": "2023-05-28T11:39:57.261Z"
   },
   {
    "duration": 0,
    "start_time": "2023-05-28T11:39:57.261Z"
   },
   {
    "duration": 0,
    "start_time": "2023-05-28T11:39:57.262Z"
   },
   {
    "duration": 0,
    "start_time": "2023-05-28T11:39:57.263Z"
   },
   {
    "duration": 0,
    "start_time": "2023-05-28T11:39:57.264Z"
   },
   {
    "duration": 0,
    "start_time": "2023-05-28T11:39:57.266Z"
   },
   {
    "duration": 0,
    "start_time": "2023-05-28T11:39:57.268Z"
   },
   {
    "duration": 0,
    "start_time": "2023-05-28T11:39:57.269Z"
   },
   {
    "duration": 0,
    "start_time": "2023-05-28T11:39:57.271Z"
   },
   {
    "duration": 0,
    "start_time": "2023-05-28T11:39:57.272Z"
   },
   {
    "duration": 0,
    "start_time": "2023-05-28T11:39:57.273Z"
   },
   {
    "duration": 8,
    "start_time": "2023-05-28T11:40:25.543Z"
   },
   {
    "duration": 7,
    "start_time": "2023-05-28T11:40:40.792Z"
   },
   {
    "duration": 6,
    "start_time": "2023-05-28T11:40:43.007Z"
   },
   {
    "duration": 16,
    "start_time": "2023-05-28T11:46:46.842Z"
   },
   {
    "duration": 19,
    "start_time": "2023-05-28T11:49:06.495Z"
   },
   {
    "duration": 16,
    "start_time": "2023-05-28T11:49:12.023Z"
   },
   {
    "duration": 214,
    "start_time": "2023-05-28T11:49:21.389Z"
   },
   {
    "duration": 718,
    "start_time": "2023-05-28T11:49:37.322Z"
   },
   {
    "duration": 1396,
    "start_time": "2023-05-28T11:49:53.820Z"
   },
   {
    "duration": 39,
    "start_time": "2023-05-28T11:49:55.218Z"
   },
   {
    "duration": 13,
    "start_time": "2023-05-28T11:49:55.259Z"
   },
   {
    "duration": 17,
    "start_time": "2023-05-28T11:49:55.274Z"
   },
   {
    "duration": 4,
    "start_time": "2023-05-28T11:49:55.293Z"
   },
   {
    "duration": 6,
    "start_time": "2023-05-28T11:49:55.299Z"
   },
   {
    "duration": 7,
    "start_time": "2023-05-28T11:49:55.307Z"
   },
   {
    "duration": 15,
    "start_time": "2023-05-28T11:49:55.315Z"
   },
   {
    "duration": 147,
    "start_time": "2023-05-28T11:49:55.331Z"
   },
   {
    "duration": 2,
    "start_time": "2023-05-28T11:49:55.480Z"
   },
   {
    "duration": 7,
    "start_time": "2023-05-28T11:49:55.483Z"
   },
   {
    "duration": 8,
    "start_time": "2023-05-28T11:49:55.491Z"
   },
   {
    "duration": 26,
    "start_time": "2023-05-28T11:49:55.500Z"
   },
   {
    "duration": 3,
    "start_time": "2023-05-28T11:49:55.528Z"
   },
   {
    "duration": 773,
    "start_time": "2023-05-28T11:50:06.245Z"
   },
   {
    "duration": 226,
    "start_time": "2023-05-28T11:50:13.219Z"
   },
   {
    "duration": 433,
    "start_time": "2023-05-28T11:50:42.148Z"
   },
   {
    "duration": 224,
    "start_time": "2023-05-28T11:50:54.303Z"
   },
   {
    "duration": 198,
    "start_time": "2023-05-28T12:00:56.609Z"
   },
   {
    "duration": 206,
    "start_time": "2023-05-28T12:01:00.719Z"
   },
   {
    "duration": 54,
    "start_time": "2023-05-28T12:01:24.224Z"
   },
   {
    "duration": 16,
    "start_time": "2023-05-28T12:01:37.059Z"
   },
   {
    "duration": 11,
    "start_time": "2023-05-28T12:01:41.615Z"
   },
   {
    "duration": 199,
    "start_time": "2023-05-28T12:02:21.088Z"
   },
   {
    "duration": 213,
    "start_time": "2023-05-28T12:02:28.470Z"
   },
   {
    "duration": 12,
    "start_time": "2023-05-28T12:05:57.986Z"
   },
   {
    "duration": 726,
    "start_time": "2023-05-28T12:06:01.821Z"
   },
   {
    "duration": 13,
    "start_time": "2023-05-28T12:06:09.726Z"
   },
   {
    "duration": 18,
    "start_time": "2023-05-28T12:06:22.958Z"
   },
   {
    "duration": 22,
    "start_time": "2023-05-28T12:06:27.689Z"
   },
   {
    "duration": 13,
    "start_time": "2023-05-28T12:06:41.879Z"
   },
   {
    "duration": 22,
    "start_time": "2023-05-28T12:06:53.083Z"
   },
   {
    "duration": 17,
    "start_time": "2023-05-28T12:06:56.834Z"
   },
   {
    "duration": 3,
    "start_time": "2023-05-28T12:07:21.669Z"
   },
   {
    "duration": 64,
    "start_time": "2023-05-28T12:07:21.674Z"
   },
   {
    "duration": 14,
    "start_time": "2023-05-28T12:07:21.740Z"
   },
   {
    "duration": 40,
    "start_time": "2023-05-28T12:07:21.756Z"
   },
   {
    "duration": 24,
    "start_time": "2023-05-28T12:07:21.799Z"
   },
   {
    "duration": 40,
    "start_time": "2023-05-28T12:07:21.824Z"
   },
   {
    "duration": 51,
    "start_time": "2023-05-28T12:07:21.866Z"
   },
   {
    "duration": 64,
    "start_time": "2023-05-28T12:07:21.918Z"
   },
   {
    "duration": 209,
    "start_time": "2023-05-28T12:07:21.983Z"
   },
   {
    "duration": 2,
    "start_time": "2023-05-28T12:07:22.194Z"
   },
   {
    "duration": 10,
    "start_time": "2023-05-28T12:07:22.198Z"
   },
   {
    "duration": 10,
    "start_time": "2023-05-28T12:07:22.210Z"
   },
   {
    "duration": 33,
    "start_time": "2023-05-28T12:07:22.222Z"
   },
   {
    "duration": 13,
    "start_time": "2023-05-28T12:07:22.258Z"
   },
   {
    "duration": 4,
    "start_time": "2023-05-28T12:07:29.397Z"
   },
   {
    "duration": 42,
    "start_time": "2023-05-28T12:07:29.403Z"
   },
   {
    "duration": 11,
    "start_time": "2023-05-28T12:07:29.447Z"
   },
   {
    "duration": 13,
    "start_time": "2023-05-28T12:07:29.459Z"
   },
   {
    "duration": 4,
    "start_time": "2023-05-28T12:07:29.474Z"
   },
   {
    "duration": 6,
    "start_time": "2023-05-28T12:07:29.479Z"
   },
   {
    "duration": 7,
    "start_time": "2023-05-28T12:07:29.486Z"
   },
   {
    "duration": 26,
    "start_time": "2023-05-28T12:07:29.495Z"
   },
   {
    "duration": 154,
    "start_time": "2023-05-28T12:07:29.526Z"
   },
   {
    "duration": 3,
    "start_time": "2023-05-28T12:07:29.682Z"
   },
   {
    "duration": 13,
    "start_time": "2023-05-28T12:07:29.687Z"
   },
   {
    "duration": 11,
    "start_time": "2023-05-28T12:07:29.702Z"
   },
   {
    "duration": 21,
    "start_time": "2023-05-28T12:07:29.715Z"
   },
   {
    "duration": 4,
    "start_time": "2023-05-28T12:07:29.739Z"
   },
   {
    "duration": 18,
    "start_time": "2023-05-28T12:07:34.667Z"
   },
   {
    "duration": 14,
    "start_time": "2023-05-28T12:08:32.256Z"
   },
   {
    "duration": 15,
    "start_time": "2023-05-28T12:08:51.812Z"
   },
   {
    "duration": 15,
    "start_time": "2023-05-28T12:09:04.619Z"
   },
   {
    "duration": 1468,
    "start_time": "2023-05-28T12:09:15.283Z"
   },
   {
    "duration": 42,
    "start_time": "2023-05-28T12:09:16.753Z"
   },
   {
    "duration": 12,
    "start_time": "2023-05-28T12:09:16.797Z"
   },
   {
    "duration": 26,
    "start_time": "2023-05-28T12:09:16.811Z"
   },
   {
    "duration": 4,
    "start_time": "2023-05-28T12:09:16.840Z"
   },
   {
    "duration": 8,
    "start_time": "2023-05-28T12:09:16.846Z"
   },
   {
    "duration": 28,
    "start_time": "2023-05-28T12:09:16.855Z"
   },
   {
    "duration": 10,
    "start_time": "2023-05-28T12:09:16.885Z"
   },
   {
    "duration": 161,
    "start_time": "2023-05-28T12:09:16.897Z"
   },
   {
    "duration": 2,
    "start_time": "2023-05-28T12:09:17.059Z"
   },
   {
    "duration": 9,
    "start_time": "2023-05-28T12:09:17.063Z"
   },
   {
    "duration": 13,
    "start_time": "2023-05-28T12:09:17.073Z"
   },
   {
    "duration": 13,
    "start_time": "2023-05-28T12:09:17.087Z"
   },
   {
    "duration": 2,
    "start_time": "2023-05-28T12:09:17.102Z"
   },
   {
    "duration": 105,
    "start_time": "2023-05-28T12:09:18.588Z"
   },
   {
    "duration": 241,
    "start_time": "2023-05-28T12:09:25.773Z"
   },
   {
    "duration": 305,
    "start_time": "2023-05-28T12:11:26.005Z"
   },
   {
    "duration": 223,
    "start_time": "2023-05-28T12:11:30.477Z"
   },
   {
    "duration": 219,
    "start_time": "2023-05-28T12:11:42.524Z"
   },
   {
    "duration": 24,
    "start_time": "2023-05-28T12:12:12.693Z"
   },
   {
    "duration": 9,
    "start_time": "2023-05-28T12:19:02.666Z"
   },
   {
    "duration": 194,
    "start_time": "2023-05-28T12:19:38.546Z"
   },
   {
    "duration": 1485,
    "start_time": "2023-05-28T12:26:26.210Z"
   },
   {
    "duration": 49,
    "start_time": "2023-05-28T12:26:27.697Z"
   },
   {
    "duration": 15,
    "start_time": "2023-05-28T12:26:27.748Z"
   },
   {
    "duration": 21,
    "start_time": "2023-05-28T12:26:27.764Z"
   },
   {
    "duration": 5,
    "start_time": "2023-05-28T12:26:27.787Z"
   },
   {
    "duration": 6,
    "start_time": "2023-05-28T12:26:27.825Z"
   },
   {
    "duration": 38,
    "start_time": "2023-05-28T12:26:27.833Z"
   },
   {
    "duration": 12,
    "start_time": "2023-05-28T12:26:27.873Z"
   },
   {
    "duration": 239,
    "start_time": "2023-05-28T12:26:27.886Z"
   },
   {
    "duration": 2,
    "start_time": "2023-05-28T12:26:28.128Z"
   },
   {
    "duration": 12,
    "start_time": "2023-05-28T12:26:28.133Z"
   },
   {
    "duration": 11,
    "start_time": "2023-05-28T12:26:28.149Z"
   },
   {
    "duration": 30,
    "start_time": "2023-05-28T12:26:28.162Z"
   },
   {
    "duration": 38,
    "start_time": "2023-05-28T12:26:28.196Z"
   },
   {
    "duration": 124,
    "start_time": "2023-05-28T12:26:28.956Z"
   },
   {
    "duration": 199,
    "start_time": "2023-05-28T12:26:41.384Z"
   },
   {
    "duration": 17,
    "start_time": "2023-05-28T12:37:14.416Z"
   },
   {
    "duration": 10,
    "start_time": "2023-05-28T12:37:19.551Z"
   },
   {
    "duration": 13,
    "start_time": "2023-05-28T12:37:26.666Z"
   },
   {
    "duration": 10,
    "start_time": "2023-05-28T12:37:36.758Z"
   },
   {
    "duration": 16,
    "start_time": "2023-05-28T12:41:04.792Z"
   },
   {
    "duration": 1479,
    "start_time": "2023-05-28T12:41:15.016Z"
   },
   {
    "duration": 41,
    "start_time": "2023-05-28T12:41:16.496Z"
   },
   {
    "duration": 13,
    "start_time": "2023-05-28T12:41:16.538Z"
   },
   {
    "duration": 17,
    "start_time": "2023-05-28T12:41:16.552Z"
   },
   {
    "duration": 4,
    "start_time": "2023-05-28T12:41:16.571Z"
   },
   {
    "duration": 11,
    "start_time": "2023-05-28T12:41:16.577Z"
   },
   {
    "duration": 10,
    "start_time": "2023-05-28T12:41:16.590Z"
   },
   {
    "duration": 24,
    "start_time": "2023-05-28T12:41:16.602Z"
   },
   {
    "duration": 180,
    "start_time": "2023-05-28T12:41:16.628Z"
   },
   {
    "duration": 2,
    "start_time": "2023-05-28T12:41:16.810Z"
   },
   {
    "duration": 12,
    "start_time": "2023-05-28T12:41:16.814Z"
   },
   {
    "duration": 18,
    "start_time": "2023-05-28T12:41:16.827Z"
   },
   {
    "duration": 19,
    "start_time": "2023-05-28T12:41:16.846Z"
   },
   {
    "duration": 3,
    "start_time": "2023-05-28T12:41:16.867Z"
   },
   {
    "duration": 14,
    "start_time": "2023-05-28T12:41:16.871Z"
   },
   {
    "duration": 13,
    "start_time": "2023-05-28T12:41:36.367Z"
   },
   {
    "duration": 8,
    "start_time": "2023-05-28T12:41:54.392Z"
   },
   {
    "duration": 11,
    "start_time": "2023-05-28T12:41:58.962Z"
   },
   {
    "duration": 11,
    "start_time": "2023-05-28T12:42:24.562Z"
   },
   {
    "duration": 110,
    "start_time": "2023-05-28T12:44:29.116Z"
   },
   {
    "duration": 10,
    "start_time": "2023-05-28T12:44:35.109Z"
   },
   {
    "duration": 14,
    "start_time": "2023-05-28T12:45:05.782Z"
   },
   {
    "duration": 10,
    "start_time": "2023-05-28T12:45:10.915Z"
   },
   {
    "duration": 14,
    "start_time": "2023-05-28T12:46:22.696Z"
   },
   {
    "duration": 11,
    "start_time": "2023-05-28T12:46:39.096Z"
   },
   {
    "duration": 11,
    "start_time": "2023-05-28T12:48:03.967Z"
   },
   {
    "duration": 13,
    "start_time": "2023-05-28T12:48:08.862Z"
   },
   {
    "duration": 10,
    "start_time": "2023-05-28T12:48:17.862Z"
   },
   {
    "duration": 10,
    "start_time": "2023-05-28T12:48:22.516Z"
   },
   {
    "duration": 17,
    "start_time": "2023-05-28T12:48:39.505Z"
   },
   {
    "duration": 9,
    "start_time": "2023-05-28T12:48:45.469Z"
   },
   {
    "duration": 11,
    "start_time": "2023-05-28T12:49:08.796Z"
   },
   {
    "duration": 212,
    "start_time": "2023-05-28T12:50:21.408Z"
   },
   {
    "duration": 10,
    "start_time": "2023-05-28T12:51:33.712Z"
   },
   {
    "duration": 10,
    "start_time": "2023-05-28T12:51:41.224Z"
   },
   {
    "duration": 11,
    "start_time": "2023-05-28T12:51:57.425Z"
   },
   {
    "duration": 11,
    "start_time": "2023-05-28T12:52:42.722Z"
   },
   {
    "duration": 333,
    "start_time": "2023-05-28T12:52:59.563Z"
   },
   {
    "duration": 20,
    "start_time": "2023-05-28T12:54:07.699Z"
   },
   {
    "duration": 12,
    "start_time": "2023-05-28T12:54:39.316Z"
   },
   {
    "duration": 15,
    "start_time": "2023-05-28T12:54:54.440Z"
   },
   {
    "duration": 11,
    "start_time": "2023-05-28T12:54:57.012Z"
   },
   {
    "duration": 11,
    "start_time": "2023-05-28T12:55:12.356Z"
   },
   {
    "duration": 15,
    "start_time": "2023-05-28T12:55:33.285Z"
   },
   {
    "duration": 12,
    "start_time": "2023-05-28T12:55:41.059Z"
   },
   {
    "duration": 11,
    "start_time": "2023-05-28T12:55:45.040Z"
   },
   {
    "duration": 19,
    "start_time": "2023-05-28T12:56:07.208Z"
   },
   {
    "duration": 730,
    "start_time": "2023-05-28T12:56:30.192Z"
   },
   {
    "duration": 21,
    "start_time": "2023-05-28T12:56:36.892Z"
   },
   {
    "duration": 21,
    "start_time": "2023-05-28T12:58:23.659Z"
   },
   {
    "duration": 20,
    "start_time": "2023-05-28T12:59:03.454Z"
   },
   {
    "duration": 30,
    "start_time": "2023-05-28T12:59:04.027Z"
   },
   {
    "duration": 1277,
    "start_time": "2023-05-28T13:03:07.702Z"
   },
   {
    "duration": 40,
    "start_time": "2023-05-28T13:03:08.981Z"
   },
   {
    "duration": 13,
    "start_time": "2023-05-28T13:03:09.022Z"
   },
   {
    "duration": 18,
    "start_time": "2023-05-28T13:03:09.036Z"
   },
   {
    "duration": 5,
    "start_time": "2023-05-28T13:03:09.056Z"
   },
   {
    "duration": 9,
    "start_time": "2023-05-28T13:03:09.062Z"
   },
   {
    "duration": 8,
    "start_time": "2023-05-28T13:03:09.072Z"
   },
   {
    "duration": 5,
    "start_time": "2023-05-28T13:03:09.081Z"
   },
   {
    "duration": 160,
    "start_time": "2023-05-28T13:03:09.088Z"
   },
   {
    "duration": 3,
    "start_time": "2023-05-28T13:03:09.249Z"
   },
   {
    "duration": 5,
    "start_time": "2023-05-28T13:03:09.253Z"
   },
   {
    "duration": 8,
    "start_time": "2023-05-28T13:03:09.259Z"
   },
   {
    "duration": 11,
    "start_time": "2023-05-28T13:03:09.268Z"
   },
   {
    "duration": 2,
    "start_time": "2023-05-28T13:03:09.281Z"
   },
   {
    "duration": 16,
    "start_time": "2023-05-28T13:03:10.815Z"
   },
   {
    "duration": 10,
    "start_time": "2023-05-28T13:03:19.308Z"
   },
   {
    "duration": 194,
    "start_time": "2023-05-28T13:04:21.592Z"
   },
   {
    "duration": 402,
    "start_time": "2023-05-28T13:06:00.757Z"
   },
   {
    "duration": 18,
    "start_time": "2023-05-28T13:06:11.112Z"
   },
   {
    "duration": 197,
    "start_time": "2023-05-28T13:06:17.731Z"
   },
   {
    "duration": 202,
    "start_time": "2023-05-28T13:06:30.326Z"
   },
   {
    "duration": 270,
    "start_time": "2023-05-28T13:06:39.592Z"
   },
   {
    "duration": 199,
    "start_time": "2023-05-28T13:06:48.228Z"
   },
   {
    "duration": 72,
    "start_time": "2023-05-28T13:15:11.416Z"
   },
   {
    "duration": 2170,
    "start_time": "2023-05-28T13:17:45.029Z"
   },
   {
    "duration": 39,
    "start_time": "2023-05-28T13:17:47.201Z"
   },
   {
    "duration": 11,
    "start_time": "2023-05-28T13:17:47.242Z"
   },
   {
    "duration": 18,
    "start_time": "2023-05-28T13:17:47.255Z"
   },
   {
    "duration": 5,
    "start_time": "2023-05-28T13:17:47.274Z"
   },
   {
    "duration": 6,
    "start_time": "2023-05-28T13:17:47.281Z"
   },
   {
    "duration": 7,
    "start_time": "2023-05-28T13:17:47.289Z"
   },
   {
    "duration": 7,
    "start_time": "2023-05-28T13:17:47.325Z"
   },
   {
    "duration": 150,
    "start_time": "2023-05-28T13:17:47.334Z"
   },
   {
    "duration": 17,
    "start_time": "2023-05-28T13:17:47.487Z"
   },
   {
    "duration": 3,
    "start_time": "2023-05-28T13:17:47.505Z"
   },
   {
    "duration": 5,
    "start_time": "2023-05-28T13:17:47.525Z"
   },
   {
    "duration": 11,
    "start_time": "2023-05-28T13:17:47.531Z"
   },
   {
    "duration": 2,
    "start_time": "2023-05-28T13:17:47.544Z"
   },
   {
    "duration": 13,
    "start_time": "2023-05-28T13:17:47.547Z"
   },
   {
    "duration": 14,
    "start_time": "2023-05-28T13:17:50.081Z"
   },
   {
    "duration": 9,
    "start_time": "2023-05-28T13:18:18.515Z"
   },
   {
    "duration": 109,
    "start_time": "2023-05-28T13:18:24.123Z"
   },
   {
    "duration": 4,
    "start_time": "2023-05-28T13:18:40.315Z"
   },
   {
    "duration": 43,
    "start_time": "2023-05-28T13:18:40.322Z"
   },
   {
    "duration": 11,
    "start_time": "2023-05-28T13:18:40.366Z"
   },
   {
    "duration": 13,
    "start_time": "2023-05-28T13:18:40.379Z"
   },
   {
    "duration": 7,
    "start_time": "2023-05-28T13:18:40.395Z"
   },
   {
    "duration": 14,
    "start_time": "2023-05-28T13:18:40.403Z"
   },
   {
    "duration": 7,
    "start_time": "2023-05-28T13:18:40.418Z"
   },
   {
    "duration": 6,
    "start_time": "2023-05-28T13:18:40.426Z"
   },
   {
    "duration": 146,
    "start_time": "2023-05-28T13:18:40.434Z"
   },
   {
    "duration": 16,
    "start_time": "2023-05-28T13:18:40.582Z"
   },
   {
    "duration": 2,
    "start_time": "2023-05-28T13:18:40.600Z"
   },
   {
    "duration": 24,
    "start_time": "2023-05-28T13:18:40.603Z"
   },
   {
    "duration": 10,
    "start_time": "2023-05-28T13:18:40.628Z"
   },
   {
    "duration": 5,
    "start_time": "2023-05-28T13:18:40.640Z"
   },
   {
    "duration": 21,
    "start_time": "2023-05-28T13:18:40.646Z"
   },
   {
    "duration": 1243,
    "start_time": "2023-05-28T13:18:58.350Z"
   },
   {
    "duration": 45,
    "start_time": "2023-05-28T13:18:59.597Z"
   },
   {
    "duration": 16,
    "start_time": "2023-05-28T13:18:59.644Z"
   },
   {
    "duration": 21,
    "start_time": "2023-05-28T13:18:59.662Z"
   },
   {
    "duration": 5,
    "start_time": "2023-05-28T13:18:59.686Z"
   },
   {
    "duration": 7,
    "start_time": "2023-05-28T13:18:59.692Z"
   },
   {
    "duration": 9,
    "start_time": "2023-05-28T13:18:59.726Z"
   },
   {
    "duration": 7,
    "start_time": "2023-05-28T13:18:59.737Z"
   },
   {
    "duration": 168,
    "start_time": "2023-05-28T13:18:59.746Z"
   },
   {
    "duration": 27,
    "start_time": "2023-05-28T13:18:59.916Z"
   },
   {
    "duration": 3,
    "start_time": "2023-05-28T13:18:59.944Z"
   },
   {
    "duration": 8,
    "start_time": "2023-05-28T13:18:59.948Z"
   },
   {
    "duration": 11,
    "start_time": "2023-05-28T13:18:59.958Z"
   },
   {
    "duration": 2,
    "start_time": "2023-05-28T13:18:59.971Z"
   },
   {
    "duration": 125,
    "start_time": "2023-05-28T13:18:59.974Z"
   },
   {
    "duration": 13,
    "start_time": "2023-05-28T13:19:57.419Z"
   },
   {
    "duration": 14,
    "start_time": "2023-05-28T13:20:59.490Z"
   },
   {
    "duration": 13,
    "start_time": "2023-05-28T13:23:08.182Z"
   },
   {
    "duration": 14,
    "start_time": "2023-05-28T13:23:13.579Z"
   },
   {
    "duration": 4,
    "start_time": "2023-05-28T13:27:45.575Z"
   },
   {
    "duration": 14,
    "start_time": "2023-05-28T13:28:00.575Z"
   },
   {
    "duration": 16,
    "start_time": "2023-05-28T13:29:22.813Z"
   },
   {
    "duration": 13,
    "start_time": "2023-05-28T13:29:51.258Z"
   },
   {
    "duration": 22,
    "start_time": "2023-05-28T13:29:52.043Z"
   },
   {
    "duration": 1434,
    "start_time": "2023-05-28T13:30:01.801Z"
   },
   {
    "duration": 42,
    "start_time": "2023-05-28T13:30:03.237Z"
   },
   {
    "duration": 13,
    "start_time": "2023-05-28T13:30:03.281Z"
   },
   {
    "duration": 32,
    "start_time": "2023-05-28T13:30:03.296Z"
   },
   {
    "duration": 13,
    "start_time": "2023-05-28T13:30:03.330Z"
   },
   {
    "duration": 34,
    "start_time": "2023-05-28T13:30:03.344Z"
   },
   {
    "duration": 13,
    "start_time": "2023-05-28T13:30:03.380Z"
   },
   {
    "duration": 23,
    "start_time": "2023-05-28T13:30:03.395Z"
   },
   {
    "duration": 170,
    "start_time": "2023-05-28T13:30:03.420Z"
   },
   {
    "duration": 18,
    "start_time": "2023-05-28T13:30:03.592Z"
   },
   {
    "duration": 2,
    "start_time": "2023-05-28T13:30:03.612Z"
   },
   {
    "duration": 4,
    "start_time": "2023-05-28T13:30:03.625Z"
   },
   {
    "duration": 38,
    "start_time": "2023-05-28T13:30:03.630Z"
   },
   {
    "duration": 5,
    "start_time": "2023-05-28T13:30:03.670Z"
   },
   {
    "duration": 35,
    "start_time": "2023-05-28T13:30:03.676Z"
   },
   {
    "duration": 37,
    "start_time": "2023-05-28T13:31:17.409Z"
   },
   {
    "duration": 32,
    "start_time": "2023-05-28T13:35:32.466Z"
   },
   {
    "duration": 34,
    "start_time": "2023-05-28T13:35:39.882Z"
   },
   {
    "duration": 33,
    "start_time": "2023-05-28T13:35:45.298Z"
   },
   {
    "duration": 32,
    "start_time": "2023-05-28T13:35:50.366Z"
   },
   {
    "duration": 37,
    "start_time": "2023-05-28T13:35:56.817Z"
   },
   {
    "duration": 25,
    "start_time": "2023-05-28T13:37:35.770Z"
   },
   {
    "duration": 1443,
    "start_time": "2023-05-28T13:41:05.002Z"
   },
   {
    "duration": 42,
    "start_time": "2023-05-28T13:41:06.448Z"
   },
   {
    "duration": 13,
    "start_time": "2023-05-28T13:41:06.493Z"
   },
   {
    "duration": 19,
    "start_time": "2023-05-28T13:41:06.507Z"
   },
   {
    "duration": 5,
    "start_time": "2023-05-28T13:41:06.529Z"
   },
   {
    "duration": 9,
    "start_time": "2023-05-28T13:41:06.535Z"
   },
   {
    "duration": 9,
    "start_time": "2023-05-28T13:41:06.546Z"
   },
   {
    "duration": 6,
    "start_time": "2023-05-28T13:41:06.557Z"
   },
   {
    "duration": 170,
    "start_time": "2023-05-28T13:41:06.565Z"
   },
   {
    "duration": 18,
    "start_time": "2023-05-28T13:41:06.736Z"
   },
   {
    "duration": 2,
    "start_time": "2023-05-28T13:41:06.756Z"
   },
   {
    "duration": 8,
    "start_time": "2023-05-28T13:41:06.759Z"
   },
   {
    "duration": 13,
    "start_time": "2023-05-28T13:41:06.768Z"
   },
   {
    "duration": 65,
    "start_time": "2023-05-28T13:41:06.784Z"
   },
   {
    "duration": 441,
    "start_time": "2023-05-28T13:41:06.851Z"
   },
   {
    "duration": 189,
    "start_time": "2023-05-28T13:41:07.294Z"
   },
   {
    "duration": 6117,
    "start_time": "2023-05-28T13:41:07.484Z"
   },
   {
    "duration": 168,
    "start_time": "2023-05-28T13:41:13.602Z"
   },
   {
    "duration": 5136,
    "start_time": "2023-05-28T13:41:13.772Z"
   },
   {
    "duration": 3,
    "start_time": "2023-05-28T13:41:18.910Z"
   },
   {
    "duration": 162,
    "start_time": "2023-05-28T13:41:18.914Z"
   },
   {
    "duration": 2448,
    "start_time": "2023-05-28T13:41:19.079Z"
   },
   {
    "duration": 236,
    "start_time": "2023-05-28T13:41:21.530Z"
   },
   {
    "duration": 4,
    "start_time": "2023-05-28T13:41:21.768Z"
   },
   {
    "duration": 22,
    "start_time": "2023-05-28T13:41:21.774Z"
   },
   {
    "duration": 760,
    "start_time": "2023-05-28T13:41:21.798Z"
   },
   {
    "duration": 5,
    "start_time": "2023-05-28T13:41:22.559Z"
   },
   {
    "duration": 18,
    "start_time": "2023-05-28T13:41:22.566Z"
   },
   {
    "duration": 285,
    "start_time": "2023-05-28T13:41:22.585Z"
   },
   {
    "duration": 300,
    "start_time": "2023-05-28T13:41:22.871Z"
   },
   {
    "duration": 42,
    "start_time": "2023-05-28T13:41:23.173Z"
   },
   {
    "duration": 128,
    "start_time": "2023-05-28T13:41:23.217Z"
   },
   {
    "duration": 44,
    "start_time": "2023-05-28T13:44:06.212Z"
   },
   {
    "duration": 10394,
    "start_time": "2023-05-28T13:44:25.359Z"
   },
   {
    "duration": 156,
    "start_time": "2023-05-28T13:44:43.462Z"
   },
   {
    "duration": 176,
    "start_time": "2023-05-28T13:44:47.674Z"
   },
   {
    "duration": 3909,
    "start_time": "2023-05-28T13:44:59.511Z"
   },
   {
    "duration": 1335,
    "start_time": "2023-05-28T13:45:15.980Z"
   },
   {
    "duration": 47,
    "start_time": "2023-05-28T13:45:17.317Z"
   },
   {
    "duration": 21,
    "start_time": "2023-05-28T13:45:17.366Z"
   },
   {
    "duration": 22,
    "start_time": "2023-05-28T13:45:17.390Z"
   },
   {
    "duration": 5,
    "start_time": "2023-05-28T13:45:17.414Z"
   },
   {
    "duration": 12,
    "start_time": "2023-05-28T13:45:17.421Z"
   },
   {
    "duration": 17,
    "start_time": "2023-05-28T13:45:17.434Z"
   },
   {
    "duration": 21,
    "start_time": "2023-05-28T13:45:17.453Z"
   },
   {
    "duration": 195,
    "start_time": "2023-05-28T13:45:17.476Z"
   },
   {
    "duration": 18,
    "start_time": "2023-05-28T13:45:17.673Z"
   },
   {
    "duration": 3,
    "start_time": "2023-05-28T13:45:17.693Z"
   },
   {
    "duration": 27,
    "start_time": "2023-05-28T13:45:17.698Z"
   },
   {
    "duration": 13,
    "start_time": "2023-05-28T13:45:17.727Z"
   },
   {
    "duration": 51,
    "start_time": "2023-05-28T13:45:17.743Z"
   },
   {
    "duration": 424,
    "start_time": "2023-05-28T13:45:17.796Z"
   },
   {
    "duration": 190,
    "start_time": "2023-05-28T13:45:18.224Z"
   },
   {
    "duration": 10031,
    "start_time": "2023-05-28T13:45:18.416Z"
   },
   {
    "duration": 184,
    "start_time": "2023-05-28T13:45:28.448Z"
   },
   {
    "duration": 3852,
    "start_time": "2023-05-28T13:45:28.634Z"
   },
   {
    "duration": 2,
    "start_time": "2023-05-28T13:45:32.488Z"
   },
   {
    "duration": 145,
    "start_time": "2023-05-28T13:45:32.491Z"
   },
   {
    "duration": 2699,
    "start_time": "2023-05-28T13:45:32.637Z"
   },
   {
    "duration": 330,
    "start_time": "2023-05-28T13:45:35.338Z"
   },
   {
    "duration": 4,
    "start_time": "2023-05-28T13:45:35.670Z"
   },
   {
    "duration": 20,
    "start_time": "2023-05-28T13:45:35.675Z"
   },
   {
    "duration": 787,
    "start_time": "2023-05-28T13:45:35.697Z"
   },
   {
    "duration": 4,
    "start_time": "2023-05-28T13:45:36.485Z"
   },
   {
    "duration": 31,
    "start_time": "2023-05-28T13:45:36.490Z"
   },
   {
    "duration": 293,
    "start_time": "2023-05-28T13:45:36.522Z"
   },
   {
    "duration": 309,
    "start_time": "2023-05-28T13:45:36.816Z"
   },
   {
    "duration": 53,
    "start_time": "2023-05-28T13:45:37.127Z"
   },
   {
    "duration": 133,
    "start_time": "2023-05-28T13:45:37.182Z"
   },
   {
    "duration": 1349,
    "start_time": "2023-05-28T13:46:10.781Z"
   },
   {
    "duration": 41,
    "start_time": "2023-05-28T13:46:12.132Z"
   },
   {
    "duration": 14,
    "start_time": "2023-05-28T13:46:12.174Z"
   },
   {
    "duration": 18,
    "start_time": "2023-05-28T13:46:12.190Z"
   },
   {
    "duration": 5,
    "start_time": "2023-05-28T13:46:12.211Z"
   },
   {
    "duration": 6,
    "start_time": "2023-05-28T13:46:12.224Z"
   },
   {
    "duration": 9,
    "start_time": "2023-05-28T13:46:12.232Z"
   },
   {
    "duration": 7,
    "start_time": "2023-05-28T13:46:12.243Z"
   },
   {
    "duration": 178,
    "start_time": "2023-05-28T13:46:12.252Z"
   },
   {
    "duration": 20,
    "start_time": "2023-05-28T13:46:12.431Z"
   },
   {
    "duration": 3,
    "start_time": "2023-05-28T13:46:12.452Z"
   },
   {
    "duration": 7,
    "start_time": "2023-05-28T13:46:12.456Z"
   },
   {
    "duration": 11,
    "start_time": "2023-05-28T13:46:12.465Z"
   },
   {
    "duration": 58,
    "start_time": "2023-05-28T13:46:12.479Z"
   },
   {
    "duration": 445,
    "start_time": "2023-05-28T13:46:12.539Z"
   },
   {
    "duration": 179,
    "start_time": "2023-05-28T13:46:12.986Z"
   },
   {
    "duration": 10124,
    "start_time": "2023-05-28T13:46:13.167Z"
   },
   {
    "duration": 195,
    "start_time": "2023-05-28T13:46:23.292Z"
   },
   {
    "duration": 4041,
    "start_time": "2023-05-28T13:46:23.488Z"
   },
   {
    "duration": 142,
    "start_time": "2023-05-28T13:46:40.266Z"
   },
   {
    "duration": 3845,
    "start_time": "2023-05-28T13:47:18.446Z"
   },
   {
    "duration": 819,
    "start_time": "2023-05-28T13:47:41.411Z"
   },
   {
    "duration": 887,
    "start_time": "2023-05-28T13:47:54.118Z"
   },
   {
    "duration": 884,
    "start_time": "2023-05-28T13:47:57.987Z"
   },
   {
    "duration": 992,
    "start_time": "2023-05-28T13:48:02.283Z"
   },
   {
    "duration": 1687,
    "start_time": "2023-05-28T13:48:20.862Z"
   },
   {
    "duration": 1947,
    "start_time": "2023-05-28T13:49:39.913Z"
   },
   {
    "duration": 1809,
    "start_time": "2023-05-28T13:49:47.870Z"
   },
   {
    "duration": 189,
    "start_time": "2023-05-28T13:50:06.591Z"
   },
   {
    "duration": 43,
    "start_time": "2023-05-28T13:51:18.866Z"
   },
   {
    "duration": 4,
    "start_time": "2023-05-28T13:51:32.826Z"
   },
   {
    "duration": 86,
    "start_time": "2023-05-28T13:51:32.832Z"
   },
   {
    "duration": 12,
    "start_time": "2023-05-28T13:51:32.920Z"
   },
   {
    "duration": 20,
    "start_time": "2023-05-28T13:51:32.934Z"
   },
   {
    "duration": 38,
    "start_time": "2023-05-28T13:51:32.957Z"
   },
   {
    "duration": 19,
    "start_time": "2023-05-28T13:51:32.997Z"
   },
   {
    "duration": 33,
    "start_time": "2023-05-28T13:51:33.018Z"
   },
   {
    "duration": 29,
    "start_time": "2023-05-28T13:51:33.053Z"
   },
   {
    "duration": 145,
    "start_time": "2023-05-28T13:51:33.084Z"
   },
   {
    "duration": 17,
    "start_time": "2023-05-28T13:51:33.230Z"
   },
   {
    "duration": 9,
    "start_time": "2023-05-28T13:51:33.248Z"
   },
   {
    "duration": 29,
    "start_time": "2023-05-28T13:51:33.259Z"
   },
   {
    "duration": 28,
    "start_time": "2023-05-28T13:51:33.291Z"
   },
   {
    "duration": 64,
    "start_time": "2023-05-28T13:51:33.320Z"
   },
   {
    "duration": 453,
    "start_time": "2023-05-28T13:51:33.387Z"
   },
   {
    "duration": 238,
    "start_time": "2023-05-28T13:51:33.841Z"
   },
   {
    "duration": 9921,
    "start_time": "2023-05-28T13:51:34.080Z"
   },
   {
    "duration": 192,
    "start_time": "2023-05-28T13:51:44.003Z"
   },
   {
    "duration": 1759,
    "start_time": "2023-05-28T13:51:44.197Z"
   },
   {
    "duration": 2,
    "start_time": "2023-05-28T13:51:45.958Z"
   },
   {
    "duration": 124,
    "start_time": "2023-05-28T13:51:45.962Z"
   },
   {
    "duration": 2548,
    "start_time": "2023-05-28T13:51:46.088Z"
   },
   {
    "duration": 258,
    "start_time": "2023-05-28T13:51:48.726Z"
   },
   {
    "duration": 4,
    "start_time": "2023-05-28T13:52:48.671Z"
   },
   {
    "duration": 42,
    "start_time": "2023-05-28T13:52:48.677Z"
   },
   {
    "duration": 13,
    "start_time": "2023-05-28T13:52:48.720Z"
   },
   {
    "duration": 15,
    "start_time": "2023-05-28T13:52:48.735Z"
   },
   {
    "duration": 7,
    "start_time": "2023-05-28T13:52:48.752Z"
   },
   {
    "duration": 9,
    "start_time": "2023-05-28T13:52:48.760Z"
   },
   {
    "duration": 12,
    "start_time": "2023-05-28T13:52:48.772Z"
   },
   {
    "duration": 7,
    "start_time": "2023-05-28T13:52:48.785Z"
   },
   {
    "duration": 207,
    "start_time": "2023-05-28T13:52:48.793Z"
   },
   {
    "duration": 32,
    "start_time": "2023-05-28T13:52:49.002Z"
   },
   {
    "duration": 4,
    "start_time": "2023-05-28T13:52:49.036Z"
   },
   {
    "duration": 6,
    "start_time": "2023-05-28T13:52:49.042Z"
   },
   {
    "duration": 10,
    "start_time": "2023-05-28T13:52:49.050Z"
   },
   {
    "duration": 29,
    "start_time": "2023-05-28T13:52:49.063Z"
   },
   {
    "duration": 463,
    "start_time": "2023-05-28T13:52:49.125Z"
   },
   {
    "duration": 221,
    "start_time": "2023-05-28T13:52:49.594Z"
   },
   {
    "duration": 10140,
    "start_time": "2023-05-28T13:52:49.818Z"
   },
   {
    "duration": 203,
    "start_time": "2023-05-28T13:52:59.960Z"
   },
   {
    "duration": 1790,
    "start_time": "2023-05-28T13:53:00.164Z"
   },
   {
    "duration": 3,
    "start_time": "2023-05-28T13:53:01.956Z"
   },
   {
    "duration": 137,
    "start_time": "2023-05-28T13:53:01.961Z"
   },
   {
    "duration": 2632,
    "start_time": "2023-05-28T13:53:02.100Z"
   },
   {
    "duration": 229,
    "start_time": "2023-05-28T13:53:04.734Z"
   },
   {
    "duration": 3,
    "start_time": "2023-05-28T13:53:04.965Z"
   },
   {
    "duration": 17,
    "start_time": "2023-05-28T13:53:04.970Z"
   },
   {
    "duration": 790,
    "start_time": "2023-05-28T13:53:04.989Z"
   },
   {
    "duration": 5,
    "start_time": "2023-05-28T13:53:05.781Z"
   },
   {
    "duration": 15,
    "start_time": "2023-05-28T13:53:05.787Z"
   },
   {
    "duration": 307,
    "start_time": "2023-05-28T13:53:05.804Z"
   },
   {
    "duration": 42,
    "start_time": "2023-05-28T13:54:31.222Z"
   },
   {
    "duration": 49,
    "start_time": "2023-05-28T13:55:15.298Z"
   },
   {
    "duration": 42,
    "start_time": "2023-05-28T13:55:34.389Z"
   },
   {
    "duration": 140,
    "start_time": "2023-05-28T16:14:38.851Z"
   },
   {
    "duration": 1414,
    "start_time": "2023-05-28T16:15:11.498Z"
   },
   {
    "duration": 59,
    "start_time": "2023-05-28T16:15:12.913Z"
   },
   {
    "duration": 12,
    "start_time": "2023-05-28T16:15:12.974Z"
   },
   {
    "duration": 16,
    "start_time": "2023-05-28T16:15:12.987Z"
   },
   {
    "duration": 4,
    "start_time": "2023-05-28T16:15:13.005Z"
   },
   {
    "duration": 6,
    "start_time": "2023-05-28T16:15:13.010Z"
   },
   {
    "duration": 23,
    "start_time": "2023-05-28T16:15:13.018Z"
   },
   {
    "duration": 9,
    "start_time": "2023-05-28T16:15:13.045Z"
   },
   {
    "duration": 147,
    "start_time": "2023-05-28T16:15:13.057Z"
   },
   {
    "duration": 2,
    "start_time": "2023-05-28T16:15:13.206Z"
   },
   {
    "duration": 6,
    "start_time": "2023-05-28T16:15:13.209Z"
   },
   {
    "duration": 17,
    "start_time": "2023-05-28T16:15:13.216Z"
   },
   {
    "duration": 21,
    "start_time": "2023-05-28T16:15:13.242Z"
   },
   {
    "duration": 11,
    "start_time": "2023-05-28T16:15:13.266Z"
   },
   {
    "duration": 129,
    "start_time": "2023-05-28T16:15:21.906Z"
   },
   {
    "duration": 16,
    "start_time": "2023-05-28T16:15:47.179Z"
   },
   {
    "duration": 29,
    "start_time": "2023-05-28T16:17:20.866Z"
   },
   {
    "duration": 17,
    "start_time": "2023-05-28T16:17:26.180Z"
   },
   {
    "duration": 19,
    "start_time": "2023-05-28T16:18:05.557Z"
   },
   {
    "duration": 11,
    "start_time": "2023-05-28T16:18:15.469Z"
   },
   {
    "duration": 31,
    "start_time": "2023-05-28T16:18:21.201Z"
   },
   {
    "duration": 24,
    "start_time": "2023-05-28T16:19:13.898Z"
   },
   {
    "duration": 1309,
    "start_time": "2023-05-28T16:19:48.057Z"
   },
   {
    "duration": 39,
    "start_time": "2023-05-28T16:19:49.368Z"
   },
   {
    "duration": 13,
    "start_time": "2023-05-28T16:19:49.409Z"
   },
   {
    "duration": 30,
    "start_time": "2023-05-28T16:19:49.423Z"
   },
   {
    "duration": 13,
    "start_time": "2023-05-28T16:19:49.458Z"
   },
   {
    "duration": 8,
    "start_time": "2023-05-28T16:19:49.472Z"
   },
   {
    "duration": 7,
    "start_time": "2023-05-28T16:19:49.481Z"
   },
   {
    "duration": 5,
    "start_time": "2023-05-28T16:19:49.489Z"
   },
   {
    "duration": 174,
    "start_time": "2023-05-28T16:19:49.496Z"
   },
   {
    "duration": 2,
    "start_time": "2023-05-28T16:19:49.672Z"
   },
   {
    "duration": 5,
    "start_time": "2023-05-28T16:19:49.675Z"
   },
   {
    "duration": 6,
    "start_time": "2023-05-28T16:19:49.682Z"
   },
   {
    "duration": 10,
    "start_time": "2023-05-28T16:19:49.690Z"
   },
   {
    "duration": 168,
    "start_time": "2023-05-28T16:19:49.702Z"
   },
   {
    "duration": 69,
    "start_time": "2023-05-28T16:20:00.984Z"
   },
   {
    "duration": 46,
    "start_time": "2023-05-28T16:20:13.662Z"
   },
   {
    "duration": 19,
    "start_time": "2023-05-28T16:20:25.158Z"
   },
   {
    "duration": 69,
    "start_time": "2023-05-28T16:20:39.578Z"
   },
   {
    "duration": 1317,
    "start_time": "2023-05-28T16:21:13.762Z"
   },
   {
    "duration": 39,
    "start_time": "2023-05-28T16:21:15.081Z"
   },
   {
    "duration": 33,
    "start_time": "2023-05-28T16:21:15.122Z"
   },
   {
    "duration": 20,
    "start_time": "2023-05-28T16:21:15.158Z"
   },
   {
    "duration": 5,
    "start_time": "2023-05-28T16:21:15.180Z"
   },
   {
    "duration": 6,
    "start_time": "2023-05-28T16:21:15.187Z"
   },
   {
    "duration": 11,
    "start_time": "2023-05-28T16:21:15.194Z"
   },
   {
    "duration": 9,
    "start_time": "2023-05-28T16:21:15.206Z"
   },
   {
    "duration": 165,
    "start_time": "2023-05-28T16:21:15.217Z"
   },
   {
    "duration": 2,
    "start_time": "2023-05-28T16:21:15.384Z"
   },
   {
    "duration": 5,
    "start_time": "2023-05-28T16:21:15.387Z"
   },
   {
    "duration": 10,
    "start_time": "2023-05-28T16:21:15.393Z"
   },
   {
    "duration": 24,
    "start_time": "2023-05-28T16:21:15.404Z"
   },
   {
    "duration": 66,
    "start_time": "2023-05-28T16:21:15.430Z"
   },
   {
    "duration": 50,
    "start_time": "2023-05-28T16:21:24.970Z"
   },
   {
    "duration": 42,
    "start_time": "2023-05-28T16:22:04.274Z"
   },
   {
    "duration": 21,
    "start_time": "2023-05-28T16:22:34.857Z"
   },
   {
    "duration": 171,
    "start_time": "2023-05-28T16:23:56.776Z"
   },
   {
    "duration": 21,
    "start_time": "2023-05-28T16:24:14.563Z"
   },
   {
    "duration": 18,
    "start_time": "2023-05-28T16:26:06.041Z"
   },
   {
    "duration": 26,
    "start_time": "2023-05-28T16:26:08.798Z"
   },
   {
    "duration": 29,
    "start_time": "2023-05-28T16:26:23.656Z"
   },
   {
    "duration": 1313,
    "start_time": "2023-05-28T16:26:36.360Z"
   },
   {
    "duration": 39,
    "start_time": "2023-05-28T16:26:37.675Z"
   },
   {
    "duration": 18,
    "start_time": "2023-05-28T16:26:37.715Z"
   },
   {
    "duration": 25,
    "start_time": "2023-05-28T16:26:37.739Z"
   },
   {
    "duration": 5,
    "start_time": "2023-05-28T16:26:37.767Z"
   },
   {
    "duration": 6,
    "start_time": "2023-05-28T16:26:37.773Z"
   },
   {
    "duration": 8,
    "start_time": "2023-05-28T16:26:37.780Z"
   },
   {
    "duration": 5,
    "start_time": "2023-05-28T16:26:37.789Z"
   },
   {
    "duration": 161,
    "start_time": "2023-05-28T16:26:37.795Z"
   },
   {
    "duration": 3,
    "start_time": "2023-05-28T16:26:37.959Z"
   },
   {
    "duration": 4,
    "start_time": "2023-05-28T16:26:37.969Z"
   },
   {
    "duration": 9,
    "start_time": "2023-05-28T16:26:37.974Z"
   },
   {
    "duration": 12,
    "start_time": "2023-05-28T16:26:37.985Z"
   },
   {
    "duration": 16,
    "start_time": "2023-05-28T16:26:37.999Z"
   },
   {
    "duration": 14,
    "start_time": "2023-05-28T16:26:50.799Z"
   },
   {
    "duration": 122,
    "start_time": "2023-05-28T16:28:50.873Z"
   },
   {
    "duration": 1396,
    "start_time": "2023-05-28T16:29:34.219Z"
   },
   {
    "duration": 57,
    "start_time": "2023-05-28T16:29:35.617Z"
   },
   {
    "duration": 14,
    "start_time": "2023-05-28T16:29:35.676Z"
   },
   {
    "duration": 28,
    "start_time": "2023-05-28T16:29:35.692Z"
   },
   {
    "duration": 29,
    "start_time": "2023-05-28T16:29:35.723Z"
   },
   {
    "duration": 8,
    "start_time": "2023-05-28T16:29:35.762Z"
   },
   {
    "duration": 14,
    "start_time": "2023-05-28T16:29:35.771Z"
   },
   {
    "duration": 7,
    "start_time": "2023-05-28T16:29:35.786Z"
   },
   {
    "duration": 194,
    "start_time": "2023-05-28T16:29:35.795Z"
   },
   {
    "duration": 3,
    "start_time": "2023-05-28T16:29:35.990Z"
   },
   {
    "duration": 17,
    "start_time": "2023-05-28T16:29:35.994Z"
   },
   {
    "duration": 10,
    "start_time": "2023-05-28T16:29:36.013Z"
   },
   {
    "duration": 26,
    "start_time": "2023-05-28T16:29:36.029Z"
   },
   {
    "duration": 145,
    "start_time": "2023-05-28T16:29:36.057Z"
   },
   {
    "duration": 18,
    "start_time": "2023-05-28T16:29:56.085Z"
   },
   {
    "duration": 24,
    "start_time": "2023-05-28T16:30:20.113Z"
   },
   {
    "duration": 4,
    "start_time": "2023-05-28T16:30:32.570Z"
   },
   {
    "duration": 45,
    "start_time": "2023-05-28T16:30:32.576Z"
   },
   {
    "duration": 27,
    "start_time": "2023-05-28T16:30:32.623Z"
   },
   {
    "duration": 16,
    "start_time": "2023-05-28T16:30:32.654Z"
   },
   {
    "duration": 6,
    "start_time": "2023-05-28T16:30:32.672Z"
   },
   {
    "duration": 10,
    "start_time": "2023-05-28T16:30:32.680Z"
   },
   {
    "duration": 19,
    "start_time": "2023-05-28T16:30:32.692Z"
   },
   {
    "duration": 7,
    "start_time": "2023-05-28T16:30:32.713Z"
   },
   {
    "duration": 148,
    "start_time": "2023-05-28T16:30:32.725Z"
   },
   {
    "duration": 3,
    "start_time": "2023-05-28T16:30:32.875Z"
   },
   {
    "duration": 31,
    "start_time": "2023-05-28T16:30:32.879Z"
   },
   {
    "duration": 32,
    "start_time": "2023-05-28T16:30:32.912Z"
   },
   {
    "duration": 13,
    "start_time": "2023-05-28T16:30:32.946Z"
   },
   {
    "duration": 16,
    "start_time": "2023-05-28T16:30:32.961Z"
   },
   {
    "duration": 24,
    "start_time": "2023-05-28T16:31:36.854Z"
   },
   {
    "duration": 18,
    "start_time": "2023-05-28T16:31:42.601Z"
   },
   {
    "duration": 20,
    "start_time": "2023-05-28T16:31:52.457Z"
   },
   {
    "duration": 19,
    "start_time": "2023-05-28T16:32:08.458Z"
   },
   {
    "duration": 16,
    "start_time": "2023-05-28T16:32:17.488Z"
   },
   {
    "duration": 24,
    "start_time": "2023-05-28T16:32:55.299Z"
   },
   {
    "duration": 31,
    "start_time": "2023-05-28T16:35:05.254Z"
   },
   {
    "duration": 25,
    "start_time": "2023-05-28T16:35:10.062Z"
   },
   {
    "duration": 24,
    "start_time": "2023-05-28T16:35:40.494Z"
   },
   {
    "duration": 23,
    "start_time": "2023-05-28T16:35:45.379Z"
   },
   {
    "duration": 26,
    "start_time": "2023-05-28T16:35:47.962Z"
   },
   {
    "duration": 4,
    "start_time": "2023-05-28T16:35:52.079Z"
   },
   {
    "duration": 85,
    "start_time": "2023-05-28T16:35:52.085Z"
   },
   {
    "duration": 12,
    "start_time": "2023-05-28T16:35:52.172Z"
   },
   {
    "duration": 18,
    "start_time": "2023-05-28T16:35:52.185Z"
   },
   {
    "duration": 17,
    "start_time": "2023-05-28T16:35:52.204Z"
   },
   {
    "duration": 20,
    "start_time": "2023-05-28T16:35:52.223Z"
   },
   {
    "duration": 15,
    "start_time": "2023-05-28T16:35:52.248Z"
   },
   {
    "duration": 21,
    "start_time": "2023-05-28T16:35:52.264Z"
   },
   {
    "duration": 141,
    "start_time": "2023-05-28T16:35:52.287Z"
   },
   {
    "duration": 5,
    "start_time": "2023-05-28T16:35:52.438Z"
   },
   {
    "duration": 16,
    "start_time": "2023-05-28T16:35:52.445Z"
   },
   {
    "duration": 34,
    "start_time": "2023-05-28T16:35:52.464Z"
   },
   {
    "duration": 44,
    "start_time": "2023-05-28T16:35:52.499Z"
   },
   {
    "duration": 43,
    "start_time": "2023-05-28T16:35:52.545Z"
   },
   {
    "duration": 14,
    "start_time": "2023-05-28T16:38:01.309Z"
   },
   {
    "duration": 17,
    "start_time": "2023-05-28T16:38:04.847Z"
   },
   {
    "duration": 45,
    "start_time": "2023-05-28T16:38:04.867Z"
   },
   {
    "duration": 17,
    "start_time": "2023-05-28T16:38:04.914Z"
   },
   {
    "duration": 19,
    "start_time": "2023-05-28T16:38:04.932Z"
   },
   {
    "duration": 9,
    "start_time": "2023-05-28T16:38:04.954Z"
   },
   {
    "duration": 9,
    "start_time": "2023-05-28T16:38:04.966Z"
   },
   {
    "duration": 13,
    "start_time": "2023-05-28T16:38:04.976Z"
   },
   {
    "duration": 7,
    "start_time": "2023-05-28T16:38:04.990Z"
   },
   {
    "duration": 181,
    "start_time": "2023-05-28T16:38:04.998Z"
   },
   {
    "duration": 2,
    "start_time": "2023-05-28T16:38:05.181Z"
   },
   {
    "duration": 6,
    "start_time": "2023-05-28T16:38:05.184Z"
   },
   {
    "duration": 6,
    "start_time": "2023-05-28T16:38:05.192Z"
   },
   {
    "duration": 10,
    "start_time": "2023-05-28T16:38:05.200Z"
   },
   {
    "duration": 48,
    "start_time": "2023-05-28T16:38:05.226Z"
   },
   {
    "duration": 14,
    "start_time": "2023-05-28T16:41:38.087Z"
   },
   {
    "duration": 40,
    "start_time": "2023-05-28T16:41:44.381Z"
   },
   {
    "duration": 8,
    "start_time": "2023-05-28T16:42:06.952Z"
   },
   {
    "duration": 46,
    "start_time": "2023-05-28T16:42:06.964Z"
   },
   {
    "duration": 12,
    "start_time": "2023-05-28T16:42:07.011Z"
   },
   {
    "duration": 37,
    "start_time": "2023-05-28T16:42:07.029Z"
   },
   {
    "duration": 7,
    "start_time": "2023-05-28T16:42:07.069Z"
   },
   {
    "duration": 8,
    "start_time": "2023-05-28T16:42:07.078Z"
   },
   {
    "duration": 6,
    "start_time": "2023-05-28T16:42:07.088Z"
   },
   {
    "duration": 9,
    "start_time": "2023-05-28T16:42:07.096Z"
   },
   {
    "duration": 158,
    "start_time": "2023-05-28T16:42:07.106Z"
   },
   {
    "duration": 4,
    "start_time": "2023-05-28T16:42:07.266Z"
   },
   {
    "duration": 10,
    "start_time": "2023-05-28T16:42:07.272Z"
   },
   {
    "duration": 5,
    "start_time": "2023-05-28T16:42:07.284Z"
   },
   {
    "duration": 15,
    "start_time": "2023-05-28T16:42:07.291Z"
   },
   {
    "duration": 47,
    "start_time": "2023-05-28T16:42:07.324Z"
   },
   {
    "duration": 13,
    "start_time": "2023-05-28T16:42:41.794Z"
   },
   {
    "duration": 5,
    "start_time": "2023-05-28T16:43:12.062Z"
   },
   {
    "duration": 49,
    "start_time": "2023-05-28T16:43:12.070Z"
   },
   {
    "duration": 26,
    "start_time": "2023-05-28T16:43:12.121Z"
   },
   {
    "duration": 21,
    "start_time": "2023-05-28T16:43:12.149Z"
   },
   {
    "duration": 5,
    "start_time": "2023-05-28T16:43:12.172Z"
   },
   {
    "duration": 124,
    "start_time": "2023-05-28T16:43:12.178Z"
   },
   {
    "duration": 11,
    "start_time": "2023-05-28T16:43:12.304Z"
   },
   {
    "duration": 19,
    "start_time": "2023-05-28T16:43:12.317Z"
   },
   {
    "duration": 165,
    "start_time": "2023-05-28T16:43:12.340Z"
   },
   {
    "duration": 3,
    "start_time": "2023-05-28T16:43:12.506Z"
   },
   {
    "duration": 15,
    "start_time": "2023-05-28T16:43:12.512Z"
   },
   {
    "duration": 11,
    "start_time": "2023-05-28T16:43:12.528Z"
   },
   {
    "duration": 20,
    "start_time": "2023-05-28T16:43:12.541Z"
   },
   {
    "duration": 32,
    "start_time": "2023-05-28T16:43:12.565Z"
   },
   {
    "duration": 0,
    "start_time": "2023-05-28T16:43:12.598Z"
   },
   {
    "duration": 6,
    "start_time": "2023-05-28T16:43:36.060Z"
   },
   {
    "duration": 51,
    "start_time": "2023-05-28T16:43:36.068Z"
   },
   {
    "duration": 31,
    "start_time": "2023-05-28T16:43:36.121Z"
   },
   {
    "duration": 30,
    "start_time": "2023-05-28T16:43:36.154Z"
   },
   {
    "duration": 5,
    "start_time": "2023-05-28T16:43:36.187Z"
   },
   {
    "duration": 18,
    "start_time": "2023-05-28T16:43:36.194Z"
   },
   {
    "duration": 10,
    "start_time": "2023-05-28T16:43:36.214Z"
   },
   {
    "duration": 19,
    "start_time": "2023-05-28T16:43:36.230Z"
   },
   {
    "duration": 171,
    "start_time": "2023-05-28T16:43:36.250Z"
   },
   {
    "duration": 5,
    "start_time": "2023-05-28T16:43:36.425Z"
   },
   {
    "duration": 33,
    "start_time": "2023-05-28T16:43:36.432Z"
   },
   {
    "duration": 23,
    "start_time": "2023-05-28T16:43:36.467Z"
   },
   {
    "duration": 21,
    "start_time": "2023-05-28T16:43:36.492Z"
   },
   {
    "duration": 38,
    "start_time": "2023-05-28T16:43:36.516Z"
   },
   {
    "duration": 33,
    "start_time": "2023-05-28T16:43:36.558Z"
   },
   {
    "duration": 14,
    "start_time": "2023-05-28T16:43:52.013Z"
   },
   {
    "duration": 19,
    "start_time": "2023-05-28T16:47:25.355Z"
   },
   {
    "duration": 11,
    "start_time": "2023-05-28T16:47:51.201Z"
   },
   {
    "duration": 18,
    "start_time": "2023-05-28T16:47:52.756Z"
   },
   {
    "duration": 13,
    "start_time": "2023-05-28T16:47:55.309Z"
   },
   {
    "duration": 6,
    "start_time": "2023-05-28T16:48:31.409Z"
   },
   {
    "duration": 77,
    "start_time": "2023-05-28T16:48:31.417Z"
   },
   {
    "duration": 36,
    "start_time": "2023-05-28T16:48:31.495Z"
   },
   {
    "duration": 41,
    "start_time": "2023-05-28T16:48:31.533Z"
   },
   {
    "duration": 29,
    "start_time": "2023-05-28T16:48:31.576Z"
   },
   {
    "duration": 54,
    "start_time": "2023-05-28T16:48:31.607Z"
   },
   {
    "duration": 27,
    "start_time": "2023-05-28T16:48:31.663Z"
   },
   {
    "duration": 63,
    "start_time": "2023-05-28T16:48:31.692Z"
   },
   {
    "duration": 153,
    "start_time": "2023-05-28T16:48:31.756Z"
   },
   {
    "duration": 2,
    "start_time": "2023-05-28T16:48:31.910Z"
   },
   {
    "duration": 36,
    "start_time": "2023-05-28T16:48:31.914Z"
   },
   {
    "duration": 23,
    "start_time": "2023-05-28T16:48:31.953Z"
   },
   {
    "duration": 19,
    "start_time": "2023-05-28T16:48:31.978Z"
   },
   {
    "duration": 58,
    "start_time": "2023-05-28T16:48:31.999Z"
   },
   {
    "duration": 13,
    "start_time": "2023-05-28T16:48:32.059Z"
   },
   {
    "duration": 25,
    "start_time": "2023-05-28T16:48:32.073Z"
   },
   {
    "duration": 21,
    "start_time": "2023-05-28T16:48:32.099Z"
   },
   {
    "duration": 8,
    "start_time": "2023-05-28T16:49:25.970Z"
   },
   {
    "duration": 63,
    "start_time": "2023-05-28T16:49:25.981Z"
   },
   {
    "duration": 22,
    "start_time": "2023-05-28T16:49:26.045Z"
   },
   {
    "duration": 21,
    "start_time": "2023-05-28T16:49:26.069Z"
   },
   {
    "duration": 6,
    "start_time": "2023-05-28T16:49:26.093Z"
   },
   {
    "duration": 6,
    "start_time": "2023-05-28T16:49:26.100Z"
   },
   {
    "duration": 24,
    "start_time": "2023-05-28T16:49:26.108Z"
   },
   {
    "duration": 11,
    "start_time": "2023-05-28T16:49:26.138Z"
   },
   {
    "duration": 164,
    "start_time": "2023-05-28T16:49:26.151Z"
   },
   {
    "duration": 11,
    "start_time": "2023-05-28T16:49:26.317Z"
   },
   {
    "duration": 7,
    "start_time": "2023-05-28T16:49:26.334Z"
   },
   {
    "duration": 11,
    "start_time": "2023-05-28T16:49:26.351Z"
   },
   {
    "duration": 22,
    "start_time": "2023-05-28T16:49:26.365Z"
   },
   {
    "duration": 39,
    "start_time": "2023-05-28T16:49:26.390Z"
   },
   {
    "duration": 23,
    "start_time": "2023-05-28T16:49:26.431Z"
   },
   {
    "duration": 20,
    "start_time": "2023-05-28T16:49:26.456Z"
   },
   {
    "duration": 17,
    "start_time": "2023-05-28T16:49:26.478Z"
   },
   {
    "duration": 14,
    "start_time": "2023-05-28T16:53:34.510Z"
   },
   {
    "duration": 1476,
    "start_time": "2023-05-28T16:56:22.279Z"
   },
   {
    "duration": 49,
    "start_time": "2023-05-28T16:56:23.757Z"
   },
   {
    "duration": 26,
    "start_time": "2023-05-28T16:56:23.808Z"
   },
   {
    "duration": 20,
    "start_time": "2023-05-28T16:56:23.843Z"
   },
   {
    "duration": 5,
    "start_time": "2023-05-28T16:56:23.866Z"
   },
   {
    "duration": 6,
    "start_time": "2023-05-28T16:56:23.873Z"
   },
   {
    "duration": 9,
    "start_time": "2023-05-28T16:56:23.880Z"
   },
   {
    "duration": 9,
    "start_time": "2023-05-28T16:56:23.891Z"
   },
   {
    "duration": 180,
    "start_time": "2023-05-28T16:56:23.926Z"
   },
   {
    "duration": 3,
    "start_time": "2023-05-28T16:56:24.109Z"
   },
   {
    "duration": 35,
    "start_time": "2023-05-28T16:56:24.125Z"
   },
   {
    "duration": 9,
    "start_time": "2023-05-28T16:56:24.162Z"
   },
   {
    "duration": 14,
    "start_time": "2023-05-28T16:56:24.173Z"
   },
   {
    "duration": 24,
    "start_time": "2023-05-28T16:56:24.190Z"
   },
   {
    "duration": 21,
    "start_time": "2023-05-28T16:56:24.216Z"
   },
   {
    "duration": 124,
    "start_time": "2023-05-28T16:56:24.239Z"
   },
   {
    "duration": 0,
    "start_time": "2023-05-28T16:56:24.365Z"
   },
   {
    "duration": 0,
    "start_time": "2023-05-28T16:56:24.366Z"
   },
   {
    "duration": 0,
    "start_time": "2023-05-28T16:56:24.367Z"
   },
   {
    "duration": 0,
    "start_time": "2023-05-28T16:56:24.369Z"
   },
   {
    "duration": 0,
    "start_time": "2023-05-28T16:56:24.370Z"
   },
   {
    "duration": 0,
    "start_time": "2023-05-28T16:56:24.371Z"
   },
   {
    "duration": 0,
    "start_time": "2023-05-28T16:56:24.372Z"
   },
   {
    "duration": 0,
    "start_time": "2023-05-28T16:56:24.373Z"
   },
   {
    "duration": 0,
    "start_time": "2023-05-28T16:56:24.374Z"
   },
   {
    "duration": 0,
    "start_time": "2023-05-28T16:56:24.375Z"
   },
   {
    "duration": 0,
    "start_time": "2023-05-28T16:56:24.376Z"
   },
   {
    "duration": 0,
    "start_time": "2023-05-28T16:56:24.377Z"
   },
   {
    "duration": 0,
    "start_time": "2023-05-28T16:56:24.378Z"
   },
   {
    "duration": 0,
    "start_time": "2023-05-28T16:56:24.380Z"
   },
   {
    "duration": 0,
    "start_time": "2023-05-28T16:56:24.381Z"
   },
   {
    "duration": 0,
    "start_time": "2023-05-28T16:56:24.383Z"
   },
   {
    "duration": 0,
    "start_time": "2023-05-28T16:56:24.384Z"
   },
   {
    "duration": 0,
    "start_time": "2023-05-28T16:56:24.386Z"
   },
   {
    "duration": 39,
    "start_time": "2023-05-28T16:57:13.600Z"
   },
   {
    "duration": 503,
    "start_time": "2023-05-28T16:57:13.641Z"
   },
   {
    "duration": 240,
    "start_time": "2023-05-28T16:57:14.146Z"
   },
   {
    "duration": 12397,
    "start_time": "2023-05-28T16:57:14.388Z"
   },
   {
    "duration": 229,
    "start_time": "2023-05-28T16:57:26.788Z"
   },
   {
    "duration": 2065,
    "start_time": "2023-05-28T16:57:27.019Z"
   },
   {
    "duration": 3,
    "start_time": "2023-05-28T16:57:29.087Z"
   },
   {
    "duration": 146,
    "start_time": "2023-05-28T16:57:29.091Z"
   },
   {
    "duration": 1932,
    "start_time": "2023-05-28T16:57:29.239Z"
   },
   {
    "duration": 247,
    "start_time": "2023-05-28T16:57:31.232Z"
   },
   {
    "duration": 4,
    "start_time": "2023-05-28T16:57:31.481Z"
   },
   {
    "duration": 79,
    "start_time": "2023-05-28T16:57:31.487Z"
   },
   {
    "duration": 940,
    "start_time": "2023-05-28T16:57:31.568Z"
   },
   {
    "duration": 3,
    "start_time": "2023-05-28T16:57:32.512Z"
   },
   {
    "duration": 28,
    "start_time": "2023-05-28T16:57:32.517Z"
   },
   {
    "duration": 311,
    "start_time": "2023-05-28T16:57:32.546Z"
   },
   {
    "duration": 50,
    "start_time": "2023-05-28T16:57:32.862Z"
   },
   {
    "duration": 31,
    "start_time": "2023-05-28T16:57:32.914Z"
   },
   {
    "duration": 119,
    "start_time": "2023-05-28T16:57:32.955Z"
   },
   {
    "duration": 1437,
    "start_time": "2023-05-28T16:58:28.886Z"
   },
   {
    "duration": 63,
    "start_time": "2023-05-28T16:58:30.331Z"
   },
   {
    "duration": 14,
    "start_time": "2023-05-28T16:58:30.396Z"
   },
   {
    "duration": 50,
    "start_time": "2023-05-28T16:58:30.412Z"
   },
   {
    "duration": 15,
    "start_time": "2023-05-28T16:58:30.464Z"
   },
   {
    "duration": 24,
    "start_time": "2023-05-28T16:58:30.481Z"
   },
   {
    "duration": 51,
    "start_time": "2023-05-28T16:58:30.508Z"
   },
   {
    "duration": 29,
    "start_time": "2023-05-28T16:58:30.563Z"
   },
   {
    "duration": 175,
    "start_time": "2023-05-28T16:58:30.593Z"
   },
   {
    "duration": 2,
    "start_time": "2023-05-28T16:58:30.770Z"
   },
   {
    "duration": 43,
    "start_time": "2023-05-28T16:58:30.774Z"
   },
   {
    "duration": 36,
    "start_time": "2023-05-28T16:58:30.819Z"
   },
   {
    "duration": 23,
    "start_time": "2023-05-28T16:58:30.856Z"
   },
   {
    "duration": 63,
    "start_time": "2023-05-28T16:58:30.883Z"
   },
   {
    "duration": 49,
    "start_time": "2023-05-28T16:58:30.947Z"
   },
   {
    "duration": 71,
    "start_time": "2023-05-28T16:58:30.997Z"
   },
   {
    "duration": 483,
    "start_time": "2023-05-28T16:58:31.070Z"
   },
   {
    "duration": 196,
    "start_time": "2023-05-28T16:58:31.554Z"
   },
   {
    "duration": 11647,
    "start_time": "2023-05-28T16:58:31.752Z"
   },
   {
    "duration": 199,
    "start_time": "2023-05-28T16:58:43.401Z"
   },
   {
    "duration": 2573,
    "start_time": "2023-05-28T16:58:43.603Z"
   },
   {
    "duration": 3,
    "start_time": "2023-05-28T16:58:46.178Z"
   },
   {
    "duration": 176,
    "start_time": "2023-05-28T16:58:46.182Z"
   },
   {
    "duration": 2465,
    "start_time": "2023-05-28T16:58:46.360Z"
   },
   {
    "duration": 155,
    "start_time": "2023-05-28T16:58:48.833Z"
   },
   {
    "duration": 4,
    "start_time": "2023-05-28T16:58:48.989Z"
   },
   {
    "duration": 42,
    "start_time": "2023-05-28T16:58:48.995Z"
   },
   {
    "duration": 894,
    "start_time": "2023-05-28T16:58:49.039Z"
   },
   {
    "duration": 4,
    "start_time": "2023-05-28T16:58:49.935Z"
   },
   {
    "duration": 14,
    "start_time": "2023-05-28T16:58:49.940Z"
   },
   {
    "duration": 408,
    "start_time": "2023-05-28T16:58:49.957Z"
   },
   {
    "duration": 40,
    "start_time": "2023-05-28T16:58:50.367Z"
   },
   {
    "duration": 25,
    "start_time": "2023-05-28T16:58:50.408Z"
   },
   {
    "duration": 120,
    "start_time": "2023-05-28T16:58:50.438Z"
   },
   {
    "duration": 5116,
    "start_time": "2023-05-28T16:59:08.661Z"
   },
   {
    "duration": 14374,
    "start_time": "2023-05-28T16:59:22.364Z"
   },
   {
    "duration": 17319,
    "start_time": "2023-05-28T17:00:08.163Z"
   },
   {
    "duration": 1392,
    "start_time": "2023-05-28T17:01:42.085Z"
   },
   {
    "duration": 56,
    "start_time": "2023-05-28T17:01:43.480Z"
   },
   {
    "duration": 21,
    "start_time": "2023-05-28T17:01:43.545Z"
   },
   {
    "duration": 18,
    "start_time": "2023-05-28T17:01:43.569Z"
   },
   {
    "duration": 5,
    "start_time": "2023-05-28T17:01:43.589Z"
   },
   {
    "duration": 19,
    "start_time": "2023-05-28T17:01:43.596Z"
   },
   {
    "duration": 26,
    "start_time": "2023-05-28T17:01:43.617Z"
   },
   {
    "duration": 11,
    "start_time": "2023-05-28T17:01:43.646Z"
   },
   {
    "duration": 156,
    "start_time": "2023-05-28T17:01:43.658Z"
   },
   {
    "duration": 15,
    "start_time": "2023-05-28T17:01:43.816Z"
   },
   {
    "duration": 25,
    "start_time": "2023-05-28T17:01:43.834Z"
   },
   {
    "duration": 15,
    "start_time": "2023-05-28T17:01:43.861Z"
   },
   {
    "duration": 19,
    "start_time": "2023-05-28T17:01:43.879Z"
   },
   {
    "duration": 28,
    "start_time": "2023-05-28T17:01:43.901Z"
   },
   {
    "duration": 18,
    "start_time": "2023-05-28T17:01:43.931Z"
   },
   {
    "duration": 42,
    "start_time": "2023-05-28T17:01:43.951Z"
   },
   {
    "duration": 464,
    "start_time": "2023-05-28T17:01:43.996Z"
   },
   {
    "duration": 204,
    "start_time": "2023-05-28T17:01:44.462Z"
   },
   {
    "duration": 11352,
    "start_time": "2023-05-28T17:01:44.668Z"
   },
   {
    "duration": 310,
    "start_time": "2023-05-28T17:01:56.022Z"
   },
   {
    "duration": 16209,
    "start_time": "2023-05-28T17:01:56.333Z"
   },
   {
    "duration": 3,
    "start_time": "2023-05-28T17:02:12.546Z"
   },
   {
    "duration": 151,
    "start_time": "2023-05-28T17:02:12.551Z"
   },
   {
    "duration": 2642,
    "start_time": "2023-05-28T17:02:12.704Z"
   },
   {
    "duration": 338,
    "start_time": "2023-05-28T17:02:15.354Z"
   },
   {
    "duration": 4,
    "start_time": "2023-05-28T17:02:15.694Z"
   },
   {
    "duration": 43,
    "start_time": "2023-05-28T17:02:15.700Z"
   },
   {
    "duration": 898,
    "start_time": "2023-05-28T17:02:15.745Z"
   },
   {
    "duration": 6,
    "start_time": "2023-05-28T17:02:16.644Z"
   },
   {
    "duration": 49,
    "start_time": "2023-05-28T17:02:16.652Z"
   },
   {
    "duration": 370,
    "start_time": "2023-05-28T17:02:16.702Z"
   },
   {
    "duration": 67,
    "start_time": "2023-05-28T17:02:17.074Z"
   },
   {
    "duration": 15,
    "start_time": "2023-05-28T17:02:17.144Z"
   },
   {
    "duration": 138,
    "start_time": "2023-05-28T17:02:17.161Z"
   },
   {
    "duration": 386,
    "start_time": "2023-05-28T17:03:18.608Z"
   },
   {
    "duration": 385,
    "start_time": "2023-05-28T17:03:22.080Z"
   },
   {
    "duration": 375,
    "start_time": "2023-05-28T17:03:25.346Z"
   },
   {
    "duration": 415,
    "start_time": "2023-05-28T17:03:34.502Z"
   },
   {
    "duration": 395,
    "start_time": "2023-05-28T17:03:38.649Z"
   },
   {
    "duration": 440,
    "start_time": "2023-05-28T17:03:42.546Z"
   },
   {
    "duration": 400,
    "start_time": "2023-05-28T17:03:45.370Z"
   },
   {
    "duration": 78,
    "start_time": "2023-05-28T17:04:31.598Z"
   },
   {
    "duration": 1728,
    "start_time": "2023-05-30T17:01:51.527Z"
   },
   {
    "duration": 80,
    "start_time": "2023-05-30T17:01:53.257Z"
   },
   {
    "duration": 13,
    "start_time": "2023-05-30T17:01:53.338Z"
   },
   {
    "duration": 29,
    "start_time": "2023-05-30T17:01:53.353Z"
   },
   {
    "duration": 4,
    "start_time": "2023-05-30T17:01:53.384Z"
   },
   {
    "duration": 15,
    "start_time": "2023-05-30T17:01:53.390Z"
   },
   {
    "duration": 14,
    "start_time": "2023-05-30T17:01:53.407Z"
   },
   {
    "duration": 6,
    "start_time": "2023-05-30T17:01:53.422Z"
   },
   {
    "duration": 169,
    "start_time": "2023-05-30T17:01:53.430Z"
   },
   {
    "duration": 3,
    "start_time": "2023-05-30T17:01:53.601Z"
   },
   {
    "duration": 49,
    "start_time": "2023-05-30T17:01:53.606Z"
   },
   {
    "duration": 24,
    "start_time": "2023-05-30T17:01:53.657Z"
   },
   {
    "duration": 26,
    "start_time": "2023-05-30T17:01:53.683Z"
   },
   {
    "duration": 71,
    "start_time": "2023-05-30T17:01:53.712Z"
   },
   {
    "duration": 12,
    "start_time": "2023-05-30T17:01:53.785Z"
   },
   {
    "duration": 61,
    "start_time": "2023-05-30T17:01:53.798Z"
   },
   {
    "duration": 122,
    "start_time": "2023-05-30T17:01:53.861Z"
   },
   {
    "duration": 592,
    "start_time": "2023-05-30T17:02:06.074Z"
   },
   {
    "duration": 500,
    "start_time": "2023-05-30T17:04:04.740Z"
   },
   {
    "duration": 1428,
    "start_time": "2023-05-30T17:04:56.162Z"
   },
   {
    "duration": 47,
    "start_time": "2023-05-30T17:04:57.591Z"
   },
   {
    "duration": 14,
    "start_time": "2023-05-30T17:04:57.640Z"
   },
   {
    "duration": 19,
    "start_time": "2023-05-30T17:04:57.656Z"
   },
   {
    "duration": 4,
    "start_time": "2023-05-30T17:04:57.677Z"
   },
   {
    "duration": 7,
    "start_time": "2023-05-30T17:04:57.683Z"
   },
   {
    "duration": 47,
    "start_time": "2023-05-30T17:04:57.691Z"
   },
   {
    "duration": 7,
    "start_time": "2023-05-30T17:04:57.740Z"
   },
   {
    "duration": 185,
    "start_time": "2023-05-30T17:04:57.749Z"
   },
   {
    "duration": 3,
    "start_time": "2023-05-30T17:04:57.939Z"
   },
   {
    "duration": 6,
    "start_time": "2023-05-30T17:04:57.944Z"
   },
   {
    "duration": 13,
    "start_time": "2023-05-30T17:04:57.952Z"
   },
   {
    "duration": 23,
    "start_time": "2023-05-30T17:04:57.966Z"
   },
   {
    "duration": 50,
    "start_time": "2023-05-30T17:04:57.991Z"
   },
   {
    "duration": 14,
    "start_time": "2023-05-30T17:04:58.043Z"
   },
   {
    "duration": 27,
    "start_time": "2023-05-30T17:04:58.059Z"
   },
   {
    "duration": 546,
    "start_time": "2023-05-30T17:04:58.088Z"
   },
   {
    "duration": 273,
    "start_time": "2023-05-30T17:04:58.636Z"
   },
   {
    "duration": 12438,
    "start_time": "2023-05-30T17:04:58.911Z"
   },
   {
    "duration": 188,
    "start_time": "2023-05-30T17:05:11.351Z"
   },
   {
    "duration": 18453,
    "start_time": "2023-05-30T17:05:11.540Z"
   },
   {
    "duration": 3,
    "start_time": "2023-05-30T17:05:29.995Z"
   },
   {
    "duration": 206,
    "start_time": "2023-05-30T17:05:30.000Z"
   },
   {
    "duration": 2228,
    "start_time": "2023-05-30T17:05:30.209Z"
   },
   {
    "duration": 303,
    "start_time": "2023-05-30T17:05:32.439Z"
   },
   {
    "duration": 5,
    "start_time": "2023-05-30T17:05:32.743Z"
   },
   {
    "duration": 18,
    "start_time": "2023-05-30T17:05:32.750Z"
   },
   {
    "duration": 864,
    "start_time": "2023-05-30T17:05:32.772Z"
   },
   {
    "duration": 5,
    "start_time": "2023-05-30T17:05:33.638Z"
   },
   {
    "duration": 25,
    "start_time": "2023-05-30T17:05:33.644Z"
   },
   {
    "duration": 409,
    "start_time": "2023-05-30T17:05:33.671Z"
   },
   {
    "duration": 450,
    "start_time": "2023-05-30T17:05:34.082Z"
   },
   {
    "duration": 45,
    "start_time": "2023-05-30T17:05:34.534Z"
   },
   {
    "duration": 132,
    "start_time": "2023-05-30T17:05:34.581Z"
   },
   {
    "duration": 90,
    "start_time": "2023-05-30T17:11:24.882Z"
   },
   {
    "duration": 1311,
    "start_time": "2023-05-30T17:11:36.741Z"
   },
   {
    "duration": 42,
    "start_time": "2023-05-30T17:11:38.054Z"
   },
   {
    "duration": 14,
    "start_time": "2023-05-30T17:11:38.098Z"
   },
   {
    "duration": 20,
    "start_time": "2023-05-30T17:11:38.114Z"
   },
   {
    "duration": 12,
    "start_time": "2023-05-30T17:11:38.138Z"
   },
   {
    "duration": 25,
    "start_time": "2023-05-30T17:11:38.151Z"
   },
   {
    "duration": 11,
    "start_time": "2023-05-30T17:11:38.178Z"
   },
   {
    "duration": 13,
    "start_time": "2023-05-30T17:11:38.191Z"
   },
   {
    "duration": 141,
    "start_time": "2023-05-30T17:11:38.206Z"
   },
   {
    "duration": 2,
    "start_time": "2023-05-30T17:11:38.349Z"
   },
   {
    "duration": 7,
    "start_time": "2023-05-30T17:11:38.353Z"
   },
   {
    "duration": 8,
    "start_time": "2023-05-30T17:11:38.362Z"
   },
   {
    "duration": 14,
    "start_time": "2023-05-30T17:11:38.371Z"
   },
   {
    "duration": 39,
    "start_time": "2023-05-30T17:11:38.389Z"
   },
   {
    "duration": 11,
    "start_time": "2023-05-30T17:11:38.430Z"
   },
   {
    "duration": 29,
    "start_time": "2023-05-30T17:11:38.443Z"
   },
   {
    "duration": 511,
    "start_time": "2023-05-30T17:11:38.474Z"
   },
   {
    "duration": 192,
    "start_time": "2023-05-30T17:11:38.987Z"
   },
   {
    "duration": 12571,
    "start_time": "2023-05-30T17:11:39.181Z"
   },
   {
    "duration": 178,
    "start_time": "2023-05-30T17:11:51.754Z"
   },
   {
    "duration": 18265,
    "start_time": "2023-05-30T17:11:51.933Z"
   },
   {
    "duration": 3,
    "start_time": "2023-05-30T17:12:10.200Z"
   },
   {
    "duration": 166,
    "start_time": "2023-05-30T17:12:10.205Z"
   },
   {
    "duration": 3247,
    "start_time": "2023-05-30T17:12:10.372Z"
   },
   {
    "duration": 299,
    "start_time": "2023-05-30T17:12:13.620Z"
   },
   {
    "duration": 4,
    "start_time": "2023-05-30T17:12:13.920Z"
   },
   {
    "duration": 19,
    "start_time": "2023-05-30T17:12:13.926Z"
   },
   {
    "duration": 843,
    "start_time": "2023-05-30T17:12:13.947Z"
   },
   {
    "duration": 5,
    "start_time": "2023-05-30T17:12:14.792Z"
   },
   {
    "duration": 26,
    "start_time": "2023-05-30T17:12:14.799Z"
   },
   {
    "duration": 328,
    "start_time": "2023-05-30T17:12:14.827Z"
   },
   {
    "duration": 420,
    "start_time": "2023-05-30T17:12:15.157Z"
   },
   {
    "duration": 51,
    "start_time": "2023-05-30T17:12:15.579Z"
   },
   {
    "duration": 117,
    "start_time": "2023-05-30T17:12:15.632Z"
   },
   {
    "duration": 428,
    "start_time": "2023-05-30T17:20:59.966Z"
   },
   {
    "duration": 434,
    "start_time": "2023-05-30T17:21:03.299Z"
   },
   {
    "duration": 333,
    "start_time": "2023-05-30T17:24:24.867Z"
   },
   {
    "duration": 74,
    "start_time": "2023-05-31T16:42:21.269Z"
   },
   {
    "duration": 1814,
    "start_time": "2023-05-31T16:43:46.679Z"
   },
   {
    "duration": 219,
    "start_time": "2023-05-31T16:43:48.495Z"
   },
   {
    "duration": 17,
    "start_time": "2023-05-31T16:43:48.716Z"
   },
   {
    "duration": 26,
    "start_time": "2023-05-31T16:43:48.735Z"
   },
   {
    "duration": 5,
    "start_time": "2023-05-31T16:43:48.764Z"
   },
   {
    "duration": 12,
    "start_time": "2023-05-31T16:43:48.771Z"
   },
   {
    "duration": 9,
    "start_time": "2023-05-31T16:43:48.785Z"
   },
   {
    "duration": 6,
    "start_time": "2023-05-31T16:43:48.796Z"
   },
   {
    "duration": 195,
    "start_time": "2023-05-31T16:43:48.804Z"
   },
   {
    "duration": 3,
    "start_time": "2023-05-31T16:43:49.001Z"
   },
   {
    "duration": 11,
    "start_time": "2023-05-31T16:43:49.006Z"
   },
   {
    "duration": 9,
    "start_time": "2023-05-31T16:43:49.019Z"
   },
   {
    "duration": 52,
    "start_time": "2023-05-31T16:43:49.030Z"
   },
   {
    "duration": 29,
    "start_time": "2023-05-31T16:43:49.090Z"
   },
   {
    "duration": 19,
    "start_time": "2023-05-31T16:43:49.121Z"
   },
   {
    "duration": 49,
    "start_time": "2023-05-31T16:43:49.142Z"
   },
   {
    "duration": 497,
    "start_time": "2023-05-31T16:43:49.193Z"
   },
   {
    "duration": 227,
    "start_time": "2023-05-31T16:43:49.692Z"
   },
   {
    "duration": 13351,
    "start_time": "2023-05-31T16:43:49.921Z"
   },
   {
    "duration": 214,
    "start_time": "2023-05-31T16:44:03.273Z"
   },
   {
    "duration": 18805,
    "start_time": "2023-05-31T16:44:03.489Z"
   },
   {
    "duration": 3,
    "start_time": "2023-05-31T16:44:22.296Z"
   },
   {
    "duration": 195,
    "start_time": "2023-05-31T16:44:22.301Z"
   },
   {
    "duration": 2617,
    "start_time": "2023-05-31T16:44:22.498Z"
   },
   {
    "duration": 405,
    "start_time": "2023-05-31T16:44:25.117Z"
   },
   {
    "duration": 4,
    "start_time": "2023-05-31T16:44:25.523Z"
   },
   {
    "duration": 19,
    "start_time": "2023-05-31T16:44:25.529Z"
   },
   {
    "duration": 1317,
    "start_time": "2023-05-31T16:44:25.550Z"
   },
   {
    "duration": 9,
    "start_time": "2023-05-31T16:44:26.869Z"
   },
   {
    "duration": 26,
    "start_time": "2023-05-31T16:44:26.880Z"
   },
   {
    "duration": 520,
    "start_time": "2023-05-31T16:44:26.908Z"
   },
   {
    "duration": 479,
    "start_time": "2023-05-31T16:44:27.429Z"
   },
   {
    "duration": 72,
    "start_time": "2023-05-31T16:44:27.910Z"
   },
   {
    "duration": 161,
    "start_time": "2023-05-31T16:44:27.984Z"
   },
   {
    "duration": 457,
    "start_time": "2023-05-31T16:45:06.291Z"
   },
   {
    "duration": 473,
    "start_time": "2023-05-31T16:45:31.863Z"
   },
   {
    "duration": 442,
    "start_time": "2023-05-31T16:45:35.783Z"
   },
   {
    "duration": 459,
    "start_time": "2023-05-31T16:45:39.944Z"
   },
   {
    "duration": 426,
    "start_time": "2023-05-31T16:47:34.386Z"
   },
   {
    "duration": 448,
    "start_time": "2023-05-31T16:47:38.071Z"
   },
   {
    "duration": 468,
    "start_time": "2023-05-31T16:47:58.305Z"
   },
   {
    "duration": 455,
    "start_time": "2023-05-31T16:48:03.784Z"
   },
   {
    "duration": 435,
    "start_time": "2023-05-31T16:48:07.686Z"
   },
   {
    "duration": 1301,
    "start_time": "2023-05-31T16:52:09.630Z"
   },
   {
    "duration": 1359,
    "start_time": "2023-05-31T16:58:36.679Z"
   },
   {
    "duration": 1331,
    "start_time": "2023-05-31T16:58:51.967Z"
   },
   {
    "duration": 1135,
    "start_time": "2023-05-31T16:59:12.505Z"
   },
   {
    "duration": 1412,
    "start_time": "2023-05-31T16:59:28.078Z"
   },
   {
    "duration": 21,
    "start_time": "2023-05-31T17:00:35.146Z"
   },
   {
    "duration": 1347,
    "start_time": "2023-05-31T17:00:41.138Z"
   },
   {
    "duration": 1568,
    "start_time": "2023-05-31T17:00:54.597Z"
   },
   {
    "duration": 46,
    "start_time": "2023-05-31T17:00:56.167Z"
   },
   {
    "duration": 14,
    "start_time": "2023-05-31T17:00:56.215Z"
   },
   {
    "duration": 22,
    "start_time": "2023-05-31T17:00:56.231Z"
   },
   {
    "duration": 8,
    "start_time": "2023-05-31T17:00:56.256Z"
   },
   {
    "duration": 13,
    "start_time": "2023-05-31T17:00:56.268Z"
   },
   {
    "duration": 9,
    "start_time": "2023-05-31T17:00:56.283Z"
   },
   {
    "duration": 8,
    "start_time": "2023-05-31T17:00:56.293Z"
   },
   {
    "duration": 227,
    "start_time": "2023-05-31T17:00:56.303Z"
   },
   {
    "duration": 2,
    "start_time": "2023-05-31T17:00:56.532Z"
   },
   {
    "duration": 20,
    "start_time": "2023-05-31T17:00:56.536Z"
   },
   {
    "duration": 13,
    "start_time": "2023-05-31T17:00:56.560Z"
   },
   {
    "duration": 26,
    "start_time": "2023-05-31T17:00:56.575Z"
   },
   {
    "duration": 25,
    "start_time": "2023-05-31T17:00:56.604Z"
   },
   {
    "duration": 14,
    "start_time": "2023-05-31T17:00:56.631Z"
   },
   {
    "duration": 44,
    "start_time": "2023-05-31T17:00:56.649Z"
   },
   {
    "duration": 510,
    "start_time": "2023-05-31T17:00:56.694Z"
   },
   {
    "duration": 223,
    "start_time": "2023-05-31T17:00:57.206Z"
   },
   {
    "duration": 13276,
    "start_time": "2023-05-31T17:00:57.431Z"
   },
   {
    "duration": 276,
    "start_time": "2023-05-31T17:01:10.709Z"
   },
   {
    "duration": 19245,
    "start_time": "2023-05-31T17:01:10.987Z"
   },
   {
    "duration": 2,
    "start_time": "2023-05-31T17:01:30.234Z"
   },
   {
    "duration": 199,
    "start_time": "2023-05-31T17:01:30.238Z"
   },
   {
    "duration": 2428,
    "start_time": "2023-05-31T17:01:30.440Z"
   },
   {
    "duration": 319,
    "start_time": "2023-05-31T17:01:32.874Z"
   },
   {
    "duration": 4,
    "start_time": "2023-05-31T17:01:33.195Z"
   },
   {
    "duration": 19,
    "start_time": "2023-05-31T17:01:33.201Z"
   },
   {
    "duration": 1484,
    "start_time": "2023-05-31T17:01:33.222Z"
   },
   {
    "duration": 0,
    "start_time": "2023-05-31T17:01:34.708Z"
   },
   {
    "duration": 0,
    "start_time": "2023-05-31T17:01:34.710Z"
   },
   {
    "duration": 0,
    "start_time": "2023-05-31T17:01:34.711Z"
   },
   {
    "duration": 0,
    "start_time": "2023-05-31T17:01:34.712Z"
   },
   {
    "duration": 0,
    "start_time": "2023-05-31T17:01:34.713Z"
   },
   {
    "duration": 0,
    "start_time": "2023-05-31T17:01:34.715Z"
   },
   {
    "duration": 1393,
    "start_time": "2023-05-31T17:01:48.285Z"
   },
   {
    "duration": 1355,
    "start_time": "2023-05-31T17:04:24.627Z"
   },
   {
    "duration": 1319,
    "start_time": "2023-05-31T17:05:24.205Z"
   },
   {
    "duration": 1305,
    "start_time": "2023-05-31T17:06:30.190Z"
   },
   {
    "duration": 25,
    "start_time": "2023-05-31T17:06:48.766Z"
   },
   {
    "duration": 1283,
    "start_time": "2023-05-31T17:06:48.793Z"
   },
   {
    "duration": 0,
    "start_time": "2023-05-31T17:06:50.083Z"
   },
   {
    "duration": 0,
    "start_time": "2023-05-31T17:06:50.084Z"
   },
   {
    "duration": 0,
    "start_time": "2023-05-31T17:06:50.085Z"
   },
   {
    "duration": 0,
    "start_time": "2023-05-31T17:06:50.086Z"
   },
   {
    "duration": 0,
    "start_time": "2023-05-31T17:06:50.087Z"
   },
   {
    "duration": 0,
    "start_time": "2023-05-31T17:06:50.088Z"
   },
   {
    "duration": 1496,
    "start_time": "2023-05-31T17:07:00.245Z"
   },
   {
    "duration": 66,
    "start_time": "2023-05-31T17:07:01.743Z"
   },
   {
    "duration": 17,
    "start_time": "2023-05-31T17:07:01.812Z"
   },
   {
    "duration": 44,
    "start_time": "2023-05-31T17:07:01.831Z"
   },
   {
    "duration": 23,
    "start_time": "2023-05-31T17:07:01.877Z"
   },
   {
    "duration": 17,
    "start_time": "2023-05-31T17:07:01.902Z"
   },
   {
    "duration": 21,
    "start_time": "2023-05-31T17:07:01.921Z"
   },
   {
    "duration": 53,
    "start_time": "2023-05-31T17:07:01.944Z"
   },
   {
    "duration": 218,
    "start_time": "2023-05-31T17:07:01.999Z"
   },
   {
    "duration": 3,
    "start_time": "2023-05-31T17:07:02.221Z"
   },
   {
    "duration": 9,
    "start_time": "2023-05-31T17:07:02.226Z"
   },
   {
    "duration": 16,
    "start_time": "2023-05-31T17:07:02.237Z"
   },
   {
    "duration": 26,
    "start_time": "2023-05-31T17:07:02.260Z"
   },
   {
    "duration": 32,
    "start_time": "2023-05-31T17:07:02.288Z"
   },
   {
    "duration": 14,
    "start_time": "2023-05-31T17:07:02.322Z"
   },
   {
    "duration": 48,
    "start_time": "2023-05-31T17:07:02.338Z"
   },
   {
    "duration": 494,
    "start_time": "2023-05-31T17:07:02.388Z"
   },
   {
    "duration": 204,
    "start_time": "2023-05-31T17:07:02.884Z"
   },
   {
    "duration": 12390,
    "start_time": "2023-05-31T17:07:03.090Z"
   },
   {
    "duration": 206,
    "start_time": "2023-05-31T17:07:15.483Z"
   },
   {
    "duration": 18307,
    "start_time": "2023-05-31T17:07:15.691Z"
   },
   {
    "duration": 2,
    "start_time": "2023-05-31T17:07:34.000Z"
   },
   {
    "duration": 194,
    "start_time": "2023-05-31T17:07:34.004Z"
   },
   {
    "duration": 2353,
    "start_time": "2023-05-31T17:07:34.201Z"
   },
   {
    "duration": 275,
    "start_time": "2023-05-31T17:07:36.559Z"
   },
   {
    "duration": 4,
    "start_time": "2023-05-31T17:07:36.835Z"
   },
   {
    "duration": 45,
    "start_time": "2023-05-31T17:07:36.841Z"
   },
   {
    "duration": 1418,
    "start_time": "2023-05-31T17:07:36.889Z"
   },
   {
    "duration": 0,
    "start_time": "2023-05-31T17:07:38.309Z"
   },
   {
    "duration": 0,
    "start_time": "2023-05-31T17:07:38.310Z"
   },
   {
    "duration": 0,
    "start_time": "2023-05-31T17:07:38.312Z"
   },
   {
    "duration": 0,
    "start_time": "2023-05-31T17:07:38.314Z"
   },
   {
    "duration": 0,
    "start_time": "2023-05-31T17:07:38.316Z"
   },
   {
    "duration": 0,
    "start_time": "2023-05-31T17:07:38.317Z"
   },
   {
    "duration": 1281,
    "start_time": "2023-05-31T17:07:44.803Z"
   },
   {
    "duration": 1454,
    "start_time": "2023-05-31T17:08:04.209Z"
   },
   {
    "duration": 1437,
    "start_time": "2023-05-31T17:08:29.875Z"
   },
   {
    "duration": 1421,
    "start_time": "2023-05-31T17:10:19.480Z"
   },
   {
    "duration": 39,
    "start_time": "2023-05-31T17:10:20.903Z"
   },
   {
    "duration": 18,
    "start_time": "2023-05-31T17:10:20.944Z"
   },
   {
    "duration": 26,
    "start_time": "2023-05-31T17:10:20.964Z"
   },
   {
    "duration": 6,
    "start_time": "2023-05-31T17:10:20.993Z"
   },
   {
    "duration": 5,
    "start_time": "2023-05-31T17:10:21.001Z"
   },
   {
    "duration": 12,
    "start_time": "2023-05-31T17:10:21.008Z"
   },
   {
    "duration": 33,
    "start_time": "2023-05-31T17:10:21.022Z"
   },
   {
    "duration": 184,
    "start_time": "2023-05-31T17:10:21.057Z"
   },
   {
    "duration": 16,
    "start_time": "2023-05-31T17:10:21.242Z"
   },
   {
    "duration": 15,
    "start_time": "2023-05-31T17:10:21.259Z"
   },
   {
    "duration": 21,
    "start_time": "2023-05-31T17:10:21.276Z"
   },
   {
    "duration": 21,
    "start_time": "2023-05-31T17:10:21.299Z"
   },
   {
    "duration": 29,
    "start_time": "2023-05-31T17:10:21.323Z"
   },
   {
    "duration": 24,
    "start_time": "2023-05-31T17:10:21.359Z"
   },
   {
    "duration": 27,
    "start_time": "2023-05-31T17:10:21.385Z"
   },
   {
    "duration": 480,
    "start_time": "2023-05-31T17:10:21.413Z"
   },
   {
    "duration": 216,
    "start_time": "2023-05-31T17:10:21.895Z"
   },
   {
    "duration": 12722,
    "start_time": "2023-05-31T17:10:22.113Z"
   },
   {
    "duration": 209,
    "start_time": "2023-05-31T17:10:34.836Z"
   },
   {
    "duration": 20724,
    "start_time": "2023-05-31T17:10:35.049Z"
   },
   {
    "duration": 2,
    "start_time": "2023-05-31T17:10:55.775Z"
   },
   {
    "duration": 149,
    "start_time": "2023-05-31T17:10:55.779Z"
   },
   {
    "duration": 2326,
    "start_time": "2023-05-31T17:10:55.929Z"
   },
   {
    "duration": 323,
    "start_time": "2023-05-31T17:10:58.258Z"
   },
   {
    "duration": 4,
    "start_time": "2023-05-31T17:10:58.583Z"
   },
   {
    "duration": 51,
    "start_time": "2023-05-31T17:10:58.589Z"
   },
   {
    "duration": 1301,
    "start_time": "2023-05-31T17:10:58.642Z"
   },
   {
    "duration": 0,
    "start_time": "2023-05-31T17:10:59.944Z"
   },
   {
    "duration": 0,
    "start_time": "2023-05-31T17:10:59.952Z"
   },
   {
    "duration": 0,
    "start_time": "2023-05-31T17:10:59.953Z"
   },
   {
    "duration": 0,
    "start_time": "2023-05-31T17:10:59.954Z"
   },
   {
    "duration": 0,
    "start_time": "2023-05-31T17:10:59.955Z"
   },
   {
    "duration": 0,
    "start_time": "2023-05-31T17:10:59.956Z"
   },
   {
    "duration": 4,
    "start_time": "2023-05-31T17:11:17.298Z"
   },
   {
    "duration": 41,
    "start_time": "2023-05-31T17:11:17.304Z"
   },
   {
    "duration": 30,
    "start_time": "2023-05-31T17:11:17.347Z"
   },
   {
    "duration": 15,
    "start_time": "2023-05-31T17:11:17.381Z"
   },
   {
    "duration": 13,
    "start_time": "2023-05-31T17:11:17.398Z"
   },
   {
    "duration": 6,
    "start_time": "2023-05-31T17:11:17.413Z"
   },
   {
    "duration": 7,
    "start_time": "2023-05-31T17:11:17.421Z"
   },
   {
    "duration": 8,
    "start_time": "2023-05-31T17:11:17.429Z"
   },
   {
    "duration": 165,
    "start_time": "2023-05-31T17:11:17.450Z"
   },
   {
    "duration": 3,
    "start_time": "2023-05-31T17:11:17.617Z"
   },
   {
    "duration": 6,
    "start_time": "2023-05-31T17:11:17.622Z"
   },
   {
    "duration": 27,
    "start_time": "2023-05-31T17:11:17.629Z"
   },
   {
    "duration": 19,
    "start_time": "2023-05-31T17:11:17.657Z"
   },
   {
    "duration": 29,
    "start_time": "2023-05-31T17:11:17.679Z"
   },
   {
    "duration": 13,
    "start_time": "2023-05-31T17:11:17.710Z"
   },
   {
    "duration": 45,
    "start_time": "2023-05-31T17:11:17.725Z"
   },
   {
    "duration": 459,
    "start_time": "2023-05-31T17:11:17.772Z"
   },
   {
    "duration": 207,
    "start_time": "2023-05-31T17:11:18.233Z"
   },
   {
    "duration": 13429,
    "start_time": "2023-05-31T17:11:18.442Z"
   },
   {
    "duration": 202,
    "start_time": "2023-05-31T17:11:31.877Z"
   },
   {
    "duration": 17663,
    "start_time": "2023-05-31T17:11:32.081Z"
   },
   {
    "duration": 6,
    "start_time": "2023-05-31T17:11:49.745Z"
   },
   {
    "duration": 150,
    "start_time": "2023-05-31T17:11:49.752Z"
   },
   {
    "duration": 2469,
    "start_time": "2023-05-31T17:11:49.903Z"
   },
   {
    "duration": 282,
    "start_time": "2023-05-31T17:11:52.375Z"
   },
   {
    "duration": 7,
    "start_time": "2023-05-31T17:11:52.659Z"
   },
   {
    "duration": 15,
    "start_time": "2023-05-31T17:11:52.670Z"
   },
   {
    "duration": 1243,
    "start_time": "2023-05-31T17:11:52.691Z"
   },
   {
    "duration": 1259,
    "start_time": "2023-05-31T17:12:33.623Z"
   },
   {
    "duration": 1092,
    "start_time": "2023-05-31T17:12:51.077Z"
   },
   {
    "duration": 1099,
    "start_time": "2023-05-31T17:12:58.172Z"
   },
   {
    "duration": 1161,
    "start_time": "2023-05-31T17:13:13.725Z"
   },
   {
    "duration": 1071,
    "start_time": "2023-05-31T17:13:26.205Z"
   },
   {
    "duration": 1161,
    "start_time": "2023-05-31T17:13:32.838Z"
   },
   {
    "duration": 1125,
    "start_time": "2023-05-31T17:13:58.541Z"
   },
   {
    "duration": 1194,
    "start_time": "2023-05-31T17:14:04.388Z"
   },
   {
    "duration": 1383,
    "start_time": "2023-05-31T17:15:05.086Z"
   },
   {
    "duration": 55,
    "start_time": "2023-05-31T17:15:06.471Z"
   },
   {
    "duration": 14,
    "start_time": "2023-05-31T17:15:06.528Z"
   },
   {
    "duration": 27,
    "start_time": "2023-05-31T17:15:06.545Z"
   },
   {
    "duration": 13,
    "start_time": "2023-05-31T17:15:06.577Z"
   },
   {
    "duration": 20,
    "start_time": "2023-05-31T17:15:06.591Z"
   },
   {
    "duration": 50,
    "start_time": "2023-05-31T17:15:06.613Z"
   },
   {
    "duration": 29,
    "start_time": "2023-05-31T17:15:06.665Z"
   },
   {
    "duration": 188,
    "start_time": "2023-05-31T17:15:06.696Z"
   },
   {
    "duration": 2,
    "start_time": "2023-05-31T17:15:06.887Z"
   },
   {
    "duration": 6,
    "start_time": "2023-05-31T17:15:06.891Z"
   },
   {
    "duration": 6,
    "start_time": "2023-05-31T17:15:06.898Z"
   },
   {
    "duration": 16,
    "start_time": "2023-05-31T17:15:06.905Z"
   },
   {
    "duration": 43,
    "start_time": "2023-05-31T17:15:06.923Z"
   },
   {
    "duration": 17,
    "start_time": "2023-05-31T17:15:06.971Z"
   },
   {
    "duration": 28,
    "start_time": "2023-05-31T17:15:06.990Z"
   },
   {
    "duration": 495,
    "start_time": "2023-05-31T17:15:07.019Z"
   },
   {
    "duration": 217,
    "start_time": "2023-05-31T17:15:07.515Z"
   },
   {
    "duration": 12637,
    "start_time": "2023-05-31T17:15:07.733Z"
   },
   {
    "duration": 231,
    "start_time": "2023-05-31T17:15:20.379Z"
   },
   {
    "duration": 18058,
    "start_time": "2023-05-31T17:15:20.611Z"
   },
   {
    "duration": 3,
    "start_time": "2023-05-31T17:15:38.676Z"
   },
   {
    "duration": 144,
    "start_time": "2023-05-31T17:15:38.681Z"
   },
   {
    "duration": 2352,
    "start_time": "2023-05-31T17:15:38.827Z"
   },
   {
    "duration": 361,
    "start_time": "2023-05-31T17:15:41.185Z"
   },
   {
    "duration": 9,
    "start_time": "2023-05-31T17:15:41.550Z"
   },
   {
    "duration": 20,
    "start_time": "2023-05-31T17:15:41.561Z"
   },
   {
    "duration": 1219,
    "start_time": "2023-05-31T17:15:41.585Z"
   },
   {
    "duration": 0,
    "start_time": "2023-05-31T17:15:42.806Z"
   },
   {
    "duration": 0,
    "start_time": "2023-05-31T17:15:42.807Z"
   },
   {
    "duration": 0,
    "start_time": "2023-05-31T17:15:42.809Z"
   },
   {
    "duration": 0,
    "start_time": "2023-05-31T17:15:42.811Z"
   },
   {
    "duration": 0,
    "start_time": "2023-05-31T17:15:42.812Z"
   },
   {
    "duration": 0,
    "start_time": "2023-05-31T17:15:42.814Z"
   },
   {
    "duration": 16,
    "start_time": "2023-05-31T17:16:56.916Z"
   },
   {
    "duration": 1332,
    "start_time": "2023-05-31T17:16:59.227Z"
   },
   {
    "duration": 13,
    "start_time": "2023-05-31T17:19:35.617Z"
   },
   {
    "duration": 14,
    "start_time": "2023-05-31T17:19:38.786Z"
   },
   {
    "duration": 1727,
    "start_time": "2023-05-31T17:19:46.788Z"
   },
   {
    "duration": 56,
    "start_time": "2023-05-31T17:19:48.517Z"
   },
   {
    "duration": 17,
    "start_time": "2023-05-31T17:19:48.575Z"
   },
   {
    "duration": 23,
    "start_time": "2023-05-31T17:19:48.595Z"
   },
   {
    "duration": 6,
    "start_time": "2023-05-31T17:19:48.621Z"
   },
   {
    "duration": 9,
    "start_time": "2023-05-31T17:19:48.629Z"
   },
   {
    "duration": 8,
    "start_time": "2023-05-31T17:19:48.650Z"
   },
   {
    "duration": 9,
    "start_time": "2023-05-31T17:19:48.661Z"
   },
   {
    "duration": 226,
    "start_time": "2023-05-31T17:19:48.671Z"
   },
   {
    "duration": 2,
    "start_time": "2023-05-31T17:19:48.898Z"
   },
   {
    "duration": 10,
    "start_time": "2023-05-31T17:19:48.903Z"
   },
   {
    "duration": 9,
    "start_time": "2023-05-31T17:19:48.915Z"
   },
   {
    "duration": 14,
    "start_time": "2023-05-31T17:19:48.925Z"
   },
   {
    "duration": 33,
    "start_time": "2023-05-31T17:19:48.942Z"
   },
   {
    "duration": 24,
    "start_time": "2023-05-31T17:19:48.977Z"
   },
   {
    "duration": 30,
    "start_time": "2023-05-31T17:19:49.004Z"
   },
   {
    "duration": 532,
    "start_time": "2023-05-31T17:19:49.035Z"
   },
   {
    "duration": 235,
    "start_time": "2023-05-31T17:19:49.573Z"
   },
   {
    "duration": 12969,
    "start_time": "2023-05-31T17:19:49.810Z"
   },
   {
    "duration": 222,
    "start_time": "2023-05-31T17:20:02.781Z"
   },
   {
    "duration": 18517,
    "start_time": "2023-05-31T17:20:03.004Z"
   },
   {
    "duration": 2,
    "start_time": "2023-05-31T17:20:21.524Z"
   },
   {
    "duration": 171,
    "start_time": "2023-05-31T17:20:21.528Z"
   },
   {
    "duration": 2453,
    "start_time": "2023-05-31T17:20:21.701Z"
   },
   {
    "duration": 365,
    "start_time": "2023-05-31T17:20:24.159Z"
   },
   {
    "duration": 4,
    "start_time": "2023-05-31T17:20:24.528Z"
   },
   {
    "duration": 34,
    "start_time": "2023-05-31T17:20:24.535Z"
   },
   {
    "duration": 1216,
    "start_time": "2023-05-31T17:20:24.571Z"
   },
   {
    "duration": 5,
    "start_time": "2023-05-31T17:20:25.789Z"
   },
   {
    "duration": 21,
    "start_time": "2023-05-31T17:20:25.796Z"
   },
   {
    "duration": 569,
    "start_time": "2023-05-31T17:20:25.819Z"
   },
   {
    "duration": 0,
    "start_time": "2023-05-31T17:20:26.391Z"
   },
   {
    "duration": 0,
    "start_time": "2023-05-31T17:20:26.392Z"
   },
   {
    "duration": 0,
    "start_time": "2023-05-31T17:20:26.394Z"
   },
   {
    "duration": 480,
    "start_time": "2023-05-31T17:21:06.278Z"
   },
   {
    "duration": 75,
    "start_time": "2023-05-31T17:21:51.320Z"
   },
   {
    "duration": 15,
    "start_time": "2023-05-31T17:24:22.224Z"
   },
   {
    "duration": 603,
    "start_time": "2023-05-31T17:24:22.241Z"
   },
   {
    "duration": 570,
    "start_time": "2023-05-31T17:24:22.845Z"
   },
   {
    "duration": 78,
    "start_time": "2023-05-31T17:24:23.417Z"
   },
   {
    "duration": 164,
    "start_time": "2023-05-31T17:24:23.498Z"
   },
   {
    "duration": 471,
    "start_time": "2023-05-31T17:24:35.199Z"
   },
   {
    "duration": 501,
    "start_time": "2023-05-31T17:24:39.646Z"
   },
   {
    "duration": 589,
    "start_time": "2023-05-31T17:24:44.311Z"
   },
   {
    "duration": 1282,
    "start_time": "2023-05-31T17:25:21.200Z"
   },
   {
    "duration": 1281,
    "start_time": "2023-05-31T17:25:25.734Z"
   },
   {
    "duration": 1321,
    "start_time": "2023-05-31T17:25:30.201Z"
   },
   {
    "duration": 66,
    "start_time": "2023-05-31T17:29:47.746Z"
   },
   {
    "duration": 1451,
    "start_time": "2023-05-31T17:29:55.505Z"
   },
   {
    "duration": 48,
    "start_time": "2023-05-31T17:29:56.962Z"
   },
   {
    "duration": 15,
    "start_time": "2023-05-31T17:29:57.011Z"
   },
   {
    "duration": 18,
    "start_time": "2023-05-31T17:29:57.027Z"
   },
   {
    "duration": 14,
    "start_time": "2023-05-31T17:29:57.047Z"
   },
   {
    "duration": 20,
    "start_time": "2023-05-31T17:29:57.066Z"
   },
   {
    "duration": 8,
    "start_time": "2023-05-31T17:29:57.089Z"
   },
   {
    "duration": 7,
    "start_time": "2023-05-31T17:29:57.098Z"
   },
   {
    "duration": 170,
    "start_time": "2023-05-31T17:29:57.107Z"
   },
   {
    "duration": 5,
    "start_time": "2023-05-31T17:29:57.279Z"
   },
   {
    "duration": 6,
    "start_time": "2023-05-31T17:29:57.285Z"
   },
   {
    "duration": 6,
    "start_time": "2023-05-31T17:29:57.293Z"
   },
   {
    "duration": 15,
    "start_time": "2023-05-31T17:29:57.301Z"
   },
   {
    "duration": 34,
    "start_time": "2023-05-31T17:29:57.319Z"
   },
   {
    "duration": 18,
    "start_time": "2023-05-31T17:29:57.363Z"
   },
   {
    "duration": 32,
    "start_time": "2023-05-31T17:29:57.383Z"
   },
   {
    "duration": 468,
    "start_time": "2023-05-31T17:29:57.416Z"
   },
   {
    "duration": 221,
    "start_time": "2023-05-31T17:29:57.886Z"
   },
   {
    "duration": 12254,
    "start_time": "2023-05-31T17:29:58.108Z"
   },
   {
    "duration": 222,
    "start_time": "2023-05-31T17:30:10.363Z"
   },
   {
    "duration": 18192,
    "start_time": "2023-05-31T17:30:10.586Z"
   },
   {
    "duration": 3,
    "start_time": "2023-05-31T17:30:28.782Z"
   },
   {
    "duration": 146,
    "start_time": "2023-05-31T17:30:28.786Z"
   },
   {
    "duration": 2448,
    "start_time": "2023-05-31T17:30:28.934Z"
   },
   {
    "duration": 399,
    "start_time": "2023-05-31T17:30:31.384Z"
   },
   {
    "duration": 5,
    "start_time": "2023-05-31T17:30:31.785Z"
   },
   {
    "duration": 23,
    "start_time": "2023-05-31T17:30:31.791Z"
   },
   {
    "duration": 1355,
    "start_time": "2023-05-31T17:30:31.816Z"
   },
   {
    "duration": 5,
    "start_time": "2023-05-31T17:30:33.183Z"
   },
   {
    "duration": 16,
    "start_time": "2023-05-31T17:30:33.189Z"
   },
   {
    "duration": 464,
    "start_time": "2023-05-31T17:30:33.206Z"
   },
   {
    "duration": 1122,
    "start_time": "2023-05-31T17:30:33.672Z"
   },
   {
    "duration": 85,
    "start_time": "2023-05-31T17:30:34.795Z"
   },
   {
    "duration": 121,
    "start_time": "2023-05-31T17:30:34.884Z"
   },
   {
    "duration": 43,
    "start_time": "2023-06-01T11:27:59.657Z"
   },
   {
    "duration": 1438,
    "start_time": "2023-06-01T11:28:06.065Z"
   },
   {
    "duration": 365,
    "start_time": "2023-06-01T11:28:07.505Z"
   },
   {
    "duration": 13,
    "start_time": "2023-06-01T11:28:07.872Z"
   },
   {
    "duration": 20,
    "start_time": "2023-06-01T11:28:07.886Z"
   },
   {
    "duration": 7,
    "start_time": "2023-06-01T11:28:07.911Z"
   },
   {
    "duration": 15,
    "start_time": "2023-06-01T11:28:07.922Z"
   },
   {
    "duration": 19,
    "start_time": "2023-06-01T11:28:07.938Z"
   },
   {
    "duration": 15,
    "start_time": "2023-06-01T11:28:07.959Z"
   },
   {
    "duration": 171,
    "start_time": "2023-06-01T11:28:07.975Z"
   },
   {
    "duration": 2,
    "start_time": "2023-06-01T11:28:08.148Z"
   },
   {
    "duration": 17,
    "start_time": "2023-06-01T11:28:08.152Z"
   },
   {
    "duration": 12,
    "start_time": "2023-06-01T11:28:08.171Z"
   },
   {
    "duration": 26,
    "start_time": "2023-06-01T11:28:08.184Z"
   },
   {
    "duration": 30,
    "start_time": "2023-06-01T11:28:08.213Z"
   },
   {
    "duration": 13,
    "start_time": "2023-06-01T11:28:08.245Z"
   },
   {
    "duration": 38,
    "start_time": "2023-06-01T11:28:08.260Z"
   },
   {
    "duration": 419,
    "start_time": "2023-06-01T11:28:08.300Z"
   },
   {
    "duration": 171,
    "start_time": "2023-06-01T11:28:08.724Z"
   },
   {
    "duration": 10454,
    "start_time": "2023-06-01T11:28:08.897Z"
   },
   {
    "duration": 175,
    "start_time": "2023-06-01T11:28:19.352Z"
   },
   {
    "duration": 15353,
    "start_time": "2023-06-01T11:28:19.529Z"
   },
   {
    "duration": 2,
    "start_time": "2023-06-01T11:28:34.883Z"
   },
   {
    "duration": 144,
    "start_time": "2023-06-01T11:28:34.887Z"
   },
   {
    "duration": 2380,
    "start_time": "2023-06-01T11:28:35.032Z"
   },
   {
    "duration": 276,
    "start_time": "2023-06-01T11:28:37.414Z"
   },
   {
    "duration": 4,
    "start_time": "2023-06-01T11:28:37.691Z"
   },
   {
    "duration": 261,
    "start_time": "2023-06-01T11:28:37.711Z"
   },
   {
    "duration": 1004,
    "start_time": "2023-06-01T11:28:37.973Z"
   },
   {
    "duration": 4,
    "start_time": "2023-06-01T11:28:38.978Z"
   },
   {
    "duration": 23,
    "start_time": "2023-06-01T11:28:38.983Z"
   },
   {
    "duration": 408,
    "start_time": "2023-06-01T11:28:39.010Z"
   },
   {
    "duration": 973,
    "start_time": "2023-06-01T11:28:39.425Z"
   },
   {
    "duration": 61,
    "start_time": "2023-06-01T11:28:40.399Z"
   },
   {
    "duration": 121,
    "start_time": "2023-06-01T11:28:40.461Z"
   },
   {
    "duration": 434,
    "start_time": "2023-06-01T11:32:59.852Z"
   },
   {
    "duration": 2041,
    "start_time": "2023-06-01T13:59:45.818Z"
   },
   {
    "duration": 374,
    "start_time": "2023-06-01T13:59:47.862Z"
   },
   {
    "duration": 14,
    "start_time": "2023-06-01T13:59:48.238Z"
   },
   {
    "duration": 28,
    "start_time": "2023-06-01T13:59:48.254Z"
   },
   {
    "duration": 6,
    "start_time": "2023-06-01T13:59:48.285Z"
   },
   {
    "duration": 15,
    "start_time": "2023-06-01T13:59:48.294Z"
   },
   {
    "duration": 26,
    "start_time": "2023-06-01T13:59:48.311Z"
   },
   {
    "duration": 9,
    "start_time": "2023-06-01T13:59:48.340Z"
   },
   {
    "duration": 206,
    "start_time": "2023-06-01T13:59:48.351Z"
   },
   {
    "duration": 3,
    "start_time": "2023-06-01T13:59:48.561Z"
   },
   {
    "duration": 5,
    "start_time": "2023-06-01T13:59:48.566Z"
   },
   {
    "duration": 8,
    "start_time": "2023-06-01T13:59:48.573Z"
   },
   {
    "duration": 16,
    "start_time": "2023-06-01T13:59:48.583Z"
   },
   {
    "duration": 55,
    "start_time": "2023-06-01T13:59:48.601Z"
   },
   {
    "duration": 13,
    "start_time": "2023-06-01T13:59:48.658Z"
   },
   {
    "duration": 27,
    "start_time": "2023-06-01T13:59:48.673Z"
   },
   {
    "duration": 501,
    "start_time": "2023-06-01T13:59:48.702Z"
   },
   {
    "duration": 195,
    "start_time": "2023-06-01T13:59:49.205Z"
   },
   {
    "duration": 11855,
    "start_time": "2023-06-01T13:59:49.403Z"
   },
   {
    "duration": 309,
    "start_time": "2023-06-01T14:00:01.261Z"
   },
   {
    "duration": 17354,
    "start_time": "2023-06-01T14:00:01.572Z"
   },
   {
    "duration": 3,
    "start_time": "2023-06-01T14:00:18.927Z"
   },
   {
    "duration": 182,
    "start_time": "2023-06-01T14:00:18.932Z"
   },
   {
    "duration": 2811,
    "start_time": "2023-06-01T14:00:19.116Z"
   },
   {
    "duration": 360,
    "start_time": "2023-06-01T14:00:21.929Z"
   },
   {
    "duration": 4,
    "start_time": "2023-06-01T14:00:22.291Z"
   },
   {
    "duration": 36,
    "start_time": "2023-06-01T14:00:22.297Z"
   },
   {
    "duration": 1078,
    "start_time": "2023-06-01T14:00:22.336Z"
   },
   {
    "duration": 9,
    "start_time": "2023-06-01T14:00:23.416Z"
   },
   {
    "duration": 41,
    "start_time": "2023-06-01T14:00:23.427Z"
   },
   {
    "duration": 441,
    "start_time": "2023-06-01T14:00:23.470Z"
   },
   {
    "duration": 1025,
    "start_time": "2023-06-01T14:00:23.914Z"
   },
   {
    "duration": 61,
    "start_time": "2023-06-01T14:00:24.941Z"
   },
   {
    "duration": 140,
    "start_time": "2023-06-01T14:00:25.004Z"
   }
  ],
  "kernelspec": {
   "display_name": "Python 3 (ipykernel)",
   "language": "python",
   "name": "python3"
  },
  "language_info": {
   "codemirror_mode": {
    "name": "ipython",
    "version": 3
   },
   "file_extension": ".py",
   "mimetype": "text/x-python",
   "name": "python",
   "nbconvert_exporter": "python",
   "pygments_lexer": "ipython3",
   "version": "3.11.4"
  },
  "toc": {
   "base_numbering": 1,
   "nav_menu": {},
   "number_sections": true,
   "sideBar": true,
   "skip_h1_title": true,
   "title_cell": "Содержание",
   "title_sidebar": "Contents",
   "toc_cell": true,
   "toc_position": {
    "height": "calc(100% - 180px)",
    "left": "10px",
    "top": "150px",
    "width": "165px"
   },
   "toc_section_display": true,
   "toc_window_display": true
  }
 },
 "nbformat": 4,
 "nbformat_minor": 2
}
